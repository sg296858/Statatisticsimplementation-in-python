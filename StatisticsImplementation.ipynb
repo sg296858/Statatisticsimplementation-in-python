{
  "nbformat": 4,
  "nbformat_minor": 0,
  "metadata": {
    "colab": {
      "provenance": [],
      "toc_visible": true
    },
    "kernelspec": {
      "name": "python3",
      "display_name": "Python 3"
    },
    "language_info": {
      "name": "python"
    }
  },
  "cells": [
    {
      "cell_type": "markdown",
      "source": [
        "#Statistics Implementation"
      ],
      "metadata": {
        "id": "g3FqT1ieJSu_"
      }
    },
    {
      "cell_type": "code",
      "source": [
        "data=[1,2,3,4,5]\n",
        "data"
      ],
      "metadata": {
        "colab": {
          "base_uri": "https://localhost:8080/"
        },
        "id": "XPta0Xh3JWyz",
        "outputId": "fa981633-0ea5-439e-ce5c-b5239b53d756"
      },
      "execution_count": 1,
      "outputs": [
        {
          "output_type": "execute_result",
          "data": {
            "text/plain": [
              "[1, 2, 3, 4, 5]"
            ]
          },
          "metadata": {},
          "execution_count": 1
        }
      ]
    },
    {
      "cell_type": "code",
      "source": [
        "import numpy as np\n",
        "import pandas as pd\n",
        "import matplotlib.pyplot as plt\n",
        "import seaborn as sns"
      ],
      "metadata": {
        "id": "-mrwybm9K_Ku"
      },
      "execution_count": 2,
      "outputs": []
    },
    {
      "cell_type": "code",
      "source": [
        "#Measures of central tendency"
      ],
      "metadata": {
        "id": "K99fpLCQKlJk"
      },
      "execution_count": 3,
      "outputs": []
    },
    {
      "cell_type": "code",
      "source": [
        "np.mean(data)"
      ],
      "metadata": {
        "colab": {
          "base_uri": "https://localhost:8080/"
        },
        "id": "jXvY67TFL-Pr",
        "outputId": "6292c70e-c454-4ec8-d745-16be5c6adfe6"
      },
      "execution_count": 4,
      "outputs": [
        {
          "output_type": "execute_result",
          "data": {
            "text/plain": [
              "3.0"
            ]
          },
          "metadata": {},
          "execution_count": 4
        }
      ]
    },
    {
      "cell_type": "code",
      "source": [
        "df=pd.DataFrame(data)\n",
        "df"
      ],
      "metadata": {
        "colab": {
          "base_uri": "https://localhost:8080/",
          "height": 206
        },
        "id": "rkKU1eXXLrTG",
        "outputId": "b9eddf99-623e-434c-8f8f-89f6b2299833"
      },
      "execution_count": 5,
      "outputs": [
        {
          "output_type": "execute_result",
          "data": {
            "text/plain": [
              "   0\n",
              "0  1\n",
              "1  2\n",
              "2  3\n",
              "3  4\n",
              "4  5"
            ],
            "text/html": [
              "\n",
              "  <div id=\"df-5dd0ea67-3e21-4a25-99c4-ae51cf539177\" class=\"colab-df-container\">\n",
              "    <div>\n",
              "<style scoped>\n",
              "    .dataframe tbody tr th:only-of-type {\n",
              "        vertical-align: middle;\n",
              "    }\n",
              "\n",
              "    .dataframe tbody tr th {\n",
              "        vertical-align: top;\n",
              "    }\n",
              "\n",
              "    .dataframe thead th {\n",
              "        text-align: right;\n",
              "    }\n",
              "</style>\n",
              "<table border=\"1\" class=\"dataframe\">\n",
              "  <thead>\n",
              "    <tr style=\"text-align: right;\">\n",
              "      <th></th>\n",
              "      <th>0</th>\n",
              "    </tr>\n",
              "  </thead>\n",
              "  <tbody>\n",
              "    <tr>\n",
              "      <th>0</th>\n",
              "      <td>1</td>\n",
              "    </tr>\n",
              "    <tr>\n",
              "      <th>1</th>\n",
              "      <td>2</td>\n",
              "    </tr>\n",
              "    <tr>\n",
              "      <th>2</th>\n",
              "      <td>3</td>\n",
              "    </tr>\n",
              "    <tr>\n",
              "      <th>3</th>\n",
              "      <td>4</td>\n",
              "    </tr>\n",
              "    <tr>\n",
              "      <th>4</th>\n",
              "      <td>5</td>\n",
              "    </tr>\n",
              "  </tbody>\n",
              "</table>\n",
              "</div>\n",
              "    <div class=\"colab-df-buttons\">\n",
              "\n",
              "  <div class=\"colab-df-container\">\n",
              "    <button class=\"colab-df-convert\" onclick=\"convertToInteractive('df-5dd0ea67-3e21-4a25-99c4-ae51cf539177')\"\n",
              "            title=\"Convert this dataframe to an interactive table.\"\n",
              "            style=\"display:none;\">\n",
              "\n",
              "  <svg xmlns=\"http://www.w3.org/2000/svg\" height=\"24px\" viewBox=\"0 -960 960 960\">\n",
              "    <path d=\"M120-120v-720h720v720H120Zm60-500h600v-160H180v160Zm220 220h160v-160H400v160Zm0 220h160v-160H400v160ZM180-400h160v-160H180v160Zm440 0h160v-160H620v160ZM180-180h160v-160H180v160Zm440 0h160v-160H620v160Z\"/>\n",
              "  </svg>\n",
              "    </button>\n",
              "\n",
              "  <style>\n",
              "    .colab-df-container {\n",
              "      display:flex;\n",
              "      gap: 12px;\n",
              "    }\n",
              "\n",
              "    .colab-df-convert {\n",
              "      background-color: #E8F0FE;\n",
              "      border: none;\n",
              "      border-radius: 50%;\n",
              "      cursor: pointer;\n",
              "      display: none;\n",
              "      fill: #1967D2;\n",
              "      height: 32px;\n",
              "      padding: 0 0 0 0;\n",
              "      width: 32px;\n",
              "    }\n",
              "\n",
              "    .colab-df-convert:hover {\n",
              "      background-color: #E2EBFA;\n",
              "      box-shadow: 0px 1px 2px rgba(60, 64, 67, 0.3), 0px 1px 3px 1px rgba(60, 64, 67, 0.15);\n",
              "      fill: #174EA6;\n",
              "    }\n",
              "\n",
              "    .colab-df-buttons div {\n",
              "      margin-bottom: 4px;\n",
              "    }\n",
              "\n",
              "    [theme=dark] .colab-df-convert {\n",
              "      background-color: #3B4455;\n",
              "      fill: #D2E3FC;\n",
              "    }\n",
              "\n",
              "    [theme=dark] .colab-df-convert:hover {\n",
              "      background-color: #434B5C;\n",
              "      box-shadow: 0px 1px 3px 1px rgba(0, 0, 0, 0.15);\n",
              "      filter: drop-shadow(0px 1px 2px rgba(0, 0, 0, 0.3));\n",
              "      fill: #FFFFFF;\n",
              "    }\n",
              "  </style>\n",
              "\n",
              "    <script>\n",
              "      const buttonEl =\n",
              "        document.querySelector('#df-5dd0ea67-3e21-4a25-99c4-ae51cf539177 button.colab-df-convert');\n",
              "      buttonEl.style.display =\n",
              "        google.colab.kernel.accessAllowed ? 'block' : 'none';\n",
              "\n",
              "      async function convertToInteractive(key) {\n",
              "        const element = document.querySelector('#df-5dd0ea67-3e21-4a25-99c4-ae51cf539177');\n",
              "        const dataTable =\n",
              "          await google.colab.kernel.invokeFunction('convertToInteractive',\n",
              "                                                    [key], {});\n",
              "        if (!dataTable) return;\n",
              "\n",
              "        const docLinkHtml = 'Like what you see? Visit the ' +\n",
              "          '<a target=\"_blank\" href=https://colab.research.google.com/notebooks/data_table.ipynb>data table notebook</a>'\n",
              "          + ' to learn more about interactive tables.';\n",
              "        element.innerHTML = '';\n",
              "        dataTable['output_type'] = 'display_data';\n",
              "        await google.colab.output.renderOutput(dataTable, element);\n",
              "        const docLink = document.createElement('div');\n",
              "        docLink.innerHTML = docLinkHtml;\n",
              "        element.appendChild(docLink);\n",
              "      }\n",
              "    </script>\n",
              "  </div>\n",
              "\n",
              "\n",
              "<div id=\"df-0836d15a-dd26-4058-8eda-e24341153232\">\n",
              "  <button class=\"colab-df-quickchart\" onclick=\"quickchart('df-0836d15a-dd26-4058-8eda-e24341153232')\"\n",
              "            title=\"Suggest charts\"\n",
              "            style=\"display:none;\">\n",
              "\n",
              "<svg xmlns=\"http://www.w3.org/2000/svg\" height=\"24px\"viewBox=\"0 0 24 24\"\n",
              "     width=\"24px\">\n",
              "    <g>\n",
              "        <path d=\"M19 3H5c-1.1 0-2 .9-2 2v14c0 1.1.9 2 2 2h14c1.1 0 2-.9 2-2V5c0-1.1-.9-2-2-2zM9 17H7v-7h2v7zm4 0h-2V7h2v10zm4 0h-2v-4h2v4z\"/>\n",
              "    </g>\n",
              "</svg>\n",
              "  </button>\n",
              "\n",
              "<style>\n",
              "  .colab-df-quickchart {\n",
              "      --bg-color: #E8F0FE;\n",
              "      --fill-color: #1967D2;\n",
              "      --hover-bg-color: #E2EBFA;\n",
              "      --hover-fill-color: #174EA6;\n",
              "      --disabled-fill-color: #AAA;\n",
              "      --disabled-bg-color: #DDD;\n",
              "  }\n",
              "\n",
              "  [theme=dark] .colab-df-quickchart {\n",
              "      --bg-color: #3B4455;\n",
              "      --fill-color: #D2E3FC;\n",
              "      --hover-bg-color: #434B5C;\n",
              "      --hover-fill-color: #FFFFFF;\n",
              "      --disabled-bg-color: #3B4455;\n",
              "      --disabled-fill-color: #666;\n",
              "  }\n",
              "\n",
              "  .colab-df-quickchart {\n",
              "    background-color: var(--bg-color);\n",
              "    border: none;\n",
              "    border-radius: 50%;\n",
              "    cursor: pointer;\n",
              "    display: none;\n",
              "    fill: var(--fill-color);\n",
              "    height: 32px;\n",
              "    padding: 0;\n",
              "    width: 32px;\n",
              "  }\n",
              "\n",
              "  .colab-df-quickchart:hover {\n",
              "    background-color: var(--hover-bg-color);\n",
              "    box-shadow: 0 1px 2px rgba(60, 64, 67, 0.3), 0 1px 3px 1px rgba(60, 64, 67, 0.15);\n",
              "    fill: var(--button-hover-fill-color);\n",
              "  }\n",
              "\n",
              "  .colab-df-quickchart-complete:disabled,\n",
              "  .colab-df-quickchart-complete:disabled:hover {\n",
              "    background-color: var(--disabled-bg-color);\n",
              "    fill: var(--disabled-fill-color);\n",
              "    box-shadow: none;\n",
              "  }\n",
              "\n",
              "  .colab-df-spinner {\n",
              "    border: 2px solid var(--fill-color);\n",
              "    border-color: transparent;\n",
              "    border-bottom-color: var(--fill-color);\n",
              "    animation:\n",
              "      spin 1s steps(1) infinite;\n",
              "  }\n",
              "\n",
              "  @keyframes spin {\n",
              "    0% {\n",
              "      border-color: transparent;\n",
              "      border-bottom-color: var(--fill-color);\n",
              "      border-left-color: var(--fill-color);\n",
              "    }\n",
              "    20% {\n",
              "      border-color: transparent;\n",
              "      border-left-color: var(--fill-color);\n",
              "      border-top-color: var(--fill-color);\n",
              "    }\n",
              "    30% {\n",
              "      border-color: transparent;\n",
              "      border-left-color: var(--fill-color);\n",
              "      border-top-color: var(--fill-color);\n",
              "      border-right-color: var(--fill-color);\n",
              "    }\n",
              "    40% {\n",
              "      border-color: transparent;\n",
              "      border-right-color: var(--fill-color);\n",
              "      border-top-color: var(--fill-color);\n",
              "    }\n",
              "    60% {\n",
              "      border-color: transparent;\n",
              "      border-right-color: var(--fill-color);\n",
              "    }\n",
              "    80% {\n",
              "      border-color: transparent;\n",
              "      border-right-color: var(--fill-color);\n",
              "      border-bottom-color: var(--fill-color);\n",
              "    }\n",
              "    90% {\n",
              "      border-color: transparent;\n",
              "      border-bottom-color: var(--fill-color);\n",
              "    }\n",
              "  }\n",
              "</style>\n",
              "\n",
              "  <script>\n",
              "    async function quickchart(key) {\n",
              "      const quickchartButtonEl =\n",
              "        document.querySelector('#' + key + ' button');\n",
              "      quickchartButtonEl.disabled = true;  // To prevent multiple clicks.\n",
              "      quickchartButtonEl.classList.add('colab-df-spinner');\n",
              "      try {\n",
              "        const charts = await google.colab.kernel.invokeFunction(\n",
              "            'suggestCharts', [key], {});\n",
              "      } catch (error) {\n",
              "        console.error('Error during call to suggestCharts:', error);\n",
              "      }\n",
              "      quickchartButtonEl.classList.remove('colab-df-spinner');\n",
              "      quickchartButtonEl.classList.add('colab-df-quickchart-complete');\n",
              "    }\n",
              "    (() => {\n",
              "      let quickchartButtonEl =\n",
              "        document.querySelector('#df-0836d15a-dd26-4058-8eda-e24341153232 button');\n",
              "      quickchartButtonEl.style.display =\n",
              "        google.colab.kernel.accessAllowed ? 'block' : 'none';\n",
              "    })();\n",
              "  </script>\n",
              "</div>\n",
              "\n",
              "  <div id=\"id_92bda03c-25cd-4648-aca3-cc37d13e35cb\">\n",
              "    <style>\n",
              "      .colab-df-generate {\n",
              "        background-color: #E8F0FE;\n",
              "        border: none;\n",
              "        border-radius: 50%;\n",
              "        cursor: pointer;\n",
              "        display: none;\n",
              "        fill: #1967D2;\n",
              "        height: 32px;\n",
              "        padding: 0 0 0 0;\n",
              "        width: 32px;\n",
              "      }\n",
              "\n",
              "      .colab-df-generate:hover {\n",
              "        background-color: #E2EBFA;\n",
              "        box-shadow: 0px 1px 2px rgba(60, 64, 67, 0.3), 0px 1px 3px 1px rgba(60, 64, 67, 0.15);\n",
              "        fill: #174EA6;\n",
              "      }\n",
              "\n",
              "      [theme=dark] .colab-df-generate {\n",
              "        background-color: #3B4455;\n",
              "        fill: #D2E3FC;\n",
              "      }\n",
              "\n",
              "      [theme=dark] .colab-df-generate:hover {\n",
              "        background-color: #434B5C;\n",
              "        box-shadow: 0px 1px 3px 1px rgba(0, 0, 0, 0.15);\n",
              "        filter: drop-shadow(0px 1px 2px rgba(0, 0, 0, 0.3));\n",
              "        fill: #FFFFFF;\n",
              "      }\n",
              "    </style>\n",
              "    <button class=\"colab-df-generate\" onclick=\"generateWithVariable('df')\"\n",
              "            title=\"Generate code using this dataframe.\"\n",
              "            style=\"display:none;\">\n",
              "\n",
              "  <svg xmlns=\"http://www.w3.org/2000/svg\" height=\"24px\"viewBox=\"0 0 24 24\"\n",
              "       width=\"24px\">\n",
              "    <path d=\"M7,19H8.4L18.45,9,17,7.55,7,17.6ZM5,21V16.75L18.45,3.32a2,2,0,0,1,2.83,0l1.4,1.43a1.91,1.91,0,0,1,.58,1.4,1.91,1.91,0,0,1-.58,1.4L9.25,21ZM18.45,9,17,7.55Zm-12,3A5.31,5.31,0,0,0,4.9,8.1,5.31,5.31,0,0,0,1,6.5,5.31,5.31,0,0,0,4.9,4.9,5.31,5.31,0,0,0,6.5,1,5.31,5.31,0,0,0,8.1,4.9,5.31,5.31,0,0,0,12,6.5,5.46,5.46,0,0,0,6.5,12Z\"/>\n",
              "  </svg>\n",
              "    </button>\n",
              "    <script>\n",
              "      (() => {\n",
              "      const buttonEl =\n",
              "        document.querySelector('#id_92bda03c-25cd-4648-aca3-cc37d13e35cb button.colab-df-generate');\n",
              "      buttonEl.style.display =\n",
              "        google.colab.kernel.accessAllowed ? 'block' : 'none';\n",
              "\n",
              "      buttonEl.onclick = () => {\n",
              "        google.colab.notebook.generateWithVariable('df');\n",
              "      }\n",
              "      })();\n",
              "    </script>\n",
              "  </div>\n",
              "\n",
              "    </div>\n",
              "  </div>\n"
            ],
            "application/vnd.google.colaboratory.intrinsic+json": {
              "type": "dataframe",
              "variable_name": "df",
              "summary": "{\n  \"name\": \"df\",\n  \"rows\": 5,\n  \"fields\": [\n    {\n      \"column\": 0,\n      \"properties\": {\n        \"dtype\": \"number\",\n        \"std\": 1,\n        \"min\": 1,\n        \"max\": 5,\n        \"num_unique_values\": 5,\n        \"samples\": [\n          2,\n          5,\n          3\n        ],\n        \"semantic_type\": \"\",\n        \"description\": \"\"\n      }\n    }\n  ]\n}"
            }
          },
          "metadata": {},
          "execution_count": 5
        }
      ]
    },
    {
      "cell_type": "code",
      "source": [
        "df.mean()"
      ],
      "metadata": {
        "colab": {
          "base_uri": "https://localhost:8080/"
        },
        "id": "Ka9YbMzBLwZH",
        "outputId": "9ac16fd1-e672-45a7-82c7-ae14f8527d58"
      },
      "execution_count": 6,
      "outputs": [
        {
          "output_type": "execute_result",
          "data": {
            "text/plain": [
              "0    3.0\n",
              "dtype: float64"
            ]
          },
          "metadata": {},
          "execution_count": 6
        }
      ]
    },
    {
      "cell_type": "code",
      "source": [
        "df=sns.load_dataset(\"tips\")\n",
        "df"
      ],
      "metadata": {
        "colab": {
          "base_uri": "https://localhost:8080/",
          "height": 424
        },
        "id": "G_VNpGE_MCOX",
        "outputId": "d71c5166-cbe2-4164-ad9e-9419de098fad"
      },
      "execution_count": 7,
      "outputs": [
        {
          "output_type": "execute_result",
          "data": {
            "text/plain": [
              "     total_bill   tip     sex smoker   day    time  size\n",
              "0         16.99  1.01  Female     No   Sun  Dinner     2\n",
              "1         10.34  1.66    Male     No   Sun  Dinner     3\n",
              "2         21.01  3.50    Male     No   Sun  Dinner     3\n",
              "3         23.68  3.31    Male     No   Sun  Dinner     2\n",
              "4         24.59  3.61  Female     No   Sun  Dinner     4\n",
              "..          ...   ...     ...    ...   ...     ...   ...\n",
              "239       29.03  5.92    Male     No   Sat  Dinner     3\n",
              "240       27.18  2.00  Female    Yes   Sat  Dinner     2\n",
              "241       22.67  2.00    Male    Yes   Sat  Dinner     2\n",
              "242       17.82  1.75    Male     No   Sat  Dinner     2\n",
              "243       18.78  3.00  Female     No  Thur  Dinner     2\n",
              "\n",
              "[244 rows x 7 columns]"
            ],
            "text/html": [
              "\n",
              "  <div id=\"df-3b7eea57-1325-4905-859f-d803e38978d3\" class=\"colab-df-container\">\n",
              "    <div>\n",
              "<style scoped>\n",
              "    .dataframe tbody tr th:only-of-type {\n",
              "        vertical-align: middle;\n",
              "    }\n",
              "\n",
              "    .dataframe tbody tr th {\n",
              "        vertical-align: top;\n",
              "    }\n",
              "\n",
              "    .dataframe thead th {\n",
              "        text-align: right;\n",
              "    }\n",
              "</style>\n",
              "<table border=\"1\" class=\"dataframe\">\n",
              "  <thead>\n",
              "    <tr style=\"text-align: right;\">\n",
              "      <th></th>\n",
              "      <th>total_bill</th>\n",
              "      <th>tip</th>\n",
              "      <th>sex</th>\n",
              "      <th>smoker</th>\n",
              "      <th>day</th>\n",
              "      <th>time</th>\n",
              "      <th>size</th>\n",
              "    </tr>\n",
              "  </thead>\n",
              "  <tbody>\n",
              "    <tr>\n",
              "      <th>0</th>\n",
              "      <td>16.99</td>\n",
              "      <td>1.01</td>\n",
              "      <td>Female</td>\n",
              "      <td>No</td>\n",
              "      <td>Sun</td>\n",
              "      <td>Dinner</td>\n",
              "      <td>2</td>\n",
              "    </tr>\n",
              "    <tr>\n",
              "      <th>1</th>\n",
              "      <td>10.34</td>\n",
              "      <td>1.66</td>\n",
              "      <td>Male</td>\n",
              "      <td>No</td>\n",
              "      <td>Sun</td>\n",
              "      <td>Dinner</td>\n",
              "      <td>3</td>\n",
              "    </tr>\n",
              "    <tr>\n",
              "      <th>2</th>\n",
              "      <td>21.01</td>\n",
              "      <td>3.50</td>\n",
              "      <td>Male</td>\n",
              "      <td>No</td>\n",
              "      <td>Sun</td>\n",
              "      <td>Dinner</td>\n",
              "      <td>3</td>\n",
              "    </tr>\n",
              "    <tr>\n",
              "      <th>3</th>\n",
              "      <td>23.68</td>\n",
              "      <td>3.31</td>\n",
              "      <td>Male</td>\n",
              "      <td>No</td>\n",
              "      <td>Sun</td>\n",
              "      <td>Dinner</td>\n",
              "      <td>2</td>\n",
              "    </tr>\n",
              "    <tr>\n",
              "      <th>4</th>\n",
              "      <td>24.59</td>\n",
              "      <td>3.61</td>\n",
              "      <td>Female</td>\n",
              "      <td>No</td>\n",
              "      <td>Sun</td>\n",
              "      <td>Dinner</td>\n",
              "      <td>4</td>\n",
              "    </tr>\n",
              "    <tr>\n",
              "      <th>...</th>\n",
              "      <td>...</td>\n",
              "      <td>...</td>\n",
              "      <td>...</td>\n",
              "      <td>...</td>\n",
              "      <td>...</td>\n",
              "      <td>...</td>\n",
              "      <td>...</td>\n",
              "    </tr>\n",
              "    <tr>\n",
              "      <th>239</th>\n",
              "      <td>29.03</td>\n",
              "      <td>5.92</td>\n",
              "      <td>Male</td>\n",
              "      <td>No</td>\n",
              "      <td>Sat</td>\n",
              "      <td>Dinner</td>\n",
              "      <td>3</td>\n",
              "    </tr>\n",
              "    <tr>\n",
              "      <th>240</th>\n",
              "      <td>27.18</td>\n",
              "      <td>2.00</td>\n",
              "      <td>Female</td>\n",
              "      <td>Yes</td>\n",
              "      <td>Sat</td>\n",
              "      <td>Dinner</td>\n",
              "      <td>2</td>\n",
              "    </tr>\n",
              "    <tr>\n",
              "      <th>241</th>\n",
              "      <td>22.67</td>\n",
              "      <td>2.00</td>\n",
              "      <td>Male</td>\n",
              "      <td>Yes</td>\n",
              "      <td>Sat</td>\n",
              "      <td>Dinner</td>\n",
              "      <td>2</td>\n",
              "    </tr>\n",
              "    <tr>\n",
              "      <th>242</th>\n",
              "      <td>17.82</td>\n",
              "      <td>1.75</td>\n",
              "      <td>Male</td>\n",
              "      <td>No</td>\n",
              "      <td>Sat</td>\n",
              "      <td>Dinner</td>\n",
              "      <td>2</td>\n",
              "    </tr>\n",
              "    <tr>\n",
              "      <th>243</th>\n",
              "      <td>18.78</td>\n",
              "      <td>3.00</td>\n",
              "      <td>Female</td>\n",
              "      <td>No</td>\n",
              "      <td>Thur</td>\n",
              "      <td>Dinner</td>\n",
              "      <td>2</td>\n",
              "    </tr>\n",
              "  </tbody>\n",
              "</table>\n",
              "<p>244 rows × 7 columns</p>\n",
              "</div>\n",
              "    <div class=\"colab-df-buttons\">\n",
              "\n",
              "  <div class=\"colab-df-container\">\n",
              "    <button class=\"colab-df-convert\" onclick=\"convertToInteractive('df-3b7eea57-1325-4905-859f-d803e38978d3')\"\n",
              "            title=\"Convert this dataframe to an interactive table.\"\n",
              "            style=\"display:none;\">\n",
              "\n",
              "  <svg xmlns=\"http://www.w3.org/2000/svg\" height=\"24px\" viewBox=\"0 -960 960 960\">\n",
              "    <path d=\"M120-120v-720h720v720H120Zm60-500h600v-160H180v160Zm220 220h160v-160H400v160Zm0 220h160v-160H400v160ZM180-400h160v-160H180v160Zm440 0h160v-160H620v160ZM180-180h160v-160H180v160Zm440 0h160v-160H620v160Z\"/>\n",
              "  </svg>\n",
              "    </button>\n",
              "\n",
              "  <style>\n",
              "    .colab-df-container {\n",
              "      display:flex;\n",
              "      gap: 12px;\n",
              "    }\n",
              "\n",
              "    .colab-df-convert {\n",
              "      background-color: #E8F0FE;\n",
              "      border: none;\n",
              "      border-radius: 50%;\n",
              "      cursor: pointer;\n",
              "      display: none;\n",
              "      fill: #1967D2;\n",
              "      height: 32px;\n",
              "      padding: 0 0 0 0;\n",
              "      width: 32px;\n",
              "    }\n",
              "\n",
              "    .colab-df-convert:hover {\n",
              "      background-color: #E2EBFA;\n",
              "      box-shadow: 0px 1px 2px rgba(60, 64, 67, 0.3), 0px 1px 3px 1px rgba(60, 64, 67, 0.15);\n",
              "      fill: #174EA6;\n",
              "    }\n",
              "\n",
              "    .colab-df-buttons div {\n",
              "      margin-bottom: 4px;\n",
              "    }\n",
              "\n",
              "    [theme=dark] .colab-df-convert {\n",
              "      background-color: #3B4455;\n",
              "      fill: #D2E3FC;\n",
              "    }\n",
              "\n",
              "    [theme=dark] .colab-df-convert:hover {\n",
              "      background-color: #434B5C;\n",
              "      box-shadow: 0px 1px 3px 1px rgba(0, 0, 0, 0.15);\n",
              "      filter: drop-shadow(0px 1px 2px rgba(0, 0, 0, 0.3));\n",
              "      fill: #FFFFFF;\n",
              "    }\n",
              "  </style>\n",
              "\n",
              "    <script>\n",
              "      const buttonEl =\n",
              "        document.querySelector('#df-3b7eea57-1325-4905-859f-d803e38978d3 button.colab-df-convert');\n",
              "      buttonEl.style.display =\n",
              "        google.colab.kernel.accessAllowed ? 'block' : 'none';\n",
              "\n",
              "      async function convertToInteractive(key) {\n",
              "        const element = document.querySelector('#df-3b7eea57-1325-4905-859f-d803e38978d3');\n",
              "        const dataTable =\n",
              "          await google.colab.kernel.invokeFunction('convertToInteractive',\n",
              "                                                    [key], {});\n",
              "        if (!dataTable) return;\n",
              "\n",
              "        const docLinkHtml = 'Like what you see? Visit the ' +\n",
              "          '<a target=\"_blank\" href=https://colab.research.google.com/notebooks/data_table.ipynb>data table notebook</a>'\n",
              "          + ' to learn more about interactive tables.';\n",
              "        element.innerHTML = '';\n",
              "        dataTable['output_type'] = 'display_data';\n",
              "        await google.colab.output.renderOutput(dataTable, element);\n",
              "        const docLink = document.createElement('div');\n",
              "        docLink.innerHTML = docLinkHtml;\n",
              "        element.appendChild(docLink);\n",
              "      }\n",
              "    </script>\n",
              "  </div>\n",
              "\n",
              "\n",
              "<div id=\"df-149eda00-a4ad-4c1a-aafe-ced156c17381\">\n",
              "  <button class=\"colab-df-quickchart\" onclick=\"quickchart('df-149eda00-a4ad-4c1a-aafe-ced156c17381')\"\n",
              "            title=\"Suggest charts\"\n",
              "            style=\"display:none;\">\n",
              "\n",
              "<svg xmlns=\"http://www.w3.org/2000/svg\" height=\"24px\"viewBox=\"0 0 24 24\"\n",
              "     width=\"24px\">\n",
              "    <g>\n",
              "        <path d=\"M19 3H5c-1.1 0-2 .9-2 2v14c0 1.1.9 2 2 2h14c1.1 0 2-.9 2-2V5c0-1.1-.9-2-2-2zM9 17H7v-7h2v7zm4 0h-2V7h2v10zm4 0h-2v-4h2v4z\"/>\n",
              "    </g>\n",
              "</svg>\n",
              "  </button>\n",
              "\n",
              "<style>\n",
              "  .colab-df-quickchart {\n",
              "      --bg-color: #E8F0FE;\n",
              "      --fill-color: #1967D2;\n",
              "      --hover-bg-color: #E2EBFA;\n",
              "      --hover-fill-color: #174EA6;\n",
              "      --disabled-fill-color: #AAA;\n",
              "      --disabled-bg-color: #DDD;\n",
              "  }\n",
              "\n",
              "  [theme=dark] .colab-df-quickchart {\n",
              "      --bg-color: #3B4455;\n",
              "      --fill-color: #D2E3FC;\n",
              "      --hover-bg-color: #434B5C;\n",
              "      --hover-fill-color: #FFFFFF;\n",
              "      --disabled-bg-color: #3B4455;\n",
              "      --disabled-fill-color: #666;\n",
              "  }\n",
              "\n",
              "  .colab-df-quickchart {\n",
              "    background-color: var(--bg-color);\n",
              "    border: none;\n",
              "    border-radius: 50%;\n",
              "    cursor: pointer;\n",
              "    display: none;\n",
              "    fill: var(--fill-color);\n",
              "    height: 32px;\n",
              "    padding: 0;\n",
              "    width: 32px;\n",
              "  }\n",
              "\n",
              "  .colab-df-quickchart:hover {\n",
              "    background-color: var(--hover-bg-color);\n",
              "    box-shadow: 0 1px 2px rgba(60, 64, 67, 0.3), 0 1px 3px 1px rgba(60, 64, 67, 0.15);\n",
              "    fill: var(--button-hover-fill-color);\n",
              "  }\n",
              "\n",
              "  .colab-df-quickchart-complete:disabled,\n",
              "  .colab-df-quickchart-complete:disabled:hover {\n",
              "    background-color: var(--disabled-bg-color);\n",
              "    fill: var(--disabled-fill-color);\n",
              "    box-shadow: none;\n",
              "  }\n",
              "\n",
              "  .colab-df-spinner {\n",
              "    border: 2px solid var(--fill-color);\n",
              "    border-color: transparent;\n",
              "    border-bottom-color: var(--fill-color);\n",
              "    animation:\n",
              "      spin 1s steps(1) infinite;\n",
              "  }\n",
              "\n",
              "  @keyframes spin {\n",
              "    0% {\n",
              "      border-color: transparent;\n",
              "      border-bottom-color: var(--fill-color);\n",
              "      border-left-color: var(--fill-color);\n",
              "    }\n",
              "    20% {\n",
              "      border-color: transparent;\n",
              "      border-left-color: var(--fill-color);\n",
              "      border-top-color: var(--fill-color);\n",
              "    }\n",
              "    30% {\n",
              "      border-color: transparent;\n",
              "      border-left-color: var(--fill-color);\n",
              "      border-top-color: var(--fill-color);\n",
              "      border-right-color: var(--fill-color);\n",
              "    }\n",
              "    40% {\n",
              "      border-color: transparent;\n",
              "      border-right-color: var(--fill-color);\n",
              "      border-top-color: var(--fill-color);\n",
              "    }\n",
              "    60% {\n",
              "      border-color: transparent;\n",
              "      border-right-color: var(--fill-color);\n",
              "    }\n",
              "    80% {\n",
              "      border-color: transparent;\n",
              "      border-right-color: var(--fill-color);\n",
              "      border-bottom-color: var(--fill-color);\n",
              "    }\n",
              "    90% {\n",
              "      border-color: transparent;\n",
              "      border-bottom-color: var(--fill-color);\n",
              "    }\n",
              "  }\n",
              "</style>\n",
              "\n",
              "  <script>\n",
              "    async function quickchart(key) {\n",
              "      const quickchartButtonEl =\n",
              "        document.querySelector('#' + key + ' button');\n",
              "      quickchartButtonEl.disabled = true;  // To prevent multiple clicks.\n",
              "      quickchartButtonEl.classList.add('colab-df-spinner');\n",
              "      try {\n",
              "        const charts = await google.colab.kernel.invokeFunction(\n",
              "            'suggestCharts', [key], {});\n",
              "      } catch (error) {\n",
              "        console.error('Error during call to suggestCharts:', error);\n",
              "      }\n",
              "      quickchartButtonEl.classList.remove('colab-df-spinner');\n",
              "      quickchartButtonEl.classList.add('colab-df-quickchart-complete');\n",
              "    }\n",
              "    (() => {\n",
              "      let quickchartButtonEl =\n",
              "        document.querySelector('#df-149eda00-a4ad-4c1a-aafe-ced156c17381 button');\n",
              "      quickchartButtonEl.style.display =\n",
              "        google.colab.kernel.accessAllowed ? 'block' : 'none';\n",
              "    })();\n",
              "  </script>\n",
              "</div>\n",
              "\n",
              "  <div id=\"id_21c64cbb-b02a-43f5-b266-450477c43a3a\">\n",
              "    <style>\n",
              "      .colab-df-generate {\n",
              "        background-color: #E8F0FE;\n",
              "        border: none;\n",
              "        border-radius: 50%;\n",
              "        cursor: pointer;\n",
              "        display: none;\n",
              "        fill: #1967D2;\n",
              "        height: 32px;\n",
              "        padding: 0 0 0 0;\n",
              "        width: 32px;\n",
              "      }\n",
              "\n",
              "      .colab-df-generate:hover {\n",
              "        background-color: #E2EBFA;\n",
              "        box-shadow: 0px 1px 2px rgba(60, 64, 67, 0.3), 0px 1px 3px 1px rgba(60, 64, 67, 0.15);\n",
              "        fill: #174EA6;\n",
              "      }\n",
              "\n",
              "      [theme=dark] .colab-df-generate {\n",
              "        background-color: #3B4455;\n",
              "        fill: #D2E3FC;\n",
              "      }\n",
              "\n",
              "      [theme=dark] .colab-df-generate:hover {\n",
              "        background-color: #434B5C;\n",
              "        box-shadow: 0px 1px 3px 1px rgba(0, 0, 0, 0.15);\n",
              "        filter: drop-shadow(0px 1px 2px rgba(0, 0, 0, 0.3));\n",
              "        fill: #FFFFFF;\n",
              "      }\n",
              "    </style>\n",
              "    <button class=\"colab-df-generate\" onclick=\"generateWithVariable('df')\"\n",
              "            title=\"Generate code using this dataframe.\"\n",
              "            style=\"display:none;\">\n",
              "\n",
              "  <svg xmlns=\"http://www.w3.org/2000/svg\" height=\"24px\"viewBox=\"0 0 24 24\"\n",
              "       width=\"24px\">\n",
              "    <path d=\"M7,19H8.4L18.45,9,17,7.55,7,17.6ZM5,21V16.75L18.45,3.32a2,2,0,0,1,2.83,0l1.4,1.43a1.91,1.91,0,0,1,.58,1.4,1.91,1.91,0,0,1-.58,1.4L9.25,21ZM18.45,9,17,7.55Zm-12,3A5.31,5.31,0,0,0,4.9,8.1,5.31,5.31,0,0,0,1,6.5,5.31,5.31,0,0,0,4.9,4.9,5.31,5.31,0,0,0,6.5,1,5.31,5.31,0,0,0,8.1,4.9,5.31,5.31,0,0,0,12,6.5,5.46,5.46,0,0,0,6.5,12Z\"/>\n",
              "  </svg>\n",
              "    </button>\n",
              "    <script>\n",
              "      (() => {\n",
              "      const buttonEl =\n",
              "        document.querySelector('#id_21c64cbb-b02a-43f5-b266-450477c43a3a button.colab-df-generate');\n",
              "      buttonEl.style.display =\n",
              "        google.colab.kernel.accessAllowed ? 'block' : 'none';\n",
              "\n",
              "      buttonEl.onclick = () => {\n",
              "        google.colab.notebook.generateWithVariable('df');\n",
              "      }\n",
              "      })();\n",
              "    </script>\n",
              "  </div>\n",
              "\n",
              "    </div>\n",
              "  </div>\n"
            ],
            "application/vnd.google.colaboratory.intrinsic+json": {
              "type": "dataframe",
              "variable_name": "df",
              "summary": "{\n  \"name\": \"df\",\n  \"rows\": 244,\n  \"fields\": [\n    {\n      \"column\": \"total_bill\",\n      \"properties\": {\n        \"dtype\": \"number\",\n        \"std\": 8.902411954856856,\n        \"min\": 3.07,\n        \"max\": 50.81,\n        \"num_unique_values\": 229,\n        \"samples\": [\n          22.12,\n          20.23,\n          14.78\n        ],\n        \"semantic_type\": \"\",\n        \"description\": \"\"\n      }\n    },\n    {\n      \"column\": \"tip\",\n      \"properties\": {\n        \"dtype\": \"number\",\n        \"std\": 1.3836381890011822,\n        \"min\": 1.0,\n        \"max\": 10.0,\n        \"num_unique_values\": 123,\n        \"samples\": [\n          3.35,\n          1.5,\n          6.73\n        ],\n        \"semantic_type\": \"\",\n        \"description\": \"\"\n      }\n    },\n    {\n      \"column\": \"sex\",\n      \"properties\": {\n        \"dtype\": \"category\",\n        \"num_unique_values\": 2,\n        \"samples\": [\n          \"Male\",\n          \"Female\"\n        ],\n        \"semantic_type\": \"\",\n        \"description\": \"\"\n      }\n    },\n    {\n      \"column\": \"smoker\",\n      \"properties\": {\n        \"dtype\": \"category\",\n        \"num_unique_values\": 2,\n        \"samples\": [\n          \"Yes\",\n          \"No\"\n        ],\n        \"semantic_type\": \"\",\n        \"description\": \"\"\n      }\n    },\n    {\n      \"column\": \"day\",\n      \"properties\": {\n        \"dtype\": \"category\",\n        \"num_unique_values\": 4,\n        \"samples\": [\n          \"Sat\",\n          \"Fri\"\n        ],\n        \"semantic_type\": \"\",\n        \"description\": \"\"\n      }\n    },\n    {\n      \"column\": \"time\",\n      \"properties\": {\n        \"dtype\": \"category\",\n        \"num_unique_values\": 2,\n        \"samples\": [\n          \"Lunch\",\n          \"Dinner\"\n        ],\n        \"semantic_type\": \"\",\n        \"description\": \"\"\n      }\n    },\n    {\n      \"column\": \"size\",\n      \"properties\": {\n        \"dtype\": \"number\",\n        \"std\": 0,\n        \"min\": 1,\n        \"max\": 6,\n        \"num_unique_values\": 6,\n        \"samples\": [\n          2,\n          3\n        ],\n        \"semantic_type\": \"\",\n        \"description\": \"\"\n      }\n    }\n  ]\n}"
            }
          },
          "metadata": {},
          "execution_count": 7
        }
      ]
    },
    {
      "cell_type": "code",
      "source": [
        "df['total_bill'].mean()"
      ],
      "metadata": {
        "colab": {
          "base_uri": "https://localhost:8080/"
        },
        "id": "mfkZcrpBMJW8",
        "outputId": "ee956946-eefe-4c68-8c11-f7fe48852bde"
      },
      "execution_count": 8,
      "outputs": [
        {
          "output_type": "execute_result",
          "data": {
            "text/plain": [
              "19.78594262295082"
            ]
          },
          "metadata": {},
          "execution_count": 8
        }
      ]
    },
    {
      "cell_type": "code",
      "source": [
        "np.mean(df['total_bill'])"
      ],
      "metadata": {
        "colab": {
          "base_uri": "https://localhost:8080/"
        },
        "id": "BPM1Xe4RMTdQ",
        "outputId": "185a6d07-1a7b-40e2-ee35-225a737b53c3"
      },
      "execution_count": 9,
      "outputs": [
        {
          "output_type": "execute_result",
          "data": {
            "text/plain": [
              "19.78594262295082"
            ]
          },
          "metadata": {},
          "execution_count": 9
        }
      ]
    },
    {
      "cell_type": "code",
      "source": [
        "df.describe()"
      ],
      "metadata": {
        "colab": {
          "base_uri": "https://localhost:8080/",
          "height": 300
        },
        "id": "t8GowNebMX3e",
        "outputId": "6c05eb4a-89cf-4e50-bee6-59bc95755ca3"
      },
      "execution_count": 10,
      "outputs": [
        {
          "output_type": "execute_result",
          "data": {
            "text/plain": [
              "       total_bill         tip        size\n",
              "count  244.000000  244.000000  244.000000\n",
              "mean    19.785943    2.998279    2.569672\n",
              "std      8.902412    1.383638    0.951100\n",
              "min      3.070000    1.000000    1.000000\n",
              "25%     13.347500    2.000000    2.000000\n",
              "50%     17.795000    2.900000    2.000000\n",
              "75%     24.127500    3.562500    3.000000\n",
              "max     50.810000   10.000000    6.000000"
            ],
            "text/html": [
              "\n",
              "  <div id=\"df-d7256979-11e3-42e5-ab26-5f9e4f8c55ca\" class=\"colab-df-container\">\n",
              "    <div>\n",
              "<style scoped>\n",
              "    .dataframe tbody tr th:only-of-type {\n",
              "        vertical-align: middle;\n",
              "    }\n",
              "\n",
              "    .dataframe tbody tr th {\n",
              "        vertical-align: top;\n",
              "    }\n",
              "\n",
              "    .dataframe thead th {\n",
              "        text-align: right;\n",
              "    }\n",
              "</style>\n",
              "<table border=\"1\" class=\"dataframe\">\n",
              "  <thead>\n",
              "    <tr style=\"text-align: right;\">\n",
              "      <th></th>\n",
              "      <th>total_bill</th>\n",
              "      <th>tip</th>\n",
              "      <th>size</th>\n",
              "    </tr>\n",
              "  </thead>\n",
              "  <tbody>\n",
              "    <tr>\n",
              "      <th>count</th>\n",
              "      <td>244.000000</td>\n",
              "      <td>244.000000</td>\n",
              "      <td>244.000000</td>\n",
              "    </tr>\n",
              "    <tr>\n",
              "      <th>mean</th>\n",
              "      <td>19.785943</td>\n",
              "      <td>2.998279</td>\n",
              "      <td>2.569672</td>\n",
              "    </tr>\n",
              "    <tr>\n",
              "      <th>std</th>\n",
              "      <td>8.902412</td>\n",
              "      <td>1.383638</td>\n",
              "      <td>0.951100</td>\n",
              "    </tr>\n",
              "    <tr>\n",
              "      <th>min</th>\n",
              "      <td>3.070000</td>\n",
              "      <td>1.000000</td>\n",
              "      <td>1.000000</td>\n",
              "    </tr>\n",
              "    <tr>\n",
              "      <th>25%</th>\n",
              "      <td>13.347500</td>\n",
              "      <td>2.000000</td>\n",
              "      <td>2.000000</td>\n",
              "    </tr>\n",
              "    <tr>\n",
              "      <th>50%</th>\n",
              "      <td>17.795000</td>\n",
              "      <td>2.900000</td>\n",
              "      <td>2.000000</td>\n",
              "    </tr>\n",
              "    <tr>\n",
              "      <th>75%</th>\n",
              "      <td>24.127500</td>\n",
              "      <td>3.562500</td>\n",
              "      <td>3.000000</td>\n",
              "    </tr>\n",
              "    <tr>\n",
              "      <th>max</th>\n",
              "      <td>50.810000</td>\n",
              "      <td>10.000000</td>\n",
              "      <td>6.000000</td>\n",
              "    </tr>\n",
              "  </tbody>\n",
              "</table>\n",
              "</div>\n",
              "    <div class=\"colab-df-buttons\">\n",
              "\n",
              "  <div class=\"colab-df-container\">\n",
              "    <button class=\"colab-df-convert\" onclick=\"convertToInteractive('df-d7256979-11e3-42e5-ab26-5f9e4f8c55ca')\"\n",
              "            title=\"Convert this dataframe to an interactive table.\"\n",
              "            style=\"display:none;\">\n",
              "\n",
              "  <svg xmlns=\"http://www.w3.org/2000/svg\" height=\"24px\" viewBox=\"0 -960 960 960\">\n",
              "    <path d=\"M120-120v-720h720v720H120Zm60-500h600v-160H180v160Zm220 220h160v-160H400v160Zm0 220h160v-160H400v160ZM180-400h160v-160H180v160Zm440 0h160v-160H620v160ZM180-180h160v-160H180v160Zm440 0h160v-160H620v160Z\"/>\n",
              "  </svg>\n",
              "    </button>\n",
              "\n",
              "  <style>\n",
              "    .colab-df-container {\n",
              "      display:flex;\n",
              "      gap: 12px;\n",
              "    }\n",
              "\n",
              "    .colab-df-convert {\n",
              "      background-color: #E8F0FE;\n",
              "      border: none;\n",
              "      border-radius: 50%;\n",
              "      cursor: pointer;\n",
              "      display: none;\n",
              "      fill: #1967D2;\n",
              "      height: 32px;\n",
              "      padding: 0 0 0 0;\n",
              "      width: 32px;\n",
              "    }\n",
              "\n",
              "    .colab-df-convert:hover {\n",
              "      background-color: #E2EBFA;\n",
              "      box-shadow: 0px 1px 2px rgba(60, 64, 67, 0.3), 0px 1px 3px 1px rgba(60, 64, 67, 0.15);\n",
              "      fill: #174EA6;\n",
              "    }\n",
              "\n",
              "    .colab-df-buttons div {\n",
              "      margin-bottom: 4px;\n",
              "    }\n",
              "\n",
              "    [theme=dark] .colab-df-convert {\n",
              "      background-color: #3B4455;\n",
              "      fill: #D2E3FC;\n",
              "    }\n",
              "\n",
              "    [theme=dark] .colab-df-convert:hover {\n",
              "      background-color: #434B5C;\n",
              "      box-shadow: 0px 1px 3px 1px rgba(0, 0, 0, 0.15);\n",
              "      filter: drop-shadow(0px 1px 2px rgba(0, 0, 0, 0.3));\n",
              "      fill: #FFFFFF;\n",
              "    }\n",
              "  </style>\n",
              "\n",
              "    <script>\n",
              "      const buttonEl =\n",
              "        document.querySelector('#df-d7256979-11e3-42e5-ab26-5f9e4f8c55ca button.colab-df-convert');\n",
              "      buttonEl.style.display =\n",
              "        google.colab.kernel.accessAllowed ? 'block' : 'none';\n",
              "\n",
              "      async function convertToInteractive(key) {\n",
              "        const element = document.querySelector('#df-d7256979-11e3-42e5-ab26-5f9e4f8c55ca');\n",
              "        const dataTable =\n",
              "          await google.colab.kernel.invokeFunction('convertToInteractive',\n",
              "                                                    [key], {});\n",
              "        if (!dataTable) return;\n",
              "\n",
              "        const docLinkHtml = 'Like what you see? Visit the ' +\n",
              "          '<a target=\"_blank\" href=https://colab.research.google.com/notebooks/data_table.ipynb>data table notebook</a>'\n",
              "          + ' to learn more about interactive tables.';\n",
              "        element.innerHTML = '';\n",
              "        dataTable['output_type'] = 'display_data';\n",
              "        await google.colab.output.renderOutput(dataTable, element);\n",
              "        const docLink = document.createElement('div');\n",
              "        docLink.innerHTML = docLinkHtml;\n",
              "        element.appendChild(docLink);\n",
              "      }\n",
              "    </script>\n",
              "  </div>\n",
              "\n",
              "\n",
              "<div id=\"df-125ab133-07a0-4e93-b258-2364cdb27487\">\n",
              "  <button class=\"colab-df-quickchart\" onclick=\"quickchart('df-125ab133-07a0-4e93-b258-2364cdb27487')\"\n",
              "            title=\"Suggest charts\"\n",
              "            style=\"display:none;\">\n",
              "\n",
              "<svg xmlns=\"http://www.w3.org/2000/svg\" height=\"24px\"viewBox=\"0 0 24 24\"\n",
              "     width=\"24px\">\n",
              "    <g>\n",
              "        <path d=\"M19 3H5c-1.1 0-2 .9-2 2v14c0 1.1.9 2 2 2h14c1.1 0 2-.9 2-2V5c0-1.1-.9-2-2-2zM9 17H7v-7h2v7zm4 0h-2V7h2v10zm4 0h-2v-4h2v4z\"/>\n",
              "    </g>\n",
              "</svg>\n",
              "  </button>\n",
              "\n",
              "<style>\n",
              "  .colab-df-quickchart {\n",
              "      --bg-color: #E8F0FE;\n",
              "      --fill-color: #1967D2;\n",
              "      --hover-bg-color: #E2EBFA;\n",
              "      --hover-fill-color: #174EA6;\n",
              "      --disabled-fill-color: #AAA;\n",
              "      --disabled-bg-color: #DDD;\n",
              "  }\n",
              "\n",
              "  [theme=dark] .colab-df-quickchart {\n",
              "      --bg-color: #3B4455;\n",
              "      --fill-color: #D2E3FC;\n",
              "      --hover-bg-color: #434B5C;\n",
              "      --hover-fill-color: #FFFFFF;\n",
              "      --disabled-bg-color: #3B4455;\n",
              "      --disabled-fill-color: #666;\n",
              "  }\n",
              "\n",
              "  .colab-df-quickchart {\n",
              "    background-color: var(--bg-color);\n",
              "    border: none;\n",
              "    border-radius: 50%;\n",
              "    cursor: pointer;\n",
              "    display: none;\n",
              "    fill: var(--fill-color);\n",
              "    height: 32px;\n",
              "    padding: 0;\n",
              "    width: 32px;\n",
              "  }\n",
              "\n",
              "  .colab-df-quickchart:hover {\n",
              "    background-color: var(--hover-bg-color);\n",
              "    box-shadow: 0 1px 2px rgba(60, 64, 67, 0.3), 0 1px 3px 1px rgba(60, 64, 67, 0.15);\n",
              "    fill: var(--button-hover-fill-color);\n",
              "  }\n",
              "\n",
              "  .colab-df-quickchart-complete:disabled,\n",
              "  .colab-df-quickchart-complete:disabled:hover {\n",
              "    background-color: var(--disabled-bg-color);\n",
              "    fill: var(--disabled-fill-color);\n",
              "    box-shadow: none;\n",
              "  }\n",
              "\n",
              "  .colab-df-spinner {\n",
              "    border: 2px solid var(--fill-color);\n",
              "    border-color: transparent;\n",
              "    border-bottom-color: var(--fill-color);\n",
              "    animation:\n",
              "      spin 1s steps(1) infinite;\n",
              "  }\n",
              "\n",
              "  @keyframes spin {\n",
              "    0% {\n",
              "      border-color: transparent;\n",
              "      border-bottom-color: var(--fill-color);\n",
              "      border-left-color: var(--fill-color);\n",
              "    }\n",
              "    20% {\n",
              "      border-color: transparent;\n",
              "      border-left-color: var(--fill-color);\n",
              "      border-top-color: var(--fill-color);\n",
              "    }\n",
              "    30% {\n",
              "      border-color: transparent;\n",
              "      border-left-color: var(--fill-color);\n",
              "      border-top-color: var(--fill-color);\n",
              "      border-right-color: var(--fill-color);\n",
              "    }\n",
              "    40% {\n",
              "      border-color: transparent;\n",
              "      border-right-color: var(--fill-color);\n",
              "      border-top-color: var(--fill-color);\n",
              "    }\n",
              "    60% {\n",
              "      border-color: transparent;\n",
              "      border-right-color: var(--fill-color);\n",
              "    }\n",
              "    80% {\n",
              "      border-color: transparent;\n",
              "      border-right-color: var(--fill-color);\n",
              "      border-bottom-color: var(--fill-color);\n",
              "    }\n",
              "    90% {\n",
              "      border-color: transparent;\n",
              "      border-bottom-color: var(--fill-color);\n",
              "    }\n",
              "  }\n",
              "</style>\n",
              "\n",
              "  <script>\n",
              "    async function quickchart(key) {\n",
              "      const quickchartButtonEl =\n",
              "        document.querySelector('#' + key + ' button');\n",
              "      quickchartButtonEl.disabled = true;  // To prevent multiple clicks.\n",
              "      quickchartButtonEl.classList.add('colab-df-spinner');\n",
              "      try {\n",
              "        const charts = await google.colab.kernel.invokeFunction(\n",
              "            'suggestCharts', [key], {});\n",
              "      } catch (error) {\n",
              "        console.error('Error during call to suggestCharts:', error);\n",
              "      }\n",
              "      quickchartButtonEl.classList.remove('colab-df-spinner');\n",
              "      quickchartButtonEl.classList.add('colab-df-quickchart-complete');\n",
              "    }\n",
              "    (() => {\n",
              "      let quickchartButtonEl =\n",
              "        document.querySelector('#df-125ab133-07a0-4e93-b258-2364cdb27487 button');\n",
              "      quickchartButtonEl.style.display =\n",
              "        google.colab.kernel.accessAllowed ? 'block' : 'none';\n",
              "    })();\n",
              "  </script>\n",
              "</div>\n",
              "\n",
              "    </div>\n",
              "  </div>\n"
            ],
            "application/vnd.google.colaboratory.intrinsic+json": {
              "type": "dataframe",
              "summary": "{\n  \"name\": \"df\",\n  \"rows\": 8,\n  \"fields\": [\n    {\n      \"column\": \"total_bill\",\n      \"properties\": {\n        \"dtype\": \"number\",\n        \"std\": 80.57800601480773,\n        \"min\": 3.07,\n        \"max\": 244.0,\n        \"num_unique_values\": 8,\n        \"samples\": [\n          19.78594262295082,\n          17.795,\n          244.0\n        ],\n        \"semantic_type\": \"\",\n        \"description\": \"\"\n      }\n    },\n    {\n      \"column\": \"tip\",\n      \"properties\": {\n        \"dtype\": \"number\",\n        \"std\": 85.10953159599222,\n        \"min\": 1.0,\n        \"max\": 244.0,\n        \"num_unique_values\": 8,\n        \"samples\": [\n          2.99827868852459,\n          2.9,\n          244.0\n        ],\n        \"semantic_type\": \"\",\n        \"description\": \"\"\n      }\n    },\n    {\n      \"column\": \"size\",\n      \"properties\": {\n        \"dtype\": \"number\",\n        \"std\": 85.39686221774683,\n        \"min\": 0.9510998047322344,\n        \"max\": 244.0,\n        \"num_unique_values\": 7,\n        \"samples\": [\n          244.0,\n          2.569672131147541,\n          3.0\n        ],\n        \"semantic_type\": \"\",\n        \"description\": \"\"\n      }\n    }\n  ]\n}"
            }
          },
          "metadata": {},
          "execution_count": 10
        }
      ]
    },
    {
      "cell_type": "code",
      "source": [
        "np.median(df['total_bill'])"
      ],
      "metadata": {
        "colab": {
          "base_uri": "https://localhost:8080/"
        },
        "id": "C1aoYGTUMbOp",
        "outputId": "505ef8ef-808d-476e-af87-a0865c7d5c4d"
      },
      "execution_count": 11,
      "outputs": [
        {
          "output_type": "execute_result",
          "data": {
            "text/plain": [
              "17.795"
            ]
          },
          "metadata": {},
          "execution_count": 11
        }
      ]
    },
    {
      "cell_type": "code",
      "source": [
        "data=[1,2,3,4,5,500] #Mean is inflated by outliers\n",
        "np.mean(data)"
      ],
      "metadata": {
        "colab": {
          "base_uri": "https://localhost:8080/"
        },
        "id": "nn4CJid4MfLl",
        "outputId": "4c480bb8-6acf-4829-eca1-03b2ebc4dd69"
      },
      "execution_count": 12,
      "outputs": [
        {
          "output_type": "execute_result",
          "data": {
            "text/plain": [
              "85.83333333333333"
            ]
          },
          "metadata": {},
          "execution_count": 12
        }
      ]
    },
    {
      "cell_type": "code",
      "source": [
        "np.median(data) #Median has no effect on outliers"
      ],
      "metadata": {
        "colab": {
          "base_uri": "https://localhost:8080/"
        },
        "id": "Ezb-0N1dMv6L",
        "outputId": "a66b1cd4-be70-47de-8d82-6f3b0a7fcd28"
      },
      "execution_count": 13,
      "outputs": [
        {
          "output_type": "execute_result",
          "data": {
            "text/plain": [
              "3.5"
            ]
          },
          "metadata": {},
          "execution_count": 13
        }
      ]
    },
    {
      "cell_type": "code",
      "source": [
        "data=[1,2,3,4,5,5,3,3,3]\n",
        "X=pd.DataFrame(data)\n",
        "X.mode()"
      ],
      "metadata": {
        "colab": {
          "base_uri": "https://localhost:8080/",
          "height": 81
        },
        "id": "o2gfDub6M_gP",
        "outputId": "ca36d759-e5ca-42d6-baeb-abcb2a86b127"
      },
      "execution_count": 14,
      "outputs": [
        {
          "output_type": "execute_result",
          "data": {
            "text/plain": [
              "   0\n",
              "0  3"
            ],
            "text/html": [
              "\n",
              "  <div id=\"df-a33cb154-2843-400c-9bda-5150dee5626e\" class=\"colab-df-container\">\n",
              "    <div>\n",
              "<style scoped>\n",
              "    .dataframe tbody tr th:only-of-type {\n",
              "        vertical-align: middle;\n",
              "    }\n",
              "\n",
              "    .dataframe tbody tr th {\n",
              "        vertical-align: top;\n",
              "    }\n",
              "\n",
              "    .dataframe thead th {\n",
              "        text-align: right;\n",
              "    }\n",
              "</style>\n",
              "<table border=\"1\" class=\"dataframe\">\n",
              "  <thead>\n",
              "    <tr style=\"text-align: right;\">\n",
              "      <th></th>\n",
              "      <th>0</th>\n",
              "    </tr>\n",
              "  </thead>\n",
              "  <tbody>\n",
              "    <tr>\n",
              "      <th>0</th>\n",
              "      <td>3</td>\n",
              "    </tr>\n",
              "  </tbody>\n",
              "</table>\n",
              "</div>\n",
              "    <div class=\"colab-df-buttons\">\n",
              "\n",
              "  <div class=\"colab-df-container\">\n",
              "    <button class=\"colab-df-convert\" onclick=\"convertToInteractive('df-a33cb154-2843-400c-9bda-5150dee5626e')\"\n",
              "            title=\"Convert this dataframe to an interactive table.\"\n",
              "            style=\"display:none;\">\n",
              "\n",
              "  <svg xmlns=\"http://www.w3.org/2000/svg\" height=\"24px\" viewBox=\"0 -960 960 960\">\n",
              "    <path d=\"M120-120v-720h720v720H120Zm60-500h600v-160H180v160Zm220 220h160v-160H400v160Zm0 220h160v-160H400v160ZM180-400h160v-160H180v160Zm440 0h160v-160H620v160ZM180-180h160v-160H180v160Zm440 0h160v-160H620v160Z\"/>\n",
              "  </svg>\n",
              "    </button>\n",
              "\n",
              "  <style>\n",
              "    .colab-df-container {\n",
              "      display:flex;\n",
              "      gap: 12px;\n",
              "    }\n",
              "\n",
              "    .colab-df-convert {\n",
              "      background-color: #E8F0FE;\n",
              "      border: none;\n",
              "      border-radius: 50%;\n",
              "      cursor: pointer;\n",
              "      display: none;\n",
              "      fill: #1967D2;\n",
              "      height: 32px;\n",
              "      padding: 0 0 0 0;\n",
              "      width: 32px;\n",
              "    }\n",
              "\n",
              "    .colab-df-convert:hover {\n",
              "      background-color: #E2EBFA;\n",
              "      box-shadow: 0px 1px 2px rgba(60, 64, 67, 0.3), 0px 1px 3px 1px rgba(60, 64, 67, 0.15);\n",
              "      fill: #174EA6;\n",
              "    }\n",
              "\n",
              "    .colab-df-buttons div {\n",
              "      margin-bottom: 4px;\n",
              "    }\n",
              "\n",
              "    [theme=dark] .colab-df-convert {\n",
              "      background-color: #3B4455;\n",
              "      fill: #D2E3FC;\n",
              "    }\n",
              "\n",
              "    [theme=dark] .colab-df-convert:hover {\n",
              "      background-color: #434B5C;\n",
              "      box-shadow: 0px 1px 3px 1px rgba(0, 0, 0, 0.15);\n",
              "      filter: drop-shadow(0px 1px 2px rgba(0, 0, 0, 0.3));\n",
              "      fill: #FFFFFF;\n",
              "    }\n",
              "  </style>\n",
              "\n",
              "    <script>\n",
              "      const buttonEl =\n",
              "        document.querySelector('#df-a33cb154-2843-400c-9bda-5150dee5626e button.colab-df-convert');\n",
              "      buttonEl.style.display =\n",
              "        google.colab.kernel.accessAllowed ? 'block' : 'none';\n",
              "\n",
              "      async function convertToInteractive(key) {\n",
              "        const element = document.querySelector('#df-a33cb154-2843-400c-9bda-5150dee5626e');\n",
              "        const dataTable =\n",
              "          await google.colab.kernel.invokeFunction('convertToInteractive',\n",
              "                                                    [key], {});\n",
              "        if (!dataTable) return;\n",
              "\n",
              "        const docLinkHtml = 'Like what you see? Visit the ' +\n",
              "          '<a target=\"_blank\" href=https://colab.research.google.com/notebooks/data_table.ipynb>data table notebook</a>'\n",
              "          + ' to learn more about interactive tables.';\n",
              "        element.innerHTML = '';\n",
              "        dataTable['output_type'] = 'display_data';\n",
              "        await google.colab.output.renderOutput(dataTable, element);\n",
              "        const docLink = document.createElement('div');\n",
              "        docLink.innerHTML = docLinkHtml;\n",
              "        element.appendChild(docLink);\n",
              "      }\n",
              "    </script>\n",
              "  </div>\n",
              "\n",
              "\n",
              "    </div>\n",
              "  </div>\n"
            ],
            "application/vnd.google.colaboratory.intrinsic+json": {
              "type": "dataframe",
              "summary": "{\n  \"name\": \"X\",\n  \"rows\": 1,\n  \"fields\": [\n    {\n      \"column\": 0,\n      \"properties\": {\n        \"dtype\": \"number\",\n        \"std\": null,\n        \"min\": 3,\n        \"max\": 3,\n        \"num_unique_values\": 1,\n        \"samples\": [\n          3\n        ],\n        \"semantic_type\": \"\",\n        \"description\": \"\"\n      }\n    }\n  ]\n}"
            }
          },
          "metadata": {},
          "execution_count": 14
        }
      ]
    },
    {
      "cell_type": "code",
      "source": [
        "import statistics\n",
        "statistics.mode(data)"
      ],
      "metadata": {
        "colab": {
          "base_uri": "https://localhost:8080/"
        },
        "id": "sQY4f08hN8T2",
        "outputId": "a1e61440-36f0-45ef-83e8-33cd681168ce"
      },
      "execution_count": 15,
      "outputs": [
        {
          "output_type": "execute_result",
          "data": {
            "text/plain": [
              "3"
            ]
          },
          "metadata": {},
          "execution_count": 15
        }
      ]
    },
    {
      "cell_type": "code",
      "source": [
        "np.percentile(data,[25]) #25 percentile of data is below 3.0"
      ],
      "metadata": {
        "colab": {
          "base_uri": "https://localhost:8080/"
        },
        "id": "3TlyRcFDOIoS",
        "outputId": "8e3481f9-04c5-4486-f4eb-f32c30777d8b"
      },
      "execution_count": 16,
      "outputs": [
        {
          "output_type": "execute_result",
          "data": {
            "text/plain": [
              "array([3.])"
            ]
          },
          "metadata": {},
          "execution_count": 16
        }
      ]
    },
    {
      "cell_type": "code",
      "source": [
        "np.percentile(data,[25,50,75,95,96])"
      ],
      "metadata": {
        "colab": {
          "base_uri": "https://localhost:8080/"
        },
        "id": "lwHlUYhCOoCr",
        "outputId": "711ec00f-0fab-4e39-ad8a-ad815b454afa"
      },
      "execution_count": 17,
      "outputs": [
        {
          "output_type": "execute_result",
          "data": {
            "text/plain": [
              "array([3., 3., 4., 5., 5.])"
            ]
          },
          "metadata": {},
          "execution_count": 17
        }
      ]
    },
    {
      "cell_type": "code",
      "source": [
        "data.append(-500)"
      ],
      "metadata": {
        "id": "nG6tt7i8Pdpq"
      },
      "execution_count": 18,
      "outputs": []
    },
    {
      "cell_type": "code",
      "source": [
        "data"
      ],
      "metadata": {
        "colab": {
          "base_uri": "https://localhost:8080/"
        },
        "id": "f3Z75nx1Piiq",
        "outputId": "f139869f-7c7b-4c72-da74-5fa6c8baed13"
      },
      "execution_count": 19,
      "outputs": [
        {
          "output_type": "execute_result",
          "data": {
            "text/plain": [
              "[1, 2, 3, 4, 5, 5, 3, 3, 3, -500]"
            ]
          },
          "metadata": {},
          "execution_count": 19
        }
      ]
    },
    {
      "cell_type": "code",
      "source": [
        "#-500 outliers"
      ],
      "metadata": {
        "id": "r0r4z80DPh_I"
      },
      "execution_count": 20,
      "outputs": []
    },
    {
      "cell_type": "code",
      "source": [
        "sns.boxplot(data)"
      ],
      "metadata": {
        "colab": {
          "base_uri": "https://localhost:8080/",
          "height": 428
        },
        "id": "qtk5v-PtP_mt",
        "outputId": "c7b08f4b-ab8d-496f-8365-a5f8079b80b7"
      },
      "execution_count": 21,
      "outputs": [
        {
          "output_type": "execute_result",
          "data": {
            "text/plain": [
              "<Axes: >"
            ]
          },
          "metadata": {},
          "execution_count": 21
        },
        {
          "output_type": "display_data",
          "data": {
            "text/plain": [
              "<Figure size 640x480 with 1 Axes>"
            ],
            "image/png": "[encoded data removed]"
          },
          "metadata": {}
        }
      ]
    },
    {
      "cell_type": "code",
      "source": [
        "sns.boxplot(df['total_bill'])"
      ],
      "metadata": {
        "colab": {
          "base_uri": "https://localhost:8080/",
          "height": 428
        },
        "id": "EAzlFk5RPovV",
        "outputId": "50ec7832-6415-4b91-832c-c693a408bac0"
      },
      "execution_count": 22,
      "outputs": [
        {
          "output_type": "execute_result",
          "data": {
            "text/plain": [
              "<Axes: ylabel='total_bill'>"
            ]
          },
          "metadata": {},
          "execution_count": 22
        },
        {
          "output_type": "display_data",
          "data": {
            "text/plain": [
              "<Figure size 640x480 with 1 Axes>"
            ],
            "image/png": "[encoded data removed]"
          },
          "metadata": {}
        }
      ]
    },
    {
      "cell_type": "code",
      "source": [
        "#Measures of dispersion"
      ],
      "metadata": {
        "id": "1KxCER_tQFZ2"
      },
      "execution_count": 23,
      "outputs": []
    },
    {
      "cell_type": "code",
      "source": [
        "np.var(data)"
      ],
      "metadata": {
        "colab": {
          "base_uri": "https://localhost:8080/"
        },
        "id": "-M--NB52QZXx",
        "outputId": "6bd1fc6e-982e-4c2c-d424-068063780ac2"
      },
      "execution_count": 24,
      "outputs": [
        {
          "output_type": "execute_result",
          "data": {
            "text/plain": [
              "22792.289999999997"
            ]
          },
          "metadata": {},
          "execution_count": 24
        }
      ]
    },
    {
      "cell_type": "code",
      "source": [
        "np.std(data)"
      ],
      "metadata": {
        "colab": {
          "base_uri": "https://localhost:8080/"
        },
        "id": "KyKI_50AQg2R",
        "outputId": "26fc66c0-f06f-42fd-de4e-9fdb2798f4e3"
      },
      "execution_count": 25,
      "outputs": [
        {
          "output_type": "execute_result",
          "data": {
            "text/plain": [
              "150.97115618554426"
            ]
          },
          "metadata": {},
          "execution_count": 25
        }
      ]
    },
    {
      "cell_type": "code",
      "source": [
        "statistics.variance((data)) #Sample variance"
      ],
      "metadata": {
        "colab": {
          "base_uri": "https://localhost:8080/"
        },
        "id": "TByet7h5Qjc_",
        "outputId": "fc628a73-3e3b-4d89-d77b-ca1243117454"
      },
      "execution_count": 26,
      "outputs": [
        {
          "output_type": "execute_result",
          "data": {
            "text/plain": [
              "25324.766666666666"
            ]
          },
          "metadata": {},
          "execution_count": 26
        }
      ]
    },
    {
      "cell_type": "code",
      "source": [
        "statistics.pvariance(data) #Population variance"
      ],
      "metadata": {
        "colab": {
          "base_uri": "https://localhost:8080/"
        },
        "id": "9vlOgftBRJI1",
        "outputId": "5cbe0de6-55a7-4483-e3ec-d98ac6ea3de4"
      },
      "execution_count": 27,
      "outputs": [
        {
          "output_type": "execute_result",
          "data": {
            "text/plain": [
              "22792.29"
            ]
          },
          "metadata": {},
          "execution_count": 27
        }
      ]
    },
    {
      "cell_type": "code",
      "source": [
        "import math\n",
        "math.sqrt(statistics.variance(data))"
      ],
      "metadata": {
        "colab": {
          "base_uri": "https://localhost:8080/"
        },
        "id": "8QE9f6ARRu6t",
        "outputId": "074c5c9e-afd8-4b31-aed3-7819e67a6e10"
      },
      "execution_count": 28,
      "outputs": [
        {
          "output_type": "execute_result",
          "data": {
            "text/plain": [
              "159.1375715117793"
            ]
          },
          "metadata": {},
          "execution_count": 28
        }
      ]
    },
    {
      "cell_type": "code",
      "source": [
        "statistics.stdev(data)"
      ],
      "metadata": {
        "colab": {
          "base_uri": "https://localhost:8080/"
        },
        "id": "QF9y34SJQvMW",
        "outputId": "1dc79382-c493-4ac7-b268-ab0f8d22ff9d"
      },
      "execution_count": 29,
      "outputs": [
        {
          "output_type": "execute_result",
          "data": {
            "text/plain": [
              "159.1375715117793"
            ]
          },
          "metadata": {},
          "execution_count": 29
        }
      ]
    },
    {
      "cell_type": "code",
      "source": [
        "#How to know teh relationship between 2 features?"
      ],
      "metadata": {
        "id": "BX--esYoSUHK"
      },
      "execution_count": 30,
      "outputs": []
    },
    {
      "cell_type": "code",
      "source": [
        "df"
      ],
      "metadata": {
        "colab": {
          "base_uri": "https://localhost:8080/",
          "height": 424
        },
        "id": "XpgTxhDPSZpX",
        "outputId": "03167777-c16c-4c89-83e9-b548eb9ce904"
      },
      "execution_count": 31,
      "outputs": [
        {
          "output_type": "execute_result",
          "data": {
            "text/plain": [
              "     total_bill   tip     sex smoker   day    time  size\n",
              "0         16.99  1.01  Female     No   Sun  Dinner     2\n",
              "1         10.34  1.66    Male     No   Sun  Dinner     3\n",
              "2         21.01  3.50    Male     No   Sun  Dinner     3\n",
              "3         23.68  3.31    Male     No   Sun  Dinner     2\n",
              "4         24.59  3.61  Female     No   Sun  Dinner     4\n",
              "..          ...   ...     ...    ...   ...     ...   ...\n",
              "239       29.03  5.92    Male     No   Sat  Dinner     3\n",
              "240       27.18  2.00  Female    Yes   Sat  Dinner     2\n",
              "241       22.67  2.00    Male    Yes   Sat  Dinner     2\n",
              "242       17.82  1.75    Male     No   Sat  Dinner     2\n",
              "243       18.78  3.00  Female     No  Thur  Dinner     2\n",
              "\n",
              "[244 rows x 7 columns]"
            ],
            "text/html": [
              "\n",
              "  <div id=\"df-9bfc032a-e208-41f8-9cad-29fbad5e712d\" class=\"colab-df-container\">\n",
              "    <div>\n",
              "<style scoped>\n",
              "    .dataframe tbody tr th:only-of-type {\n",
              "        vertical-align: middle;\n",
              "    }\n",
              "\n",
              "    .dataframe tbody tr th {\n",
              "        vertical-align: top;\n",
              "    }\n",
              "\n",
              "    .dataframe thead th {\n",
              "        text-align: right;\n",
              "    }\n",
              "</style>\n",
              "<table border=\"1\" class=\"dataframe\">\n",
              "  <thead>\n",
              "    <tr style=\"text-align: right;\">\n",
              "      <th></th>\n",
              "      <th>total_bill</th>\n",
              "      <th>tip</th>\n",
              "      <th>sex</th>\n",
              "      <th>smoker</th>\n",
              "      <th>day</th>\n",
              "      <th>time</th>\n",
              "      <th>size</th>\n",
              "    </tr>\n",
              "  </thead>\n",
              "  <tbody>\n",
              "    <tr>\n",
              "      <th>0</th>\n",
              "      <td>16.99</td>\n",
              "      <td>1.01</td>\n",
              "      <td>Female</td>\n",
              "      <td>No</td>\n",
              "      <td>Sun</td>\n",
              "      <td>Dinner</td>\n",
              "      <td>2</td>\n",
              "    </tr>\n",
              "    <tr>\n",
              "      <th>1</th>\n",
              "      <td>10.34</td>\n",
              "      <td>1.66</td>\n",
              "      <td>Male</td>\n",
              "      <td>No</td>\n",
              "      <td>Sun</td>\n",
              "      <td>Dinner</td>\n",
              "      <td>3</td>\n",
              "    </tr>\n",
              "    <tr>\n",
              "      <th>2</th>\n",
              "      <td>21.01</td>\n",
              "      <td>3.50</td>\n",
              "      <td>Male</td>\n",
              "      <td>No</td>\n",
              "      <td>Sun</td>\n",
              "      <td>Dinner</td>\n",
              "      <td>3</td>\n",
              "    </tr>\n",
              "    <tr>\n",
              "      <th>3</th>\n",
              "      <td>23.68</td>\n",
              "      <td>3.31</td>\n",
              "      <td>Male</td>\n",
              "      <td>No</td>\n",
              "      <td>Sun</td>\n",
              "      <td>Dinner</td>\n",
              "      <td>2</td>\n",
              "    </tr>\n",
              "    <tr>\n",
              "      <th>4</th>\n",
              "      <td>24.59</td>\n",
              "      <td>3.61</td>\n",
              "      <td>Female</td>\n",
              "      <td>No</td>\n",
              "      <td>Sun</td>\n",
              "      <td>Dinner</td>\n",
              "      <td>4</td>\n",
              "    </tr>\n",
              "    <tr>\n",
              "      <th>...</th>\n",
              "      <td>...</td>\n",
              "      <td>...</td>\n",
              "      <td>...</td>\n",
              "      <td>...</td>\n",
              "      <td>...</td>\n",
              "      <td>...</td>\n",
              "      <td>...</td>\n",
              "    </tr>\n",
              "    <tr>\n",
              "      <th>239</th>\n",
              "      <td>29.03</td>\n",
              "      <td>5.92</td>\n",
              "      <td>Male</td>\n",
              "      <td>No</td>\n",
              "      <td>Sat</td>\n",
              "      <td>Dinner</td>\n",
              "      <td>3</td>\n",
              "    </tr>\n",
              "    <tr>\n",
              "      <th>240</th>\n",
              "      <td>27.18</td>\n",
              "      <td>2.00</td>\n",
              "      <td>Female</td>\n",
              "      <td>Yes</td>\n",
              "      <td>Sat</td>\n",
              "      <td>Dinner</td>\n",
              "      <td>2</td>\n",
              "    </tr>\n",
              "    <tr>\n",
              "      <th>241</th>\n",
              "      <td>22.67</td>\n",
              "      <td>2.00</td>\n",
              "      <td>Male</td>\n",
              "      <td>Yes</td>\n",
              "      <td>Sat</td>\n",
              "      <td>Dinner</td>\n",
              "      <td>2</td>\n",
              "    </tr>\n",
              "    <tr>\n",
              "      <th>242</th>\n",
              "      <td>17.82</td>\n",
              "      <td>1.75</td>\n",
              "      <td>Male</td>\n",
              "      <td>No</td>\n",
              "      <td>Sat</td>\n",
              "      <td>Dinner</td>\n",
              "      <td>2</td>\n",
              "    </tr>\n",
              "    <tr>\n",
              "      <th>243</th>\n",
              "      <td>18.78</td>\n",
              "      <td>3.00</td>\n",
              "      <td>Female</td>\n",
              "      <td>No</td>\n",
              "      <td>Thur</td>\n",
              "      <td>Dinner</td>\n",
              "      <td>2</td>\n",
              "    </tr>\n",
              "  </tbody>\n",
              "</table>\n",
              "<p>244 rows × 7 columns</p>\n",
              "</div>\n",
              "    <div class=\"colab-df-buttons\">\n",
              "\n",
              "  <div class=\"colab-df-container\">\n",
              "    <button class=\"colab-df-convert\" onclick=\"convertToInteractive('df-9bfc032a-e208-41f8-9cad-29fbad5e712d')\"\n",
              "            title=\"Convert this dataframe to an interactive table.\"\n",
              "            style=\"display:none;\">\n",
              "\n",
              "  <svg xmlns=\"http://www.w3.org/2000/svg\" height=\"24px\" viewBox=\"0 -960 960 960\">\n",
              "    <path d=\"M120-120v-720h720v720H120Zm60-500h600v-160H180v160Zm220 220h160v-160H400v160Zm0 220h160v-160H400v160ZM180-400h160v-160H180v160Zm440 0h160v-160H620v160ZM180-180h160v-160H180v160Zm440 0h160v-160H620v160Z\"/>\n",
              "  </svg>\n",
              "    </button>\n",
              "\n",
              "  <style>\n",
              "    .colab-df-container {\n",
              "      display:flex;\n",
              "      gap: 12px;\n",
              "    }\n",
              "\n",
              "    .colab-df-convert {\n",
              "      background-color: #E8F0FE;\n",
              "      border: none;\n",
              "      border-radius: 50%;\n",
              "      cursor: pointer;\n",
              "      display: none;\n",
              "      fill: #1967D2;\n",
              "      height: 32px;\n",
              "      padding: 0 0 0 0;\n",
              "      width: 32px;\n",
              "    }\n",
              "\n",
              "    .colab-df-convert:hover {\n",
              "      background-color: #E2EBFA;\n",
              "      box-shadow: 0px 1px 2px rgba(60, 64, 67, 0.3), 0px 1px 3px 1px rgba(60, 64, 67, 0.15);\n",
              "      fill: #174EA6;\n",
              "    }\n",
              "\n",
              "    .colab-df-buttons div {\n",
              "      margin-bottom: 4px;\n",
              "    }\n",
              "\n",
              "    [theme=dark] .colab-df-convert {\n",
              "      background-color: #3B4455;\n",
              "      fill: #D2E3FC;\n",
              "    }\n",
              "\n",
              "    [theme=dark] .colab-df-convert:hover {\n",
              "      background-color: #434B5C;\n",
              "      box-shadow: 0px 1px 3px 1px rgba(0, 0, 0, 0.15);\n",
              "      filter: drop-shadow(0px 1px 2px rgba(0, 0, 0, 0.3));\n",
              "      fill: #FFFFFF;\n",
              "    }\n",
              "  </style>\n",
              "\n",
              "    <script>\n",
              "      const buttonEl =\n",
              "        document.querySelector('#df-9bfc032a-e208-41f8-9cad-29fbad5e712d button.colab-df-convert');\n",
              "      buttonEl.style.display =\n",
              "        google.colab.kernel.accessAllowed ? 'block' : 'none';\n",
              "\n",
              "      async function convertToInteractive(key) {\n",
              "        const element = document.querySelector('#df-9bfc032a-e208-41f8-9cad-29fbad5e712d');\n",
              "        const dataTable =\n",
              "          await google.colab.kernel.invokeFunction('convertToInteractive',\n",
              "                                                    [key], {});\n",
              "        if (!dataTable) return;\n",
              "\n",
              "        const docLinkHtml = 'Like what you see? Visit the ' +\n",
              "          '<a target=\"_blank\" href=https://colab.research.google.com/notebooks/data_table.ipynb>data table notebook</a>'\n",
              "          + ' to learn more about interactive tables.';\n",
              "        element.innerHTML = '';\n",
              "        dataTable['output_type'] = 'display_data';\n",
              "        await google.colab.output.renderOutput(dataTable, element);\n",
              "        const docLink = document.createElement('div');\n",
              "        docLink.innerHTML = docLinkHtml;\n",
              "        element.appendChild(docLink);\n",
              "      }\n",
              "    </script>\n",
              "  </div>\n",
              "\n",
              "\n",
              "<div id=\"df-31c30923-5830-4d78-b708-ea356826f47b\">\n",
              "  <button class=\"colab-df-quickchart\" onclick=\"quickchart('df-31c30923-5830-4d78-b708-ea356826f47b')\"\n",
              "            title=\"Suggest charts\"\n",
              "            style=\"display:none;\">\n",
              "\n",
              "<svg xmlns=\"http://www.w3.org/2000/svg\" height=\"24px\"viewBox=\"0 0 24 24\"\n",
              "     width=\"24px\">\n",
              "    <g>\n",
              "        <path d=\"M19 3H5c-1.1 0-2 .9-2 2v14c0 1.1.9 2 2 2h14c1.1 0 2-.9 2-2V5c0-1.1-.9-2-2-2zM9 17H7v-7h2v7zm4 0h-2V7h2v10zm4 0h-2v-4h2v4z\"/>\n",
              "    </g>\n",
              "</svg>\n",
              "  </button>\n",
              "\n",
              "<style>\n",
              "  .colab-df-quickchart {\n",
              "      --bg-color: #E8F0FE;\n",
              "      --fill-color: #1967D2;\n",
              "      --hover-bg-color: #E2EBFA;\n",
              "      --hover-fill-color: #174EA6;\n",
              "      --disabled-fill-color: #AAA;\n",
              "      --disabled-bg-color: #DDD;\n",
              "  }\n",
              "\n",
              "  [theme=dark] .colab-df-quickchart {\n",
              "      --bg-color: #3B4455;\n",
              "      --fill-color: #D2E3FC;\n",
              "      --hover-bg-color: #434B5C;\n",
              "      --hover-fill-color: #FFFFFF;\n",
              "      --disabled-bg-color: #3B4455;\n",
              "      --disabled-fill-color: #666;\n",
              "  }\n",
              "\n",
              "  .colab-df-quickchart {\n",
              "    background-color: var(--bg-color);\n",
              "    border: none;\n",
              "    border-radius: 50%;\n",
              "    cursor: pointer;\n",
              "    display: none;\n",
              "    fill: var(--fill-color);\n",
              "    height: 32px;\n",
              "    padding: 0;\n",
              "    width: 32px;\n",
              "  }\n",
              "\n",
              "  .colab-df-quickchart:hover {\n",
              "    background-color: var(--hover-bg-color);\n",
              "    box-shadow: 0 1px 2px rgba(60, 64, 67, 0.3), 0 1px 3px 1px rgba(60, 64, 67, 0.15);\n",
              "    fill: var(--button-hover-fill-color);\n",
              "  }\n",
              "\n",
              "  .colab-df-quickchart-complete:disabled,\n",
              "  .colab-df-quickchart-complete:disabled:hover {\n",
              "    background-color: var(--disabled-bg-color);\n",
              "    fill: var(--disabled-fill-color);\n",
              "    box-shadow: none;\n",
              "  }\n",
              "\n",
              "  .colab-df-spinner {\n",
              "    border: 2px solid var(--fill-color);\n",
              "    border-color: transparent;\n",
              "    border-bottom-color: var(--fill-color);\n",
              "    animation:\n",
              "      spin 1s steps(1) infinite;\n",
              "  }\n",
              "\n",
              "  @keyframes spin {\n",
              "    0% {\n",
              "      border-color: transparent;\n",
              "      border-bottom-color: var(--fill-color);\n",
              "      border-left-color: var(--fill-color);\n",
              "    }\n",
              "    20% {\n",
              "      border-color: transparent;\n",
              "      border-left-color: var(--fill-color);\n",
              "      border-top-color: var(--fill-color);\n",
              "    }\n",
              "    30% {\n",
              "      border-color: transparent;\n",
              "      border-left-color: var(--fill-color);\n",
              "      border-top-color: var(--fill-color);\n",
              "      border-right-color: var(--fill-color);\n",
              "    }\n",
              "    40% {\n",
              "      border-color: transparent;\n",
              "      border-right-color: var(--fill-color);\n",
              "      border-top-color: var(--fill-color);\n",
              "    }\n",
              "    60% {\n",
              "      border-color: transparent;\n",
              "      border-right-color: var(--fill-color);\n",
              "    }\n",
              "    80% {\n",
              "      border-color: transparent;\n",
              "      border-right-color: var(--fill-color);\n",
              "      border-bottom-color: var(--fill-color);\n",
              "    }\n",
              "    90% {\n",
              "      border-color: transparent;\n",
              "      border-bottom-color: var(--fill-color);\n",
              "    }\n",
              "  }\n",
              "</style>\n",
              "\n",
              "  <script>\n",
              "    async function quickchart(key) {\n",
              "      const quickchartButtonEl =\n",
              "        document.querySelector('#' + key + ' button');\n",
              "      quickchartButtonEl.disabled = true;  // To prevent multiple clicks.\n",
              "      quickchartButtonEl.classList.add('colab-df-spinner');\n",
              "      try {\n",
              "        const charts = await google.colab.kernel.invokeFunction(\n",
              "            'suggestCharts', [key], {});\n",
              "      } catch (error) {\n",
              "        console.error('Error during call to suggestCharts:', error);\n",
              "      }\n",
              "      quickchartButtonEl.classList.remove('colab-df-spinner');\n",
              "      quickchartButtonEl.classList.add('colab-df-quickchart-complete');\n",
              "    }\n",
              "    (() => {\n",
              "      let quickchartButtonEl =\n",
              "        document.querySelector('#df-31c30923-5830-4d78-b708-ea356826f47b button');\n",
              "      quickchartButtonEl.style.display =\n",
              "        google.colab.kernel.accessAllowed ? 'block' : 'none';\n",
              "    })();\n",
              "  </script>\n",
              "</div>\n",
              "\n",
              "  <div id=\"id_b6b5b0e8-15ed-4eac-9e5c-d4203f8ae9cd\">\n",
              "    <style>\n",
              "      .colab-df-generate {\n",
              "        background-color: #E8F0FE;\n",
              "        border: none;\n",
              "        border-radius: 50%;\n",
              "        cursor: pointer;\n",
              "        display: none;\n",
              "        fill: #1967D2;\n",
              "        height: 32px;\n",
              "        padding: 0 0 0 0;\n",
              "        width: 32px;\n",
              "      }\n",
              "\n",
              "      .colab-df-generate:hover {\n",
              "        background-color: #E2EBFA;\n",
              "        box-shadow: 0px 1px 2px rgba(60, 64, 67, 0.3), 0px 1px 3px 1px rgba(60, 64, 67, 0.15);\n",
              "        fill: #174EA6;\n",
              "      }\n",
              "\n",
              "      [theme=dark] .colab-df-generate {\n",
              "        background-color: #3B4455;\n",
              "        fill: #D2E3FC;\n",
              "      }\n",
              "\n",
              "      [theme=dark] .colab-df-generate:hover {\n",
              "        background-color: #434B5C;\n",
              "        box-shadow: 0px 1px 3px 1px rgba(0, 0, 0, 0.15);\n",
              "        filter: drop-shadow(0px 1px 2px rgba(0, 0, 0, 0.3));\n",
              "        fill: #FFFFFF;\n",
              "      }\n",
              "    </style>\n",
              "    <button class=\"colab-df-generate\" onclick=\"generateWithVariable('df')\"\n",
              "            title=\"Generate code using this dataframe.\"\n",
              "            style=\"display:none;\">\n",
              "\n",
              "  <svg xmlns=\"http://www.w3.org/2000/svg\" height=\"24px\"viewBox=\"0 0 24 24\"\n",
              "       width=\"24px\">\n",
              "    <path d=\"M7,19H8.4L18.45,9,17,7.55,7,17.6ZM5,21V16.75L18.45,3.32a2,2,0,0,1,2.83,0l1.4,1.43a1.91,1.91,0,0,1,.58,1.4,1.91,1.91,0,0,1-.58,1.4L9.25,21ZM18.45,9,17,7.55Zm-12,3A5.31,5.31,0,0,0,4.9,8.1,5.31,5.31,0,0,0,1,6.5,5.31,5.31,0,0,0,4.9,4.9,5.31,5.31,0,0,0,6.5,1,5.31,5.31,0,0,0,8.1,4.9,5.31,5.31,0,0,0,12,6.5,5.46,5.46,0,0,0,6.5,12Z\"/>\n",
              "  </svg>\n",
              "    </button>\n",
              "    <script>\n",
              "      (() => {\n",
              "      const buttonEl =\n",
              "        document.querySelector('#id_b6b5b0e8-15ed-4eac-9e5c-d4203f8ae9cd button.colab-df-generate');\n",
              "      buttonEl.style.display =\n",
              "        google.colab.kernel.accessAllowed ? 'block' : 'none';\n",
              "\n",
              "      buttonEl.onclick = () => {\n",
              "        google.colab.notebook.generateWithVariable('df');\n",
              "      }\n",
              "      })();\n",
              "    </script>\n",
              "  </div>\n",
              "\n",
              "    </div>\n",
              "  </div>\n"
            ],
            "application/vnd.google.colaboratory.intrinsic+json": {
              "type": "dataframe",
              "variable_name": "df",
              "summary": "{\n  \"name\": \"df\",\n  \"rows\": 244,\n  \"fields\": [\n    {\n      \"column\": \"total_bill\",\n      \"properties\": {\n        \"dtype\": \"number\",\n        \"std\": 8.902411954856856,\n        \"min\": 3.07,\n        \"max\": 50.81,\n        \"num_unique_values\": 229,\n        \"samples\": [\n          22.12,\n          20.23,\n          14.78\n        ],\n        \"semantic_type\": \"\",\n        \"description\": \"\"\n      }\n    },\n    {\n      \"column\": \"tip\",\n      \"properties\": {\n        \"dtype\": \"number\",\n        \"std\": 1.3836381890011822,\n        \"min\": 1.0,\n        \"max\": 10.0,\n        \"num_unique_values\": 123,\n        \"samples\": [\n          3.35,\n          1.5,\n          6.73\n        ],\n        \"semantic_type\": \"\",\n        \"description\": \"\"\n      }\n    },\n    {\n      \"column\": \"sex\",\n      \"properties\": {\n        \"dtype\": \"category\",\n        \"num_unique_values\": 2,\n        \"samples\": [\n          \"Male\",\n          \"Female\"\n        ],\n        \"semantic_type\": \"\",\n        \"description\": \"\"\n      }\n    },\n    {\n      \"column\": \"smoker\",\n      \"properties\": {\n        \"dtype\": \"category\",\n        \"num_unique_values\": 2,\n        \"samples\": [\n          \"Yes\",\n          \"No\"\n        ],\n        \"semantic_type\": \"\",\n        \"description\": \"\"\n      }\n    },\n    {\n      \"column\": \"day\",\n      \"properties\": {\n        \"dtype\": \"category\",\n        \"num_unique_values\": 4,\n        \"samples\": [\n          \"Sat\",\n          \"Fri\"\n        ],\n        \"semantic_type\": \"\",\n        \"description\": \"\"\n      }\n    },\n    {\n      \"column\": \"time\",\n      \"properties\": {\n        \"dtype\": \"category\",\n        \"num_unique_values\": 2,\n        \"samples\": [\n          \"Lunch\",\n          \"Dinner\"\n        ],\n        \"semantic_type\": \"\",\n        \"description\": \"\"\n      }\n    },\n    {\n      \"column\": \"size\",\n      \"properties\": {\n        \"dtype\": \"number\",\n        \"std\": 0,\n        \"min\": 1,\n        \"max\": 6,\n        \"num_unique_values\": 6,\n        \"samples\": [\n          2,\n          3\n        ],\n        \"semantic_type\": \"\",\n        \"description\": \"\"\n      }\n    }\n  ]\n}"
            }
          },
          "metadata": {},
          "execution_count": 31
        }
      ]
    },
    {
      "cell_type": "code",
      "source": [
        "X=df[['total_bill','tip']]\n",
        "X.corr()"
      ],
      "metadata": {
        "colab": {
          "base_uri": "https://localhost:8080/",
          "height": 112
        },
        "id": "Mc3IK69WBq3S",
        "outputId": "fbffc51d-f1d7-484e-b8cd-132422118019"
      },
      "execution_count": 32,
      "outputs": [
        {
          "output_type": "execute_result",
          "data": {
            "text/plain": [
              "            total_bill       tip\n",
              "total_bill    1.000000  0.675734\n",
              "tip           0.675734  1.000000"
            ],
            "text/html": [
              "\n",
              "  <div id=\"df-6e5bb226-2d94-4253-a8e6-ba50d0c64d2d\" class=\"colab-df-container\">\n",
              "    <div>\n",
              "<style scoped>\n",
              "    .dataframe tbody tr th:only-of-type {\n",
              "        vertical-align: middle;\n",
              "    }\n",
              "\n",
              "    .dataframe tbody tr th {\n",
              "        vertical-align: top;\n",
              "    }\n",
              "\n",
              "    .dataframe thead th {\n",
              "        text-align: right;\n",
              "    }\n",
              "</style>\n",
              "<table border=\"1\" class=\"dataframe\">\n",
              "  <thead>\n",
              "    <tr style=\"text-align: right;\">\n",
              "      <th></th>\n",
              "      <th>total_bill</th>\n",
              "      <th>tip</th>\n",
              "    </tr>\n",
              "  </thead>\n",
              "  <tbody>\n",
              "    <tr>\n",
              "      <th>total_bill</th>\n",
              "      <td>1.000000</td>\n",
              "      <td>0.675734</td>\n",
              "    </tr>\n",
              "    <tr>\n",
              "      <th>tip</th>\n",
              "      <td>0.675734</td>\n",
              "      <td>1.000000</td>\n",
              "    </tr>\n",
              "  </tbody>\n",
              "</table>\n",
              "</div>\n",
              "    <div class=\"colab-df-buttons\">\n",
              "\n",
              "  <div class=\"colab-df-container\">\n",
              "    <button class=\"colab-df-convert\" onclick=\"convertToInteractive('df-6e5bb226-2d94-4253-a8e6-ba50d0c64d2d')\"\n",
              "            title=\"Convert this dataframe to an interactive table.\"\n",
              "            style=\"display:none;\">\n",
              "\n",
              "  <svg xmlns=\"http://www.w3.org/2000/svg\" height=\"24px\" viewBox=\"0 -960 960 960\">\n",
              "    <path d=\"M120-120v-720h720v720H120Zm60-500h600v-160H180v160Zm220 220h160v-160H400v160Zm0 220h160v-160H400v160ZM180-400h160v-160H180v160Zm440 0h160v-160H620v160ZM180-180h160v-160H180v160Zm440 0h160v-160H620v160Z\"/>\n",
              "  </svg>\n",
              "    </button>\n",
              "\n",
              "  <style>\n",
              "    .colab-df-container {\n",
              "      display:flex;\n",
              "      gap: 12px;\n",
              "    }\n",
              "\n",
              "    .colab-df-convert {\n",
              "      background-color: #E8F0FE;\n",
              "      border: none;\n",
              "      border-radius: 50%;\n",
              "      cursor: pointer;\n",
              "      display: none;\n",
              "      fill: #1967D2;\n",
              "      height: 32px;\n",
              "      padding: 0 0 0 0;\n",
              "      width: 32px;\n",
              "    }\n",
              "\n",
              "    .colab-df-convert:hover {\n",
              "      background-color: #E2EBFA;\n",
              "      box-shadow: 0px 1px 2px rgba(60, 64, 67, 0.3), 0px 1px 3px 1px rgba(60, 64, 67, 0.15);\n",
              "      fill: #174EA6;\n",
              "    }\n",
              "\n",
              "    .colab-df-buttons div {\n",
              "      margin-bottom: 4px;\n",
              "    }\n",
              "\n",
              "    [theme=dark] .colab-df-convert {\n",
              "      background-color: #3B4455;\n",
              "      fill: #D2E3FC;\n",
              "    }\n",
              "\n",
              "    [theme=dark] .colab-df-convert:hover {\n",
              "      background-color: #434B5C;\n",
              "      box-shadow: 0px 1px 3px 1px rgba(0, 0, 0, 0.15);\n",
              "      filter: drop-shadow(0px 1px 2px rgba(0, 0, 0, 0.3));\n",
              "      fill: #FFFFFF;\n",
              "    }\n",
              "  </style>\n",
              "\n",
              "    <script>\n",
              "      const buttonEl =\n",
              "        document.querySelector('#df-6e5bb226-2d94-4253-a8e6-ba50d0c64d2d button.colab-df-convert');\n",
              "      buttonEl.style.display =\n",
              "        google.colab.kernel.accessAllowed ? 'block' : 'none';\n",
              "\n",
              "      async function convertToInteractive(key) {\n",
              "        const element = document.querySelector('#df-6e5bb226-2d94-4253-a8e6-ba50d0c64d2d');\n",
              "        const dataTable =\n",
              "          await google.colab.kernel.invokeFunction('convertToInteractive',\n",
              "                                                    [key], {});\n",
              "        if (!dataTable) return;\n",
              "\n",
              "        const docLinkHtml = 'Like what you see? Visit the ' +\n",
              "          '<a target=\"_blank\" href=https://colab.research.google.com/notebooks/data_table.ipynb>data table notebook</a>'\n",
              "          + ' to learn more about interactive tables.';\n",
              "        element.innerHTML = '';\n",
              "        dataTable['output_type'] = 'display_data';\n",
              "        await google.colab.output.renderOutput(dataTable, element);\n",
              "        const docLink = document.createElement('div');\n",
              "        docLink.innerHTML = docLinkHtml;\n",
              "        element.appendChild(docLink);\n",
              "      }\n",
              "    </script>\n",
              "  </div>\n",
              "\n",
              "\n",
              "<div id=\"df-a9063a62-6ab2-4333-ab80-09e5a8a81d67\">\n",
              "  <button class=\"colab-df-quickchart\" onclick=\"quickchart('df-a9063a62-6ab2-4333-ab80-09e5a8a81d67')\"\n",
              "            title=\"Suggest charts\"\n",
              "            style=\"display:none;\">\n",
              "\n",
              "<svg xmlns=\"http://www.w3.org/2000/svg\" height=\"24px\"viewBox=\"0 0 24 24\"\n",
              "     width=\"24px\">\n",
              "    <g>\n",
              "        <path d=\"M19 3H5c-1.1 0-2 .9-2 2v14c0 1.1.9 2 2 2h14c1.1 0 2-.9 2-2V5c0-1.1-.9-2-2-2zM9 17H7v-7h2v7zm4 0h-2V7h2v10zm4 0h-2v-4h2v4z\"/>\n",
              "    </g>\n",
              "</svg>\n",
              "  </button>\n",
              "\n",
              "<style>\n",
              "  .colab-df-quickchart {\n",
              "      --bg-color: #E8F0FE;\n",
              "      --fill-color: #1967D2;\n",
              "      --hover-bg-color: #E2EBFA;\n",
              "      --hover-fill-color: #174EA6;\n",
              "      --disabled-fill-color: #AAA;\n",
              "      --disabled-bg-color: #DDD;\n",
              "  }\n",
              "\n",
              "  [theme=dark] .colab-df-quickchart {\n",
              "      --bg-color: #3B4455;\n",
              "      --fill-color: #D2E3FC;\n",
              "      --hover-bg-color: #434B5C;\n",
              "      --hover-fill-color: #FFFFFF;\n",
              "      --disabled-bg-color: #3B4455;\n",
              "      --disabled-fill-color: #666;\n",
              "  }\n",
              "\n",
              "  .colab-df-quickchart {\n",
              "    background-color: var(--bg-color);\n",
              "    border: none;\n",
              "    border-radius: 50%;\n",
              "    cursor: pointer;\n",
              "    display: none;\n",
              "    fill: var(--fill-color);\n",
              "    height: 32px;\n",
              "    padding: 0;\n",
              "    width: 32px;\n",
              "  }\n",
              "\n",
              "  .colab-df-quickchart:hover {\n",
              "    background-color: var(--hover-bg-color);\n",
              "    box-shadow: 0 1px 2px rgba(60, 64, 67, 0.3), 0 1px 3px 1px rgba(60, 64, 67, 0.15);\n",
              "    fill: var(--button-hover-fill-color);\n",
              "  }\n",
              "\n",
              "  .colab-df-quickchart-complete:disabled,\n",
              "  .colab-df-quickchart-complete:disabled:hover {\n",
              "    background-color: var(--disabled-bg-color);\n",
              "    fill: var(--disabled-fill-color);\n",
              "    box-shadow: none;\n",
              "  }\n",
              "\n",
              "  .colab-df-spinner {\n",
              "    border: 2px solid var(--fill-color);\n",
              "    border-color: transparent;\n",
              "    border-bottom-color: var(--fill-color);\n",
              "    animation:\n",
              "      spin 1s steps(1) infinite;\n",
              "  }\n",
              "\n",
              "  @keyframes spin {\n",
              "    0% {\n",
              "      border-color: transparent;\n",
              "      border-bottom-color: var(--fill-color);\n",
              "      border-left-color: var(--fill-color);\n",
              "    }\n",
              "    20% {\n",
              "      border-color: transparent;\n",
              "      border-left-color: var(--fill-color);\n",
              "      border-top-color: var(--fill-color);\n",
              "    }\n",
              "    30% {\n",
              "      border-color: transparent;\n",
              "      border-left-color: var(--fill-color);\n",
              "      border-top-color: var(--fill-color);\n",
              "      border-right-color: var(--fill-color);\n",
              "    }\n",
              "    40% {\n",
              "      border-color: transparent;\n",
              "      border-right-color: var(--fill-color);\n",
              "      border-top-color: var(--fill-color);\n",
              "    }\n",
              "    60% {\n",
              "      border-color: transparent;\n",
              "      border-right-color: var(--fill-color);\n",
              "    }\n",
              "    80% {\n",
              "      border-color: transparent;\n",
              "      border-right-color: var(--fill-color);\n",
              "      border-bottom-color: var(--fill-color);\n",
              "    }\n",
              "    90% {\n",
              "      border-color: transparent;\n",
              "      border-bottom-color: var(--fill-color);\n",
              "    }\n",
              "  }\n",
              "</style>\n",
              "\n",
              "  <script>\n",
              "    async function quickchart(key) {\n",
              "      const quickchartButtonEl =\n",
              "        document.querySelector('#' + key + ' button');\n",
              "      quickchartButtonEl.disabled = true;  // To prevent multiple clicks.\n",
              "      quickchartButtonEl.classList.add('colab-df-spinner');\n",
              "      try {\n",
              "        const charts = await google.colab.kernel.invokeFunction(\n",
              "            'suggestCharts', [key], {});\n",
              "      } catch (error) {\n",
              "        console.error('Error during call to suggestCharts:', error);\n",
              "      }\n",
              "      quickchartButtonEl.classList.remove('colab-df-spinner');\n",
              "      quickchartButtonEl.classList.add('colab-df-quickchart-complete');\n",
              "    }\n",
              "    (() => {\n",
              "      let quickchartButtonEl =\n",
              "        document.querySelector('#df-a9063a62-6ab2-4333-ab80-09e5a8a81d67 button');\n",
              "      quickchartButtonEl.style.display =\n",
              "        google.colab.kernel.accessAllowed ? 'block' : 'none';\n",
              "    })();\n",
              "  </script>\n",
              "</div>\n",
              "\n",
              "    </div>\n",
              "  </div>\n"
            ],
            "application/vnd.google.colaboratory.intrinsic+json": {
              "type": "dataframe",
              "summary": "{\n  \"name\": \"X\",\n  \"rows\": 2,\n  \"fields\": [\n    {\n      \"column\": \"total_bill\",\n      \"properties\": {\n        \"dtype\": \"number\",\n        \"std\": 0.2292906102841404,\n        \"min\": 0.6757341092113648,\n        \"max\": 1.0,\n        \"num_unique_values\": 2,\n        \"samples\": [\n          0.6757341092113648,\n          1.0\n        ],\n        \"semantic_type\": \"\",\n        \"description\": \"\"\n      }\n    },\n    {\n      \"column\": \"tip\",\n      \"properties\": {\n        \"dtype\": \"number\",\n        \"std\": 0.2292906102841404,\n        \"min\": 0.6757341092113648,\n        \"max\": 1.0,\n        \"num_unique_values\": 2,\n        \"samples\": [\n          1.0,\n          0.6757341092113648\n        ],\n        \"semantic_type\": \"\",\n        \"description\": \"\"\n      }\n    }\n  ]\n}"
            }
          },
          "metadata": {},
          "execution_count": 32
        }
      ]
    },
    {
      "cell_type": "code",
      "source": [
        "X.corr(numeric_only=True)"
      ],
      "metadata": {
        "colab": {
          "base_uri": "https://localhost:8080/",
          "height": 112
        },
        "id": "o2BGibFOCQJV",
        "outputId": "ea2a9957-af17-4e29-afc9-1acfa1f7fef3"
      },
      "execution_count": 33,
      "outputs": [
        {
          "output_type": "execute_result",
          "data": {
            "text/plain": [
              "            total_bill       tip\n",
              "total_bill    1.000000  0.675734\n",
              "tip           0.675734  1.000000"
            ],
            "text/html": [
              "\n",
              "  <div id=\"df-321b2c47-6e35-4222-81a7-21b316840cda\" class=\"colab-df-container\">\n",
              "    <div>\n",
              "<style scoped>\n",
              "    .dataframe tbody tr th:only-of-type {\n",
              "        vertical-align: middle;\n",
              "    }\n",
              "\n",
              "    .dataframe tbody tr th {\n",
              "        vertical-align: top;\n",
              "    }\n",
              "\n",
              "    .dataframe thead th {\n",
              "        text-align: right;\n",
              "    }\n",
              "</style>\n",
              "<table border=\"1\" class=\"dataframe\">\n",
              "  <thead>\n",
              "    <tr style=\"text-align: right;\">\n",
              "      <th></th>\n",
              "      <th>total_bill</th>\n",
              "      <th>tip</th>\n",
              "    </tr>\n",
              "  </thead>\n",
              "  <tbody>\n",
              "    <tr>\n",
              "      <th>total_bill</th>\n",
              "      <td>1.000000</td>\n",
              "      <td>0.675734</td>\n",
              "    </tr>\n",
              "    <tr>\n",
              "      <th>tip</th>\n",
              "      <td>0.675734</td>\n",
              "      <td>1.000000</td>\n",
              "    </tr>\n",
              "  </tbody>\n",
              "</table>\n",
              "</div>\n",
              "    <div class=\"colab-df-buttons\">\n",
              "\n",
              "  <div class=\"colab-df-container\">\n",
              "    <button class=\"colab-df-convert\" onclick=\"convertToInteractive('df-321b2c47-6e35-4222-81a7-21b316840cda')\"\n",
              "            title=\"Convert this dataframe to an interactive table.\"\n",
              "            style=\"display:none;\">\n",
              "\n",
              "  <svg xmlns=\"http://www.w3.org/2000/svg\" height=\"24px\" viewBox=\"0 -960 960 960\">\n",
              "    <path d=\"M120-120v-720h720v720H120Zm60-500h600v-160H180v160Zm220 220h160v-160H400v160Zm0 220h160v-160H400v160ZM180-400h160v-160H180v160Zm440 0h160v-160H620v160ZM180-180h160v-160H180v160Zm440 0h160v-160H620v160Z\"/>\n",
              "  </svg>\n",
              "    </button>\n",
              "\n",
              "  <style>\n",
              "    .colab-df-container {\n",
              "      display:flex;\n",
              "      gap: 12px;\n",
              "    }\n",
              "\n",
              "    .colab-df-convert {\n",
              "      background-color: #E8F0FE;\n",
              "      border: none;\n",
              "      border-radius: 50%;\n",
              "      cursor: pointer;\n",
              "      display: none;\n",
              "      fill: #1967D2;\n",
              "      height: 32px;\n",
              "      padding: 0 0 0 0;\n",
              "      width: 32px;\n",
              "    }\n",
              "\n",
              "    .colab-df-convert:hover {\n",
              "      background-color: #E2EBFA;\n",
              "      box-shadow: 0px 1px 2px rgba(60, 64, 67, 0.3), 0px 1px 3px 1px rgba(60, 64, 67, 0.15);\n",
              "      fill: #174EA6;\n",
              "    }\n",
              "\n",
              "    .colab-df-buttons div {\n",
              "      margin-bottom: 4px;\n",
              "    }\n",
              "\n",
              "    [theme=dark] .colab-df-convert {\n",
              "      background-color: #3B4455;\n",
              "      fill: #D2E3FC;\n",
              "    }\n",
              "\n",
              "    [theme=dark] .colab-df-convert:hover {\n",
              "      background-color: #434B5C;\n",
              "      box-shadow: 0px 1px 3px 1px rgba(0, 0, 0, 0.15);\n",
              "      filter: drop-shadow(0px 1px 2px rgba(0, 0, 0, 0.3));\n",
              "      fill: #FFFFFF;\n",
              "    }\n",
              "  </style>\n",
              "\n",
              "    <script>\n",
              "      const buttonEl =\n",
              "        document.querySelector('#df-321b2c47-6e35-4222-81a7-21b316840cda button.colab-df-convert');\n",
              "      buttonEl.style.display =\n",
              "        google.colab.kernel.accessAllowed ? 'block' : 'none';\n",
              "\n",
              "      async function convertToInteractive(key) {\n",
              "        const element = document.querySelector('#df-321b2c47-6e35-4222-81a7-21b316840cda');\n",
              "        const dataTable =\n",
              "          await google.colab.kernel.invokeFunction('convertToInteractive',\n",
              "                                                    [key], {});\n",
              "        if (!dataTable) return;\n",
              "\n",
              "        const docLinkHtml = 'Like what you see? Visit the ' +\n",
              "          '<a target=\"_blank\" href=https://colab.research.google.com/notebooks/data_table.ipynb>data table notebook</a>'\n",
              "          + ' to learn more about interactive tables.';\n",
              "        element.innerHTML = '';\n",
              "        dataTable['output_type'] = 'display_data';\n",
              "        await google.colab.output.renderOutput(dataTable, element);\n",
              "        const docLink = document.createElement('div');\n",
              "        docLink.innerHTML = docLinkHtml;\n",
              "        element.appendChild(docLink);\n",
              "      }\n",
              "    </script>\n",
              "  </div>\n",
              "\n",
              "\n",
              "<div id=\"df-f3ce7251-ccc8-4fdf-98b8-7ec44778ed43\">\n",
              "  <button class=\"colab-df-quickchart\" onclick=\"quickchart('df-f3ce7251-ccc8-4fdf-98b8-7ec44778ed43')\"\n",
              "            title=\"Suggest charts\"\n",
              "            style=\"display:none;\">\n",
              "\n",
              "<svg xmlns=\"http://www.w3.org/2000/svg\" height=\"24px\"viewBox=\"0 0 24 24\"\n",
              "     width=\"24px\">\n",
              "    <g>\n",
              "        <path d=\"M19 3H5c-1.1 0-2 .9-2 2v14c0 1.1.9 2 2 2h14c1.1 0 2-.9 2-2V5c0-1.1-.9-2-2-2zM9 17H7v-7h2v7zm4 0h-2V7h2v10zm4 0h-2v-4h2v4z\"/>\n",
              "    </g>\n",
              "</svg>\n",
              "  </button>\n",
              "\n",
              "<style>\n",
              "  .colab-df-quickchart {\n",
              "      --bg-color: #E8F0FE;\n",
              "      --fill-color: #1967D2;\n",
              "      --hover-bg-color: #E2EBFA;\n",
              "      --hover-fill-color: #174EA6;\n",
              "      --disabled-fill-color: #AAA;\n",
              "      --disabled-bg-color: #DDD;\n",
              "  }\n",
              "\n",
              "  [theme=dark] .colab-df-quickchart {\n",
              "      --bg-color: #3B4455;\n",
              "      --fill-color: #D2E3FC;\n",
              "      --hover-bg-color: #434B5C;\n",
              "      --hover-fill-color: #FFFFFF;\n",
              "      --disabled-bg-color: #3B4455;\n",
              "      --disabled-fill-color: #666;\n",
              "  }\n",
              "\n",
              "  .colab-df-quickchart {\n",
              "    background-color: var(--bg-color);\n",
              "    border: none;\n",
              "    border-radius: 50%;\n",
              "    cursor: pointer;\n",
              "    display: none;\n",
              "    fill: var(--fill-color);\n",
              "    height: 32px;\n",
              "    padding: 0;\n",
              "    width: 32px;\n",
              "  }\n",
              "\n",
              "  .colab-df-quickchart:hover {\n",
              "    background-color: var(--hover-bg-color);\n",
              "    box-shadow: 0 1px 2px rgba(60, 64, 67, 0.3), 0 1px 3px 1px rgba(60, 64, 67, 0.15);\n",
              "    fill: var(--button-hover-fill-color);\n",
              "  }\n",
              "\n",
              "  .colab-df-quickchart-complete:disabled,\n",
              "  .colab-df-quickchart-complete:disabled:hover {\n",
              "    background-color: var(--disabled-bg-color);\n",
              "    fill: var(--disabled-fill-color);\n",
              "    box-shadow: none;\n",
              "  }\n",
              "\n",
              "  .colab-df-spinner {\n",
              "    border: 2px solid var(--fill-color);\n",
              "    border-color: transparent;\n",
              "    border-bottom-color: var(--fill-color);\n",
              "    animation:\n",
              "      spin 1s steps(1) infinite;\n",
              "  }\n",
              "\n",
              "  @keyframes spin {\n",
              "    0% {\n",
              "      border-color: transparent;\n",
              "      border-bottom-color: var(--fill-color);\n",
              "      border-left-color: var(--fill-color);\n",
              "    }\n",
              "    20% {\n",
              "      border-color: transparent;\n",
              "      border-left-color: var(--fill-color);\n",
              "      border-top-color: var(--fill-color);\n",
              "    }\n",
              "    30% {\n",
              "      border-color: transparent;\n",
              "      border-left-color: var(--fill-color);\n",
              "      border-top-color: var(--fill-color);\n",
              "      border-right-color: var(--fill-color);\n",
              "    }\n",
              "    40% {\n",
              "      border-color: transparent;\n",
              "      border-right-color: var(--fill-color);\n",
              "      border-top-color: var(--fill-color);\n",
              "    }\n",
              "    60% {\n",
              "      border-color: transparent;\n",
              "      border-right-color: var(--fill-color);\n",
              "    }\n",
              "    80% {\n",
              "      border-color: transparent;\n",
              "      border-right-color: var(--fill-color);\n",
              "      border-bottom-color: var(--fill-color);\n",
              "    }\n",
              "    90% {\n",
              "      border-color: transparent;\n",
              "      border-bottom-color: var(--fill-color);\n",
              "    }\n",
              "  }\n",
              "</style>\n",
              "\n",
              "  <script>\n",
              "    async function quickchart(key) {\n",
              "      const quickchartButtonEl =\n",
              "        document.querySelector('#' + key + ' button');\n",
              "      quickchartButtonEl.disabled = true;  // To prevent multiple clicks.\n",
              "      quickchartButtonEl.classList.add('colab-df-spinner');\n",
              "      try {\n",
              "        const charts = await google.colab.kernel.invokeFunction(\n",
              "            'suggestCharts', [key], {});\n",
              "      } catch (error) {\n",
              "        console.error('Error during call to suggestCharts:', error);\n",
              "      }\n",
              "      quickchartButtonEl.classList.remove('colab-df-spinner');\n",
              "      quickchartButtonEl.classList.add('colab-df-quickchart-complete');\n",
              "    }\n",
              "    (() => {\n",
              "      let quickchartButtonEl =\n",
              "        document.querySelector('#df-f3ce7251-ccc8-4fdf-98b8-7ec44778ed43 button');\n",
              "      quickchartButtonEl.style.display =\n",
              "        google.colab.kernel.accessAllowed ? 'block' : 'none';\n",
              "    })();\n",
              "  </script>\n",
              "</div>\n",
              "\n",
              "    </div>\n",
              "  </div>\n"
            ],
            "application/vnd.google.colaboratory.intrinsic+json": {
              "type": "dataframe",
              "summary": "{\n  \"name\": \"X\",\n  \"rows\": 2,\n  \"fields\": [\n    {\n      \"column\": \"total_bill\",\n      \"properties\": {\n        \"dtype\": \"number\",\n        \"std\": 0.2292906102841404,\n        \"min\": 0.6757341092113648,\n        \"max\": 1.0,\n        \"num_unique_values\": 2,\n        \"samples\": [\n          0.6757341092113648,\n          1.0\n        ],\n        \"semantic_type\": \"\",\n        \"description\": \"\"\n      }\n    },\n    {\n      \"column\": \"tip\",\n      \"properties\": {\n        \"dtype\": \"number\",\n        \"std\": 0.2292906102841404,\n        \"min\": 0.6757341092113648,\n        \"max\": 1.0,\n        \"num_unique_values\": 2,\n        \"samples\": [\n          1.0,\n          0.6757341092113648\n        ],\n        \"semantic_type\": \"\",\n        \"description\": \"\"\n      }\n    }\n  ]\n}"
            }
          },
          "metadata": {},
          "execution_count": 33
        }
      ]
    },
    {
      "cell_type": "code",
      "source": [
        "#if there is one unit change in total_bill then there is 67% chance then tip will also change in positive side."
      ],
      "metadata": {
        "id": "g5iEeQKVDBuX"
      },
      "execution_count": 34,
      "outputs": []
    },
    {
      "cell_type": "code",
      "source": [
        "sns.heatmap(X.corr(),annot=True)"
      ],
      "metadata": {
        "colab": {
          "base_uri": "https://localhost:8080/",
          "height": 452
        },
        "id": "aoVXRdMoDNsm",
        "outputId": "21e285aa-6e44-4163-ee22-c2038dbe7f58"
      },
      "execution_count": 35,
      "outputs": [
        {
          "output_type": "execute_result",
          "data": {
            "text/plain": [
              "<Axes: >"
            ]
          },
          "metadata": {},
          "execution_count": 35
        },
        {
          "output_type": "display_data",
          "data": {
            "text/plain": [
              "<Figure size 640x480 with 2 Axes>"
            ],
            "image/png": "[encoded data removed]"
          },
          "metadata": {}
        }
      ]
    },
    {
      "cell_type": "code",
      "source": [
        "X.cov()"
      ],
      "metadata": {
        "colab": {
          "base_uri": "https://localhost:8080/",
          "height": 112
        },
        "id": "4R-ZbQJwD0dT",
        "outputId": "dd6e46d2-762a-459b-f476-dc388b5da096"
      },
      "execution_count": 36,
      "outputs": [
        {
          "output_type": "execute_result",
          "data": {
            "text/plain": [
              "            total_bill       tip\n",
              "total_bill   79.252939  8.323502\n",
              "tip           8.323502  1.914455"
            ],
            "text/html": [
              "\n",
              "  <div id=\"df-0a11a081-7d9a-41ec-98be-6518501002d8\" class=\"colab-df-container\">\n",
              "    <div>\n",
              "<style scoped>\n",
              "    .dataframe tbody tr th:only-of-type {\n",
              "        vertical-align: middle;\n",
              "    }\n",
              "\n",
              "    .dataframe tbody tr th {\n",
              "        vertical-align: top;\n",
              "    }\n",
              "\n",
              "    .dataframe thead th {\n",
              "        text-align: right;\n",
              "    }\n",
              "</style>\n",
              "<table border=\"1\" class=\"dataframe\">\n",
              "  <thead>\n",
              "    <tr style=\"text-align: right;\">\n",
              "      <th></th>\n",
              "      <th>total_bill</th>\n",
              "      <th>tip</th>\n",
              "    </tr>\n",
              "  </thead>\n",
              "  <tbody>\n",
              "    <tr>\n",
              "      <th>total_bill</th>\n",
              "      <td>79.252939</td>\n",
              "      <td>8.323502</td>\n",
              "    </tr>\n",
              "    <tr>\n",
              "      <th>tip</th>\n",
              "      <td>8.323502</td>\n",
              "      <td>1.914455</td>\n",
              "    </tr>\n",
              "  </tbody>\n",
              "</table>\n",
              "</div>\n",
              "    <div class=\"colab-df-buttons\">\n",
              "\n",
              "  <div class=\"colab-df-container\">\n",
              "    <button class=\"colab-df-convert\" onclick=\"convertToInteractive('df-0a11a081-7d9a-41ec-98be-6518501002d8')\"\n",
              "            title=\"Convert this dataframe to an interactive table.\"\n",
              "            style=\"display:none;\">\n",
              "\n",
              "  <svg xmlns=\"http://www.w3.org/2000/svg\" height=\"24px\" viewBox=\"0 -960 960 960\">\n",
              "    <path d=\"M120-120v-720h720v720H120Zm60-500h600v-160H180v160Zm220 220h160v-160H400v160Zm0 220h160v-160H400v160ZM180-400h160v-160H180v160Zm440 0h160v-160H620v160ZM180-180h160v-160H180v160Zm440 0h160v-160H620v160Z\"/>\n",
              "  </svg>\n",
              "    </button>\n",
              "\n",
              "  <style>\n",
              "    .colab-df-container {\n",
              "      display:flex;\n",
              "      gap: 12px;\n",
              "    }\n",
              "\n",
              "    .colab-df-convert {\n",
              "      background-color: #E8F0FE;\n",
              "      border: none;\n",
              "      border-radius: 50%;\n",
              "      cursor: pointer;\n",
              "      display: none;\n",
              "      fill: #1967D2;\n",
              "      height: 32px;\n",
              "      padding: 0 0 0 0;\n",
              "      width: 32px;\n",
              "    }\n",
              "\n",
              "    .colab-df-convert:hover {\n",
              "      background-color: #E2EBFA;\n",
              "      box-shadow: 0px 1px 2px rgba(60, 64, 67, 0.3), 0px 1px 3px 1px rgba(60, 64, 67, 0.15);\n",
              "      fill: #174EA6;\n",
              "    }\n",
              "\n",
              "    .colab-df-buttons div {\n",
              "      margin-bottom: 4px;\n",
              "    }\n",
              "\n",
              "    [theme=dark] .colab-df-convert {\n",
              "      background-color: #3B4455;\n",
              "      fill: #D2E3FC;\n",
              "    }\n",
              "\n",
              "    [theme=dark] .colab-df-convert:hover {\n",
              "      background-color: #434B5C;\n",
              "      box-shadow: 0px 1px 3px 1px rgba(0, 0, 0, 0.15);\n",
              "      filter: drop-shadow(0px 1px 2px rgba(0, 0, 0, 0.3));\n",
              "      fill: #FFFFFF;\n",
              "    }\n",
              "  </style>\n",
              "\n",
              "    <script>\n",
              "      const buttonEl =\n",
              "        document.querySelector('#df-0a11a081-7d9a-41ec-98be-6518501002d8 button.colab-df-convert');\n",
              "      buttonEl.style.display =\n",
              "        google.colab.kernel.accessAllowed ? 'block' : 'none';\n",
              "\n",
              "      async function convertToInteractive(key) {\n",
              "        const element = document.querySelector('#df-0a11a081-7d9a-41ec-98be-6518501002d8');\n",
              "        const dataTable =\n",
              "          await google.colab.kernel.invokeFunction('convertToInteractive',\n",
              "                                                    [key], {});\n",
              "        if (!dataTable) return;\n",
              "\n",
              "        const docLinkHtml = 'Like what you see? Visit the ' +\n",
              "          '<a target=\"_blank\" href=https://colab.research.google.com/notebooks/data_table.ipynb>data table notebook</a>'\n",
              "          + ' to learn more about interactive tables.';\n",
              "        element.innerHTML = '';\n",
              "        dataTable['output_type'] = 'display_data';\n",
              "        await google.colab.output.renderOutput(dataTable, element);\n",
              "        const docLink = document.createElement('div');\n",
              "        docLink.innerHTML = docLinkHtml;\n",
              "        element.appendChild(docLink);\n",
              "      }\n",
              "    </script>\n",
              "  </div>\n",
              "\n",
              "\n",
              "<div id=\"df-0fa2ea95-3651-409c-9cfc-c53bbc123324\">\n",
              "  <button class=\"colab-df-quickchart\" onclick=\"quickchart('df-0fa2ea95-3651-409c-9cfc-c53bbc123324')\"\n",
              "            title=\"Suggest charts\"\n",
              "            style=\"display:none;\">\n",
              "\n",
              "<svg xmlns=\"http://www.w3.org/2000/svg\" height=\"24px\"viewBox=\"0 0 24 24\"\n",
              "     width=\"24px\">\n",
              "    <g>\n",
              "        <path d=\"M19 3H5c-1.1 0-2 .9-2 2v14c0 1.1.9 2 2 2h14c1.1 0 2-.9 2-2V5c0-1.1-.9-2-2-2zM9 17H7v-7h2v7zm4 0h-2V7h2v10zm4 0h-2v-4h2v4z\"/>\n",
              "    </g>\n",
              "</svg>\n",
              "  </button>\n",
              "\n",
              "<style>\n",
              "  .colab-df-quickchart {\n",
              "      --bg-color: #E8F0FE;\n",
              "      --fill-color: #1967D2;\n",
              "      --hover-bg-color: #E2EBFA;\n",
              "      --hover-fill-color: #174EA6;\n",
              "      --disabled-fill-color: #AAA;\n",
              "      --disabled-bg-color: #DDD;\n",
              "  }\n",
              "\n",
              "  [theme=dark] .colab-df-quickchart {\n",
              "      --bg-color: #3B4455;\n",
              "      --fill-color: #D2E3FC;\n",
              "      --hover-bg-color: #434B5C;\n",
              "      --hover-fill-color: #FFFFFF;\n",
              "      --disabled-bg-color: #3B4455;\n",
              "      --disabled-fill-color: #666;\n",
              "  }\n",
              "\n",
              "  .colab-df-quickchart {\n",
              "    background-color: var(--bg-color);\n",
              "    border: none;\n",
              "    border-radius: 50%;\n",
              "    cursor: pointer;\n",
              "    display: none;\n",
              "    fill: var(--fill-color);\n",
              "    height: 32px;\n",
              "    padding: 0;\n",
              "    width: 32px;\n",
              "  }\n",
              "\n",
              "  .colab-df-quickchart:hover {\n",
              "    background-color: var(--hover-bg-color);\n",
              "    box-shadow: 0 1px 2px rgba(60, 64, 67, 0.3), 0 1px 3px 1px rgba(60, 64, 67, 0.15);\n",
              "    fill: var(--button-hover-fill-color);\n",
              "  }\n",
              "\n",
              "  .colab-df-quickchart-complete:disabled,\n",
              "  .colab-df-quickchart-complete:disabled:hover {\n",
              "    background-color: var(--disabled-bg-color);\n",
              "    fill: var(--disabled-fill-color);\n",
              "    box-shadow: none;\n",
              "  }\n",
              "\n",
              "  .colab-df-spinner {\n",
              "    border: 2px solid var(--fill-color);\n",
              "    border-color: transparent;\n",
              "    border-bottom-color: var(--fill-color);\n",
              "    animation:\n",
              "      spin 1s steps(1) infinite;\n",
              "  }\n",
              "\n",
              "  @keyframes spin {\n",
              "    0% {\n",
              "      border-color: transparent;\n",
              "      border-bottom-color: var(--fill-color);\n",
              "      border-left-color: var(--fill-color);\n",
              "    }\n",
              "    20% {\n",
              "      border-color: transparent;\n",
              "      border-left-color: var(--fill-color);\n",
              "      border-top-color: var(--fill-color);\n",
              "    }\n",
              "    30% {\n",
              "      border-color: transparent;\n",
              "      border-left-color: var(--fill-color);\n",
              "      border-top-color: var(--fill-color);\n",
              "      border-right-color: var(--fill-color);\n",
              "    }\n",
              "    40% {\n",
              "      border-color: transparent;\n",
              "      border-right-color: var(--fill-color);\n",
              "      border-top-color: var(--fill-color);\n",
              "    }\n",
              "    60% {\n",
              "      border-color: transparent;\n",
              "      border-right-color: var(--fill-color);\n",
              "    }\n",
              "    80% {\n",
              "      border-color: transparent;\n",
              "      border-right-color: var(--fill-color);\n",
              "      border-bottom-color: var(--fill-color);\n",
              "    }\n",
              "    90% {\n",
              "      border-color: transparent;\n",
              "      border-bottom-color: var(--fill-color);\n",
              "    }\n",
              "  }\n",
              "</style>\n",
              "\n",
              "  <script>\n",
              "    async function quickchart(key) {\n",
              "      const quickchartButtonEl =\n",
              "        document.querySelector('#' + key + ' button');\n",
              "      quickchartButtonEl.disabled = true;  // To prevent multiple clicks.\n",
              "      quickchartButtonEl.classList.add('colab-df-spinner');\n",
              "      try {\n",
              "        const charts = await google.colab.kernel.invokeFunction(\n",
              "            'suggestCharts', [key], {});\n",
              "      } catch (error) {\n",
              "        console.error('Error during call to suggestCharts:', error);\n",
              "      }\n",
              "      quickchartButtonEl.classList.remove('colab-df-spinner');\n",
              "      quickchartButtonEl.classList.add('colab-df-quickchart-complete');\n",
              "    }\n",
              "    (() => {\n",
              "      let quickchartButtonEl =\n",
              "        document.querySelector('#df-0fa2ea95-3651-409c-9cfc-c53bbc123324 button');\n",
              "      quickchartButtonEl.style.display =\n",
              "        google.colab.kernel.accessAllowed ? 'block' : 'none';\n",
              "    })();\n",
              "  </script>\n",
              "</div>\n",
              "\n",
              "    </div>\n",
              "  </div>\n"
            ],
            "application/vnd.google.colaboratory.intrinsic+json": {
              "type": "dataframe",
              "summary": "{\n  \"name\": \"X\",\n  \"rows\": 2,\n  \"fields\": [\n    {\n      \"column\": \"total_bill\",\n      \"properties\": {\n        \"dtype\": \"number\",\n        \"std\": 50.15468587766306,\n        \"min\": 8.323501629224854,\n        \"max\": 79.25293861397829,\n        \"num_unique_values\": 2,\n        \"samples\": [\n          8.323501629224854,\n          79.25293861397829\n        ],\n        \"semantic_type\": \"\",\n        \"description\": \"\"\n      }\n    },\n    {\n      \"column\": \"tip\",\n      \"properties\": {\n        \"dtype\": \"number\",\n        \"std\": 4.531880588394158,\n        \"min\": 1.914454638062473,\n        \"max\": 8.323501629224854,\n        \"num_unique_values\": 2,\n        \"samples\": [\n          1.914454638062473,\n          8.323501629224854\n        ],\n        \"semantic_type\": \"\",\n        \"description\": \"\"\n      }\n    }\n  ]\n}"
            }
          },
          "metadata": {},
          "execution_count": 36
        }
      ]
    },
    {
      "cell_type": "code",
      "source": [
        "sns.pairplot(df)"
      ],
      "metadata": {
        "colab": {
          "base_uri": "https://localhost:8080/",
          "height": 775
        },
        "id": "0_nIB9snEBti",
        "outputId": "3f727717-ecc5-4d29-d716-8a4edd32a8fa"
      },
      "execution_count": 37,
      "outputs": [
        {
          "output_type": "execute_result",
          "data": {
            "text/plain": [
              "<seaborn.axisgrid.PairGrid at 0x78fcba4bb4f0>"
            ]
          },
          "metadata": {},
          "execution_count": 37
        },
        {
          "output_type": "display_data",
          "data": {
            "text/plain": [
              "<Figure size 750x750 with 12 Axes>"
            ],
            "image/png": "[encoded data removed]"
          },
          "metadata": {}
        }
      ]
    },
    {
      "cell_type": "code",
      "source": [
        "sns.histplot(df['total_bill'],kde=True)"
      ],
      "metadata": {
        "colab": {
          "base_uri": "https://localhost:8080/",
          "height": 469
        },
        "id": "ps4ZS6w7FvUp",
        "outputId": "a54403c2-ce6b-4585-af88-83939cb92eed"
      },
      "execution_count": 38,
      "outputs": [
        {
          "output_type": "execute_result",
          "data": {
            "text/plain": [
              "<Axes: xlabel='total_bill', ylabel='Count'>"
            ]
          },
          "metadata": {},
          "execution_count": 38
        },
        {
          "output_type": "display_data",
          "data": {
            "text/plain": [
              "<Figure size 640x480 with 1 Axes>"
            ],
            "image/png": "[encoded data removed]"
          },
          "metadata": {}
        }
      ]
    },
    {
      "cell_type": "code",
      "source": [
        "d=np.random.normal(0.5,0.2,1000)\n",
        "d"
      ],
      "metadata": {
        "colab": {
          "base_uri": "https://localhost:8080/"
        },
        "id": "Xuh8T6hTGzoa",
        "outputId": "535ee1f2-2a4d-4ffb-d20f-7534f9abaa6a"
      },
      "execution_count": 39,
      "outputs": [
        {
          "output_type": "execute_result",
          "data": {
            "text/plain": [
              "array([ 0.89416694,  0.57399124,  0.54753552,  0.56621047,  0.53682215,\n",
              "        0.52480338,  0.7340126 ,  0.25863558,  0.10896906,  0.80971968,\n",
              "        0.59565883,  0.5876185 ,  0.35645034,  0.93753849,  0.46050644,\n",
              "        0.60783885,  0.39946665,  0.69339921,  0.30231356,  0.56563587,\n",
              "        0.56647458,  0.67175456,  0.39992812,  0.53671751,  0.59596693,\n",
              "        0.77925945,  0.2181215 ,  0.38045792,  0.85567445,  0.2026319 ,\n",
              "        0.5459482 ,  0.71926281,  0.33173486,  0.55276163,  0.50233221,\n",
              "        0.55372506,  0.25662995,  0.08311882,  0.44099065,  0.39337453,\n",
              "        0.74222221,  0.8321178 ,  0.38007379,  0.56417898,  0.62358953,\n",
              "        0.56107324,  0.52410166,  0.28748505,  0.66231907,  0.22805752,\n",
              "        0.33736524,  0.26845811,  0.82331662,  0.34902346,  0.49632212,\n",
              "        0.72710732,  0.14821624,  0.47467586,  0.41849282,  0.03171611,\n",
              "        0.81166544,  0.56811395,  0.71232596,  0.4063643 ,  0.23312258,\n",
              "        0.25912303,  0.74016795,  0.72299853,  0.54916998,  0.39285882,\n",
              "        0.32223032,  0.49351856,  0.65523563,  0.65079727,  0.69373783,\n",
              "        0.44218618,  0.69139843,  0.44763308,  0.43098083,  0.49776472,\n",
              "        0.22676886,  0.41148989,  0.15905696,  0.58972499,  0.55149223,\n",
              "        0.33036743,  0.20904091,  0.47973847,  0.28080619,  0.94589534,\n",
              "        0.4927267 ,  0.43010157,  0.00767579,  0.75962113,  0.45408595,\n",
              "        0.54194406,  0.38795161,  0.55702027,  0.41601507,  0.73001368,\n",
              "        0.46025281,  0.85706608,  0.75303528,  0.18407768,  0.58853662,\n",
              "        0.44134054,  0.38467726,  0.41671528,  0.73686187,  0.57584456,\n",
              "        0.50949689,  0.66814104,  0.50218764,  0.41803037,  0.38467223,\n",
              "        0.61156165,  0.21383576,  0.34792568,  0.0748569 ,  0.43678836,\n",
              "        0.47108395,  0.92950395,  0.76588045,  0.37650759,  0.48451985,\n",
              "        0.63128607,  0.55331898,  0.53884496,  0.31467443,  0.40411728,\n",
              "        0.3247336 ,  0.45594182,  0.29200154,  0.06235841,  0.72167957,\n",
              "        0.20702084,  0.45384104,  0.3044038 ,  0.70826843,  0.5709373 ,\n",
              "        0.6279483 ,  0.12955912,  0.50073798,  0.71505695,  0.52177297,\n",
              "        0.1552691 ,  0.31513661,  0.48298899,  0.53004397,  0.8321119 ,\n",
              "        0.40531582,  0.26158432,  0.57772297,  0.63854423,  0.29550272,\n",
              "        0.5284137 ,  0.58181664,  0.4274685 ,  0.21376514,  0.76162065,\n",
              "        0.55755344, -0.1293567 ,  0.26082999,  0.42847271,  0.94841085,\n",
              "        0.50720579,  0.45506313,  0.41916006,  0.41665602,  0.21524712,\n",
              "        0.45935089,  0.72601736,  0.53979793,  0.95370295,  0.53605733,\n",
              "        0.74268918,  0.48790934,  0.34809514,  0.39726912,  0.46650064,\n",
              "        0.44730808,  0.58775806,  0.3007849 ,  0.36225264,  0.30835536,\n",
              "        0.69022815,  0.334747  ,  0.75045124,  0.50840959,  0.61687243,\n",
              "        0.44558307,  0.64760314,  0.33750021,  0.72112677,  0.79634575,\n",
              "        0.55993619,  0.40797397,  0.41726799,  0.53704641,  0.27214466,\n",
              "        0.58646782,  0.17719041,  0.37237477,  0.44198747,  0.71938277,\n",
              "        0.59729407,  0.49214695,  0.59012315,  0.54780355,  0.22201844,\n",
              "        0.20652253,  0.46124699,  0.94492439,  0.76359074,  0.52435075,\n",
              "        0.54221023,  0.61022865,  0.45328201,  0.36820706,  0.39927032,\n",
              "        0.43599694,  0.2714815 ,  0.53925381,  0.26532939,  0.43386524,\n",
              "        0.61833558,  0.70135356,  0.32121283,  0.6931552 ,  0.10346814,\n",
              "       -0.08862594,  0.70018145,  0.61919493,  0.38471579,  0.54712234,\n",
              "        0.76277147,  0.6340207 ,  0.35367395,  0.28879122,  0.48177932,\n",
              "        0.70329441,  0.43975548,  0.45952614,  0.37316878,  0.38876343,\n",
              "        0.56997099,  0.39765006,  0.42627847,  0.43392497,  0.7281897 ,\n",
              "        0.47944152,  0.59439789,  0.73986327,  0.55522258,  0.72004742,\n",
              "        0.40463861,  0.75762562,  0.73082488,  0.4583479 ,  0.50517608,\n",
              "        0.2303747 ,  0.50380311,  0.36330597,  0.35900833,  0.61450261,\n",
              "        0.46590687,  0.3380719 ,  0.52856577,  0.50879814,  0.25282824,\n",
              "        0.17776331,  0.54965649,  0.4494025 ,  0.24210871,  0.56344453,\n",
              "        0.43747876,  0.49059064,  0.31294048,  0.71774755,  0.29094993,\n",
              "        0.55622572,  0.66441289,  0.70196465,  0.71377234,  0.42607967,\n",
              "        0.31152156,  0.85834084,  0.35629888,  0.6894191 ,  0.46134259,\n",
              "        0.4622408 ,  0.59953791,  0.24956129,  0.58926121,  0.4473026 ,\n",
              "        0.26825724,  0.67076439,  0.41958119,  0.57159316,  0.06558012,\n",
              "        0.42334426,  0.53477113,  0.84615402,  0.33672973,  0.47798052,\n",
              "        0.00844707,  0.66824149,  0.45859364,  0.37348915,  0.37951356,\n",
              "        0.34756343,  0.7114963 ,  0.7661456 ,  0.39552192,  0.25460764,\n",
              "        0.28919259,  0.33207322,  0.13962084,  0.51200317,  0.21863436,\n",
              "        0.76023768,  0.35880403,  0.50505667,  0.28152866,  0.49992594,\n",
              "        0.79511997,  0.43508371,  0.52849116,  0.56899643,  0.53280644,\n",
              "        0.66457218,  0.30273906,  0.61821001,  0.54168653,  0.12738392,\n",
              "        0.53541906,  0.56170285,  0.18687139,  0.43175781,  0.61907831,\n",
              "        0.50583402,  0.69625337,  0.91006276,  0.56742197,  0.824415  ,\n",
              "        0.53193004,  0.09819678,  0.19122334,  0.4733959 ,  0.52448388,\n",
              "        0.49117816,  0.72896558,  0.37940201,  0.57420884,  0.36256269,\n",
              "        0.50543047,  0.48550718,  0.43746601,  0.66936316,  0.30354637,\n",
              "        0.48218761,  0.51693722,  0.34407443,  0.25872603,  0.41341717,\n",
              "        0.53520591,  0.40715087,  0.30545269,  0.61268012,  0.50616191,\n",
              "        0.90973015,  0.1088897 ,  0.49837858,  0.29332814,  0.54287789,\n",
              "        0.50026047,  0.95148103,  0.20542057,  0.7583229 ,  0.45593407,\n",
              "        0.52663966,  0.45587789,  0.47593599,  0.39604887,  0.46662498,\n",
              "        0.49202912,  0.44413085,  0.67391132,  0.4425692 ,  0.43963449,\n",
              "        0.10086556,  0.73318553,  0.74853071,  0.37528503,  0.7905949 ,\n",
              "        0.53295562,  0.37782151,  0.23994548,  0.38276175,  0.34209521,\n",
              "        0.30711463,  0.5757615 ,  0.84951654,  0.70435988,  0.43963019,\n",
              "        0.3247381 ,  0.6876824 ,  0.39328481,  0.68336033,  0.41509224,\n",
              "        0.43214304,  0.31080444,  0.48322399,  0.48284351,  0.65317869,\n",
              "        0.90141542,  0.85030618,  0.53360621,  0.28913576,  0.57432615,\n",
              "        0.34062941,  0.25999597,  0.4322544 ,  0.44911837,  0.57001298,\n",
              "        0.39982097,  0.46384939,  0.57602786,  0.52496696,  0.58559936,\n",
              "        0.5434651 ,  0.49613074,  0.43644034,  0.6516689 ,  0.64621459,\n",
              "        0.39405897,  0.22828458,  0.34442899,  0.57312094,  0.78336889,\n",
              "        0.63681214,  0.56579689,  0.37749601,  0.32011672,  0.43311686,\n",
              "        0.6538104 ,  0.34853621,  0.51712874,  0.85701818,  0.68250471,\n",
              "        0.34831558,  0.7474675 ,  0.74828038,  0.58857572,  0.1525623 ,\n",
              "        0.31645978,  0.50421291,  0.25439171,  0.54338569,  0.2244525 ,\n",
              "        0.67954008,  0.3554098 ,  0.24705793,  0.52739062,  0.44809901,\n",
              "        0.56975131,  0.41845345,  0.89313335,  0.22869456,  0.22838346,\n",
              "        0.58047684,  0.65517409,  0.08647254,  0.84828457,  0.62156824,\n",
              "        0.27905717,  0.73699177,  0.35625885,  0.46150313,  0.47373417,\n",
              "        0.52398015,  0.236474  ,  0.60208418,  0.18310446,  0.38529497,\n",
              "        0.51501598,  0.38904285,  0.69261824,  0.47743173,  0.57522599,\n",
              "        0.51008839,  0.07415154,  0.57105322,  0.51327594,  0.580465  ,\n",
              "        0.59983676,  0.81704545,  0.33263269,  0.85569419,  0.51947944,\n",
              "        0.13021771,  0.29424451,  0.27609434,  0.56792112,  0.57082511,\n",
              "        0.32091891,  0.84627562,  0.74775578,  0.59537464,  0.28034265,\n",
              "        0.24263256,  0.50971908,  0.49691083,  0.37691688,  0.2620828 ,\n",
              "        0.51931423,  0.58109374,  0.18084703,  0.01217739,  0.60019929,\n",
              "        0.45644946,  0.3242481 ,  0.72732325,  0.34144504,  0.59266077,\n",
              "        0.44608668,  0.5821947 ,  0.16366085,  0.44947787,  0.36465035,\n",
              "        0.77941932,  0.44846337,  0.60116489,  0.35957394,  0.65654073,\n",
              "        0.637231  ,  0.81110526,  0.48501654,  0.18322166,  0.41358495,\n",
              "        0.34707591,  0.50223317,  0.52552478,  0.53246861,  0.81694632,\n",
              "        0.20462813,  0.70565805,  0.43866112,  0.15279616,  0.68510731,\n",
              "        0.66411986,  0.49517613,  0.41262111,  0.55995933,  0.55268012,\n",
              "        0.15190508,  0.68304301,  0.65217913,  0.70622655,  0.90941998,\n",
              "        0.52832452,  0.51751658,  0.51376536,  0.12997141,  0.51309635,\n",
              "        0.58625451,  0.64952976,  0.40698725,  0.60100697,  0.55690783,\n",
              "        0.55715828,  0.76931526,  0.42884619,  0.5794846 ,  0.41529908,\n",
              "        0.80889978,  0.55325686,  0.60263577,  0.43930689,  0.55851686,\n",
              "        0.64087539,  0.57353803,  0.24361373,  0.21262933,  0.69347961,\n",
              "        0.53498147,  0.56319027,  1.0958729 ,  0.64195232,  0.75931592,\n",
              "        0.60833094,  0.53467153,  0.13475713,  0.5168873 ,  0.63093702,\n",
              "        0.16159952,  0.7716647 ,  0.29094727,  0.31393538,  0.28331161,\n",
              "        0.55120153,  0.66576528,  0.84353854,  0.80597338,  0.33136495,\n",
              "        0.66526584,  0.61298123,  0.55792579,  0.53301709,  0.72764919,\n",
              "        0.30120801,  0.55431543,  0.58925964,  0.64469535,  0.35549862,\n",
              "        0.56402993,  0.38749385,  0.16432064,  0.22575866,  0.70243512,\n",
              "        0.43582195,  0.46075655,  0.474733  ,  0.83496236,  0.61267561,\n",
              "        0.4439688 ,  0.60128494,  0.64944805,  0.67777609,  0.38174044,\n",
              "        0.59984369,  0.57612462,  0.63136235,  0.60698306,  0.57938639,\n",
              "        0.50125975,  0.56899105,  0.93907557,  0.26759188,  0.71344528,\n",
              "        0.68439165,  0.60309908,  0.58001963,  0.32850486,  0.52452438,\n",
              "        0.87735967,  0.75591855,  0.51620832,  0.21342114,  0.68449207,\n",
              "        0.20945911,  0.62286809,  0.70844785,  0.38160407,  0.20093646,\n",
              "        0.57033406,  0.49430154,  0.54929098,  0.38091349,  0.39870352,\n",
              "        0.50267694,  0.58661053,  0.6292895 ,  0.46631282,  0.75640762,\n",
              "        0.16650868,  0.57616864,  0.76500552,  0.56496055,  0.36966741,\n",
              "        1.0195594 ,  0.43196184,  0.49206337,  0.56643908,  0.6979264 ,\n",
              "        0.50124076,  0.42016038,  0.51398898,  0.71568859,  0.06923159,\n",
              "        0.69497538,  0.521206  ,  0.57385842,  0.33910897,  0.44718795,\n",
              "        0.78232519,  0.41492664,  0.67987448,  0.86894103,  0.52572563,\n",
              "        0.67915557,  0.51600962,  0.77416069,  0.43202069,  0.39388652,\n",
              "        0.42321614,  0.36168799,  0.6102663 ,  0.27262081, -0.06819361,\n",
              "       -0.02639419,  0.37819071,  0.73226902,  0.80087501,  0.46014428,\n",
              "        0.50339882,  0.33827825,  0.63969226,  0.39192013,  0.56606748,\n",
              "        0.39738677,  0.23734934,  0.57349421, -0.02779528,  0.67367137,\n",
              "        0.46278886,  0.65455865,  0.66159895,  0.20707706,  0.60164994,\n",
              "        0.38994024,  0.58014406,  0.60568051,  0.37212607,  0.32233498,\n",
              "        0.91460067,  0.49226454,  0.53109373,  0.47570931,  0.36255611,\n",
              "        0.60820027,  0.87960138,  0.65710501,  0.55626256,  0.18749634,\n",
              "        0.29825373,  0.52664126,  0.47933012,  0.55514536,  0.84826736,\n",
              "        0.79723174,  0.61342385,  0.38459082,  0.36020124,  0.50698073,\n",
              "        0.38331562,  0.22693586,  0.28136681,  0.91823491,  0.49716382,\n",
              "        0.86597778,  0.35161489,  0.59339038,  0.87728349,  0.22031984,\n",
              "        0.30248703,  0.60226518,  0.53091303,  0.51390136,  0.2555325 ,\n",
              "        0.58331174,  0.15764671,  0.65572872,  0.56932041,  0.68377253,\n",
              "        0.42625252,  0.51937665,  0.59390881,  0.26186709,  0.46246111,\n",
              "        1.16113039,  0.40417838,  0.54993011,  0.21261024,  0.56157053,\n",
              "        0.39606902,  0.34095996,  0.27337314,  0.5207745 ,  0.46922809,\n",
              "        0.24843623,  0.25085281,  0.22527541,  0.31687865,  0.59131281,\n",
              "        0.73606579,  0.54832796,  0.48892144,  0.22281139,  0.49587801,\n",
              "        0.47738261,  0.37440617,  0.29769214,  0.77261363,  0.46207683,\n",
              "        0.27499877,  0.51004401,  0.49521588,  0.34151531,  0.305256  ,\n",
              "        0.4427343 ,  0.3173403 ,  0.23329776,  0.27692954,  0.8225573 ,\n",
              "        0.53621262,  0.69603761,  0.42568789,  0.71043347,  0.39526229,\n",
              "        0.27429669,  0.60010158,  0.89344653,  0.75451722,  0.61607058,\n",
              "        0.48242808,  0.54038005,  0.47605964,  0.48966859,  0.46718359,\n",
              "        0.24224878,  0.8000387 ,  0.70952336,  0.69217673,  0.42107507,\n",
              "        0.4564281 ,  0.21245936,  0.45113144,  0.5939902 ,  0.47968458,\n",
              "        0.52199302,  0.8550625 ,  0.4106172 ,  0.39416394,  0.27815821,\n",
              "        0.79141783,  0.38247668,  0.73767891,  0.28062135,  0.71528294,\n",
              "        0.66218638,  0.79487235,  0.65378933,  0.7903451 ,  0.49323248,\n",
              "        0.58987667,  0.42531428,  0.68231997,  0.71814924,  0.3520713 ,\n",
              "        0.23977342,  0.61930582,  0.5011321 ,  0.45735023,  0.68988492,\n",
              "        0.63836834,  0.32742557,  0.41303552,  0.60456178,  0.58911123,\n",
              "        0.52186083,  0.3105988 ,  0.43261619,  0.39128584,  0.16562543,\n",
              "        0.25139707,  0.75883192,  0.6137022 ,  0.53007573,  0.28204025,\n",
              "        0.50556538,  0.56746132,  0.3510298 ,  0.08040182,  0.39572063,\n",
              "        0.71863307,  0.22836852,  0.2477064 ,  0.33557384,  0.62846771,\n",
              "        0.38211295,  0.24313528,  0.35733689,  0.63768706,  0.41835458,\n",
              "        0.68462705,  0.47595832,  0.33754227,  0.59488143,  0.71923825,\n",
              "        0.61473064,  0.82247672,  0.3322196 ,  0.28906015,  0.55969342,\n",
              "        0.42393861,  0.49534204,  0.6598773 ,  0.56656417,  0.32052021,\n",
              "        0.44599515,  0.74174539,  0.49956814,  0.48128532,  0.78128226,\n",
              "        0.38703239,  0.61274913,  0.28120047,  0.66398991,  0.4418742 ,\n",
              "        0.43109441,  0.82761722,  0.42241442,  0.49623738,  0.71849709,\n",
              "        0.62871537,  0.43450018,  0.42076802,  0.59352247,  0.17489861,\n",
              "        0.60494692,  0.34115398,  0.26200725,  0.58413285,  0.61647593,\n",
              "        0.83804142,  0.79991447,  0.35501935,  0.37181329,  0.62503933,\n",
              "        0.96277992,  0.5650001 ,  0.95499789,  0.65691217,  1.00254723,\n",
              "        0.33890693,  0.45131979,  0.20524727,  0.67218031,  0.21597883,\n",
              "        0.39593588,  0.08328531,  0.67733526,  0.16854441,  0.34089391,\n",
              "        0.60652377,  0.49240956,  0.63475328,  0.54614242,  0.62588681,\n",
              "        0.41709046,  0.48784161, -0.05117601,  0.12140213,  0.73634856,\n",
              "        0.33152337,  0.74327348,  0.87335645,  0.33122334,  0.38589127,\n",
              "        0.74107068,  0.70743818,  0.33825381,  0.54965446,  0.26713629,\n",
              "        0.28111344,  0.58370108,  0.62687729,  0.12786399,  0.55409048,\n",
              "        0.54969295,  0.46210639,  0.11119366,  0.40887474,  0.64313858,\n",
              "        0.41832092,  0.45125802,  0.91909049,  0.01605705,  0.94945437,\n",
              "        0.53716912,  0.40499585,  0.53694732,  0.30027603,  0.69911197,\n",
              "        0.64621484,  0.64457466,  0.38066908,  0.54642712,  0.75220535,\n",
              "        0.26092712,  0.35044086,  0.73724908,  0.17220344,  0.47408955,\n",
              "        0.07938941,  0.40507423,  0.6993924 ,  0.38335878,  0.41792677])"
            ]
          },
          "metadata": {},
          "execution_count": 39
        }
      ]
    },
    {
      "cell_type": "code",
      "source": [
        "sns.distplot(d)"
      ],
      "metadata": {
        "colab": {
          "base_uri": "https://localhost:8080/",
          "height": 638
        },
        "id": "KAiAbr7AF7ct",
        "outputId": "768265f7-c7f5-4cc8-b3f2-5f3a2d60adba"
      },
      "execution_count": 40,
      "outputs": [
        {
          "output_type": "stream",
          "name": "stderr",
          "text": [
            "<ipython-input-40-231ba3033325>:1: UserWarning: \n",
            "\n",
            "`distplot` is a deprecated function and will be removed in seaborn v0.14.0.\n",
            "\n",
            "Please adapt your code to use either `displot` (a figure-level function with\n",
            "similar flexibility) or `histplot` (an axes-level function for histograms).\n",
            "\n",
            "For a guide to updating your code to use the new functions, please see\n",
            "https://gist.github.com/mwaskom/de44147ed2974457ad6372750bbe5751\n",
            "\n",
            "  sns.distplot(d)\n"
          ]
        },
        {
          "output_type": "execute_result",
          "data": {
            "text/plain": [
              "<Axes: ylabel='Density'>"
            ]
          },
          "metadata": {},
          "execution_count": 40
        },
        {
          "output_type": "display_data",
          "data": {
            "text/plain": [
              "<Figure size 640x480 with 1 Axes>"
            ],
            "image/png": "[encoded data removed]"
          },
          "metadata": {}
        }
      ]
    },
    {
      "cell_type": "code",
      "source": [
        "sns.histplot(data,kde='true')"
      ],
      "metadata": {
        "id": "huG1oGCRHgIf",
        "colab": {
          "base_uri": "https://localhost:8080/",
          "height": 447
        },
        "outputId": "7701903e-0984-451c-d4cc-819cda096e03"
      },
      "execution_count": 41,
      "outputs": [
        {
          "output_type": "execute_result",
          "data": {
            "text/plain": [
              "<Axes: ylabel='Count'>"
            ]
          },
          "metadata": {},
          "execution_count": 41
        },
        {
          "output_type": "display_data",
          "data": {
            "text/plain": [
              "<Figure size 640x480 with 1 Axes>"
            ],
            "image/png": "[encoded data removed]"
          },
          "metadata": {}
        }
      ]
    },
    {
      "cell_type": "code",
      "source": [
        "population=np.random.randint(10,20,50)"
      ],
      "metadata": {
        "id": "899BYKFPFpj7"
      },
      "execution_count": 42,
      "outputs": []
    },
    {
      "cell_type": "code",
      "source": [
        "population"
      ],
      "metadata": {
        "colab": {
          "base_uri": "https://localhost:8080/"
        },
        "id": "ge3xHj1YFph9",
        "outputId": "8465df83-4e52-420c-b09f-08c208921221"
      },
      "execution_count": 43,
      "outputs": [
        {
          "output_type": "execute_result",
          "data": {
            "text/plain": [
              "array([13, 15, 11, 13, 19, 17, 11, 17, 14, 11, 11, 19, 10, 16, 11, 18, 15,\n",
              "       16, 17, 17, 13, 15, 14, 15, 16, 19, 13, 15, 16, 18, 15, 11, 17, 12,\n",
              "       10, 17, 18, 11, 19, 12, 19, 12, 14, 11, 19, 11, 18, 15, 16, 14])"
            ]
          },
          "metadata": {},
          "execution_count": 43
        }
      ]
    },
    {
      "cell_type": "code",
      "source": [
        "np.mean(population)"
      ],
      "metadata": {
        "colab": {
          "base_uri": "https://localhost:8080/"
        },
        "id": "-l83U9V7FpU7",
        "outputId": "deba804d-ac73-4786-8f67-504ca6b58dfd"
      },
      "execution_count": 44,
      "outputs": [
        {
          "output_type": "execute_result",
          "data": {
            "text/plain": [
              "14.72"
            ]
          },
          "metadata": {},
          "execution_count": 44
        }
      ]
    },
    {
      "cell_type": "code",
      "source": [
        "sample1=np.random.choice(population,20)\n",
        "sample2=np.random.choice(population,20)\n",
        "sample3=np.random.choice(population,20)\n",
        "sample4=np.random.choice(population,20)"
      ],
      "metadata": {
        "id": "VQLLOfCQG-cA"
      },
      "execution_count": 45,
      "outputs": []
    },
    {
      "cell_type": "code",
      "source": [
        "sample1"
      ],
      "metadata": {
        "colab": {
          "base_uri": "https://localhost:8080/"
        },
        "id": "OQDx2YxWHU-0",
        "outputId": "284799eb-01d4-42a9-c4d1-01b4bab17f77"
      },
      "execution_count": 46,
      "outputs": [
        {
          "output_type": "execute_result",
          "data": {
            "text/plain": [
              "array([17, 11, 14, 14, 17, 11, 14, 11, 13, 18, 12, 17, 17, 18, 15, 16, 14,\n",
              "       16, 13, 10])"
            ]
          },
          "metadata": {},
          "execution_count": 46
        }
      ]
    },
    {
      "cell_type": "code",
      "source": [
        "sample2"
      ],
      "metadata": {
        "colab": {
          "base_uri": "https://localhost:8080/"
        },
        "id": "LvwoBZDvHXg1",
        "outputId": "b3ff44cc-4fe1-4b53-f679-3e1329af8885"
      },
      "execution_count": 47,
      "outputs": [
        {
          "output_type": "execute_result",
          "data": {
            "text/plain": [
              "array([15, 19, 15, 19, 12, 11, 13, 13, 18, 17, 12, 11, 15, 17, 16, 19, 16,\n",
              "       13, 10, 10])"
            ]
          },
          "metadata": {},
          "execution_count": 47
        }
      ]
    },
    {
      "cell_type": "code",
      "source": [
        "sample3"
      ],
      "metadata": {
        "colab": {
          "base_uri": "https://localhost:8080/"
        },
        "id": "ChkxSF_OHanx",
        "outputId": "5c8fa9ee-7cf9-43b0-e2e9-a2ddc297eb65"
      },
      "execution_count": 48,
      "outputs": [
        {
          "output_type": "execute_result",
          "data": {
            "text/plain": [
              "array([11, 13, 11, 16, 17, 17, 16, 11, 18, 15, 15, 17, 12, 16, 18, 15, 12,\n",
              "       15, 14, 11])"
            ]
          },
          "metadata": {},
          "execution_count": 48
        }
      ]
    },
    {
      "cell_type": "code",
      "source": [
        "sample4"
      ],
      "metadata": {
        "colab": {
          "base_uri": "https://localhost:8080/"
        },
        "id": "FcWRmFJ0HdMF",
        "outputId": "791c9f2d-fe26-4359-d25f-7280f4aa346d"
      },
      "execution_count": 49,
      "outputs": [
        {
          "output_type": "execute_result",
          "data": {
            "text/plain": [
              "array([16, 18, 15, 16, 16, 17, 13, 15, 15, 14, 11, 15, 12, 11, 15, 14, 11,\n",
              "       14, 16, 11])"
            ]
          },
          "metadata": {},
          "execution_count": 49
        }
      ]
    },
    {
      "cell_type": "code",
      "source": [
        "mean_ofall_samples=[]\n",
        "sample_mean=[sample1,sample2,sample3,sample4]\n",
        "for sample in sample_mean:\n",
        "  mean_ofall_samples.append(np.mean(sample))"
      ],
      "metadata": {
        "id": "LDujr6e4HfKX"
      },
      "execution_count": 50,
      "outputs": []
    },
    {
      "cell_type": "code",
      "source": [
        "mean_ofall_samples"
      ],
      "metadata": {
        "colab": {
          "base_uri": "https://localhost:8080/"
        },
        "id": "nyIO9VrGIhfL",
        "outputId": "57a98b5d-274c-44fa-84fa-cd11c65ab0f1"
      },
      "execution_count": 51,
      "outputs": [
        {
          "output_type": "execute_result",
          "data": {
            "text/plain": [
              "[14.4, 14.55, 14.5, 14.25]"
            ]
          },
          "metadata": {},
          "execution_count": 51
        }
      ]
    },
    {
      "cell_type": "code",
      "source": [
        "sns.distplot(mean_ofall_samples) # Above code is example of central limit theorem"
      ],
      "metadata": {
        "colab": {
          "base_uri": "https://localhost:8080/",
          "height": 638
        },
        "id": "JqSs-xKDMH1v",
        "outputId": "a3d48435-9ff0-4af3-9d9d-19d14d8e8466"
      },
      "execution_count": 52,
      "outputs": [
        {
          "output_type": "stream",
          "name": "stderr",
          "text": [
            "<ipython-input-52-50c976acb6de>:1: UserWarning: \n",
            "\n",
            "`distplot` is a deprecated function and will be removed in seaborn v0.14.0.\n",
            "\n",
            "Please adapt your code to use either `displot` (a figure-level function with\n",
            "similar flexibility) or `histplot` (an axes-level function for histograms).\n",
            "\n",
            "For a guide to updating your code to use the new functions, please see\n",
            "https://gist.github.com/mwaskom/de44147ed2974457ad6372750bbe5751\n",
            "\n",
            "  sns.distplot(mean_ofall_samples) # Above code is example of central limit theorem\n"
          ]
        },
        {
          "output_type": "execute_result",
          "data": {
            "text/plain": [
              "<Axes: ylabel='Density'>"
            ]
          },
          "metadata": {},
          "execution_count": 52
        },
        {
          "output_type": "display_data",
          "data": {
            "text/plain": [
              "<Figure size 640x480 with 1 Axes>"
            ],
            "image/png": "[encoded data removed]"
          },
          "metadata": {}
        }
      ]
    },
    {
      "cell_type": "code",
      "source": [
        "#Central limit theorem: the sample mean will be approximated to normal distribution given sample size>=30 and no of samples should be sufficiently large"
      ],
      "metadata": {
        "id": "IN9Bit_fIt6m"
      },
      "execution_count": 53,
      "outputs": []
    },
    {
      "cell_type": "code",
      "source": [
        "population=np.random.binomial(10,0.5,1000)\n",
        "population"
      ],
      "metadata": {
        "colab": {
          "base_uri": "https://localhost:8080/"
        },
        "id": "sACmp-LvJMXV",
        "outputId": "9f5bc9c7-f4fe-4474-a543-6d51b3b876bd"
      },
      "execution_count": 54,
      "outputs": [
        {
          "output_type": "execute_result",
          "data": {
            "text/plain": [
              "array([ 3,  5,  1,  5,  7,  4,  5,  4,  4,  3,  2,  4,  6,  4,  8,  5,  3,\n",
              "        4,  6,  2,  6,  8,  7,  4,  5,  4,  6,  7,  7,  6,  4,  8,  6,  4,\n",
              "        3,  7,  5,  6,  4,  8,  5,  3,  4,  6,  5,  4,  4,  5,  4,  4,  6,\n",
              "        4,  5,  4,  5,  8,  2,  5,  7,  6,  6,  4,  5,  5,  5,  5,  9,  3,\n",
              "        5,  5,  4,  3,  8,  7,  8,  1,  7,  4,  7,  5,  6,  3,  6,  4,  3,\n",
              "        6,  2,  3,  6,  6,  2,  4,  5,  6,  5,  5,  4,  5,  1,  6,  9,  5,\n",
              "        4,  5,  1,  6,  4,  6,  6,  7,  5,  4,  3,  4,  5,  3,  4,  4,  5,\n",
              "        4,  5,  4,  6,  6,  9,  5,  1,  8,  3,  2,  5,  5,  4,  5,  5,  5,\n",
              "        6,  7,  6,  6,  3,  6,  3,  6,  6,  6,  5,  5,  6,  4,  6,  3,  5,\n",
              "        4,  8,  3,  6,  5,  4,  3,  3,  3,  5,  6,  6,  6,  4,  7,  3,  4,\n",
              "        3,  8,  6,  6,  5,  7,  5,  4,  3,  5,  5,  2,  5,  6,  4,  6,  3,\n",
              "        4,  3,  6,  4,  5,  6,  3,  8,  3,  5,  5,  6,  6,  5,  8,  8,  4,\n",
              "        3,  6,  5,  5,  5,  5,  4,  5,  3,  6,  5,  7,  5,  6,  6,  7,  8,\n",
              "        5,  3,  5,  5,  4,  6,  6,  3,  3,  8,  6,  7,  6,  9,  5,  6,  7,\n",
              "        4,  6,  6,  3,  6,  6,  3,  5,  5,  5,  8,  5,  7,  4,  5,  5,  6,\n",
              "        7,  6,  3,  5,  4,  5,  6,  4,  6,  4,  3,  2,  7,  4,  6,  3,  7,\n",
              "        6,  6,  4,  5,  6,  6,  3,  2,  6,  7,  5,  5,  5,  4,  6,  4,  9,\n",
              "        5,  6,  4,  4,  4,  4,  7,  6,  3,  4,  5,  7,  4,  2,  4,  8,  5,\n",
              "        6,  4,  2,  7,  5,  5,  4,  4,  2,  7,  2,  4,  5,  5,  3,  4,  5,\n",
              "        7,  3,  6,  5,  6,  6,  5,  5,  6,  7,  6,  7,  4,  7,  5,  7,  4,\n",
              "        6,  2,  6,  4,  6,  8,  6,  6,  6,  2,  6,  5,  5,  7,  4,  6,  7,\n",
              "        5,  3,  6,  6,  5,  5,  5,  6,  6,  3,  5,  5,  6,  4,  4,  8,  4,\n",
              "        3,  3,  5,  4,  7,  5,  4,  6,  3,  6,  6,  2,  3,  6,  5,  2,  5,\n",
              "        3,  6,  6,  3,  5,  5,  7,  7,  4,  5,  5,  4,  6,  4,  4,  4,  3,\n",
              "        6,  4,  4,  3,  6,  3,  4,  4,  4,  2,  7,  4,  4,  4,  3,  2,  5,\n",
              "        4,  4,  5,  5,  5,  6,  3,  4,  5,  7,  5,  5,  6,  4,  5,  2,  6,\n",
              "        4,  2,  9,  2,  5,  9,  6,  6,  6,  5,  4,  5,  9,  6,  5,  3,  5,\n",
              "        6,  5,  4,  2,  5,  4,  1,  6,  3,  7,  4,  5,  4,  4,  7,  8,  5,\n",
              "        8,  7,  3,  5,  6,  9,  4,  6,  5,  4,  6,  3,  5,  5,  5,  2,  8,\n",
              "        6,  6,  5,  6,  6,  6,  5,  4,  9,  4,  4,  6,  5,  7,  4,  5,  4,\n",
              "        5,  4,  7,  6,  7,  4,  4,  3,  8,  3,  3,  3,  5,  4,  5,  4,  6,\n",
              "        5,  6,  3,  6,  5,  5,  3,  4,  4,  4,  7,  5,  6,  4,  4,  7,  6,\n",
              "        4,  6,  5,  7,  3,  5,  8,  4,  5,  3,  7,  7,  3,  6,  3,  5,  5,\n",
              "        7,  9,  6,  5,  4,  5,  7,  3,  7,  5,  7,  4,  5,  4,  6,  5,  4,\n",
              "        4,  2,  5,  5,  4,  6,  3,  6,  5,  4,  3,  7,  4,  1,  8,  7,  6,\n",
              "        6,  4,  5,  8,  5,  2,  7,  6,  1,  7,  7,  5,  3,  5,  3,  4,  2,\n",
              "        6,  4,  5,  5,  4,  2,  6,  8,  5,  3,  5,  3,  4,  7,  5,  5,  4,\n",
              "        7,  6,  4,  7,  6,  4,  4,  3,  4,  5,  5,  5,  7,  6,  4,  8,  2,\n",
              "        5,  4,  4,  6,  3,  4,  6,  4,  5,  6,  5,  6,  5,  5,  5,  7,  4,\n",
              "        7,  7,  4,  8,  4,  4,  4,  7,  7,  3,  3,  5,  6,  6,  3,  6,  2,\n",
              "        5,  5,  3,  5,  6,  5,  5,  5,  4,  3,  9,  6,  1,  5,  5,  4,  5,\n",
              "        5,  6,  5,  5,  2,  5,  1,  7,  5,  3,  8,  4,  5,  8,  5,  3,  5,\n",
              "        6,  3,  5,  5,  7,  7,  3,  6,  4,  3,  2,  5,  4,  5,  6,  3,  6,\n",
              "        7,  2,  4,  4,  4,  4,  7,  5,  3,  3,  5,  6,  7,  4,  4,  4,  6,\n",
              "        7,  8,  5,  6,  5,  6,  5,  5,  3,  5,  8,  2,  4,  8,  4,  3,  5,\n",
              "        4,  6,  4,  5,  5,  8,  8,  4,  6,  4,  5,  7,  6,  4,  5,  6,  5,\n",
              "        5,  5,  4,  2,  3,  6,  3,  4,  4,  4,  7,  2,  4,  5,  4,  7,  2,\n",
              "        5,  4,  7,  4,  5,  5,  5,  4,  4,  5,  5,  5,  6,  8,  2,  2,  8,\n",
              "        3,  6,  4,  4,  6,  5,  6,  5,  5,  3,  6,  3,  6,  4,  5,  5,  8,\n",
              "        3,  4,  4,  7,  8,  5,  4,  5,  3,  4,  3,  4,  3,  4,  4,  3,  3,\n",
              "        6, 10,  4,  3,  6,  7,  5,  3,  4,  6,  6,  3,  3,  4,  5,  5,  6,\n",
              "        7,  7,  5,  5,  6,  4, 10,  8,  7,  4,  6,  3,  2,  2,  6,  3,  4,\n",
              "        6,  4,  5,  7,  6,  6,  6,  4,  6,  8,  6,  3,  6,  4,  5,  5,  5,\n",
              "        5,  4,  4,  5,  6,  2,  5,  5,  5,  7,  5,  3,  4,  4,  7,  6,  3,\n",
              "        6,  7,  5,  4,  3,  5,  8,  5,  5,  5,  7,  1,  3,  6,  5,  3,  8,\n",
              "        3,  8,  6,  4,  8,  4,  4,  3,  6,  5,  7,  5,  6,  5,  6,  5,  5,\n",
              "        6,  5,  3,  6,  2,  6,  6,  2,  5,  4,  5,  5,  6,  6,  5,  6,  3,\n",
              "        4,  7,  8,  1,  6,  6,  4,  5,  5,  3,  5,  4,  4,  5,  8,  4,  8,\n",
              "        8,  8,  6,  5,  6,  8,  7,  5,  3,  4,  6,  4,  4,  7])"
            ]
          },
          "metadata": {},
          "execution_count": 54
        }
      ]
    },
    {
      "cell_type": "code",
      "source": [
        "sns.distplot(population)"
      ],
      "metadata": {
        "colab": {
          "base_uri": "https://localhost:8080/",
          "height": 638
        },
        "id": "iLw8MLexJ_CC",
        "outputId": "8d754239-b479-480a-a196-303b9400a671"
      },
      "execution_count": 55,
      "outputs": [
        {
          "output_type": "stream",
          "name": "stderr",
          "text": [
            "<ipython-input-55-8d1caca3cc70>:1: UserWarning: \n",
            "\n",
            "`distplot` is a deprecated function and will be removed in seaborn v0.14.0.\n",
            "\n",
            "Please adapt your code to use either `displot` (a figure-level function with\n",
            "similar flexibility) or `histplot` (an axes-level function for histograms).\n",
            "\n",
            "For a guide to updating your code to use the new functions, please see\n",
            "https://gist.github.com/mwaskom/de44147ed2974457ad6372750bbe5751\n",
            "\n",
            "  sns.distplot(population)\n"
          ]
        },
        {
          "output_type": "execute_result",
          "data": {
            "text/plain": [
              "<Axes: ylabel='Density'>"
            ]
          },
          "metadata": {},
          "execution_count": 55
        },
        {
          "output_type": "display_data",
          "data": {
            "text/plain": [
              "<Figure size 640x480 with 1 Axes>"
            ],
            "image/png": "[encoded data removed]"
          },
          "metadata": {}
        }
      ]
    },
    {
      "cell_type": "code",
      "source": [
        "#Implementation of central limit theorem\n",
        "sample_size=3000\n",
        "mean_ofall_samples=[]\n",
        "\n",
        "for i in range(1,10000):\n",
        "  sample=np.random.choice(population,size=sample_size)\n",
        "  mean_ofall_samples.append(np.mean(sample))"
      ],
      "metadata": {
        "id": "Zo0Ss532KMox"
      },
      "execution_count": 56,
      "outputs": []
    },
    {
      "cell_type": "code",
      "source": [
        "mean_ofall_samples"
      ],
      "metadata": {
        "colab": {
          "base_uri": "https://localhost:8080/"
        },
        "id": "RzxGHKiuLvtU",
        "outputId": "fafbf165-54f2-46fe-a078-fc6532a59068"
      },
      "execution_count": 57,
      "outputs": [
        {
          "output_type": "execute_result",
          "data": {
            "text/plain": [
              "[4.907333333333334,\n",
              " 4.971,\n",
              " 4.952333333333334,\n",
              " 4.944333333333334,\n",
              " 4.9526666666666666,\n",
              " 4.855,\n",
              " 4.958333333333333,\n",
              " 4.938,\n",
              " 4.924666666666667,\n",
              " 5.004,\n",
              " 4.926333333333333,\n",
              " 4.942666666666667,\n",
              " 4.977666666666667,\n",
              " 4.919666666666667,\n",
              " 4.908,\n",
              " 4.983666666666666,\n",
              " 4.927,\n",
              " 4.945333333333333,\n",
              " 4.949333333333334,\n",
              " 4.965,\n",
              " 5.010666666666666,\n",
              " 4.932,\n",
              " 4.999666666666666,\n",
              " 4.957666666666666,\n",
              " 4.9463333333333335,\n",
              " 4.962666666666666,\n",
              " 5.000666666666667,\n",
              " 4.945666666666667,\n",
              " 5.019333333333333,\n",
              " 4.9703333333333335,\n",
              " 4.956666666666667,\n",
              " 4.973,\n",
              " 4.944333333333334,\n",
              " 4.939666666666667,\n",
              " 4.911666666666667,\n",
              " 4.999,\n",
              " 4.988,\n",
              " 4.9383333333333335,\n",
              " 4.918333333333333,\n",
              " 4.979333333333333,\n",
              " 4.958666666666667,\n",
              " 4.958333333333333,\n",
              " 4.970666666666666,\n",
              " 5.016,\n",
              " 4.996333333333333,\n",
              " 4.95,\n",
              " 4.945666666666667,\n",
              " 4.977666666666667,\n",
              " 4.989,\n",
              " 4.939,\n",
              " 4.987333333333333,\n",
              " 4.918333333333333,\n",
              " 4.927333333333333,\n",
              " 5.015333333333333,\n",
              " 4.989333333333334,\n",
              " 4.953666666666667,\n",
              " 4.944333333333334,\n",
              " 4.958666666666667,\n",
              " 4.937,\n",
              " 4.975666666666666,\n",
              " 4.9366666666666665,\n",
              " 5.001333333333333,\n",
              " 5.019,\n",
              " 4.944333333333334,\n",
              " 4.960666666666667,\n",
              " 4.963666666666667,\n",
              " 4.953666666666667,\n",
              " 4.996,\n",
              " 5.016666666666667,\n",
              " 4.9383333333333335,\n",
              " 4.931333333333333,\n",
              " 4.943666666666667,\n",
              " 4.989,\n",
              " 4.986,\n",
              " 4.972,\n",
              " 4.949333333333334,\n",
              " 4.984666666666667,\n",
              " 5.002666666666666,\n",
              " 4.961666666666667,\n",
              " 4.999666666666666,\n",
              " 4.937,\n",
              " 4.981,\n",
              " 5.02,\n",
              " 5.006,\n",
              " 5.02,\n",
              " 4.978,\n",
              " 4.989333333333334,\n",
              " 4.974333333333333,\n",
              " 4.929333333333333,\n",
              " 4.979333333333333,\n",
              " 5.006666666666667,\n",
              " 5.003,\n",
              " 4.948,\n",
              " 4.998333333333333,\n",
              " 4.974333333333333,\n",
              " 4.979333333333333,\n",
              " 4.966333333333333,\n",
              " 4.989333333333334,\n",
              " 4.991333333333333,\n",
              " 4.957333333333334,\n",
              " 4.956333333333333,\n",
              " 4.980333333333333,\n",
              " 5.0056666666666665,\n",
              " 4.997,\n",
              " 5.0023333333333335,\n",
              " 4.952333333333334,\n",
              " 4.974,\n",
              " 4.932666666666667,\n",
              " 4.978666666666666,\n",
              " 4.956666666666667,\n",
              " 4.979333333333333,\n",
              " 4.965333333333334,\n",
              " 4.9543333333333335,\n",
              " 4.974333333333333,\n",
              " 4.943333333333333,\n",
              " 4.995333333333333,\n",
              " 4.972333333333333,\n",
              " 4.992333333333334,\n",
              " 4.942666666666667,\n",
              " 5.012333333333333,\n",
              " 4.940333333333333,\n",
              " 4.977666666666667,\n",
              " 4.946666666666666,\n",
              " 4.961333333333333,\n",
              " 4.99,\n",
              " 4.937333333333333,\n",
              " 5.000333333333334,\n",
              " 4.942333333333333,\n",
              " 4.926,\n",
              " 5.034,\n",
              " 4.967666666666666,\n",
              " 4.984,\n",
              " 4.994666666666666,\n",
              " 4.990666666666667,\n",
              " 4.978666666666666,\n",
              " 4.942,\n",
              " 5.022333333333333,\n",
              " 4.935,\n",
              " 4.982666666666667,\n",
              " 4.913,\n",
              " 4.965333333333334,\n",
              " 5.0103333333333335,\n",
              " 4.925333333333334,\n",
              " 4.980666666666667,\n",
              " 5.045,\n",
              " 5.003666666666667,\n",
              " 4.959,\n",
              " 4.933,\n",
              " 4.916333333333333,\n",
              " 4.982333333333333,\n",
              " 4.958666666666667,\n",
              " 4.972666666666667,\n",
              " 4.964,\n",
              " 4.956666666666667,\n",
              " 4.907,\n",
              " 4.968,\n",
              " 4.944,\n",
              " 4.988333333333333,\n",
              " 5.012666666666667,\n",
              " 4.973333333333334,\n",
              " 4.997,\n",
              " 4.953,\n",
              " 4.979333333333333,\n",
              " 4.95,\n",
              " 4.979666666666667,\n",
              " 4.911666666666667,\n",
              " 4.981333333333334,\n",
              " 4.986,\n",
              " 5.002666666666666,\n",
              " 4.951333333333333,\n",
              " 4.989,\n",
              " 5.040333333333334,\n",
              " 4.953,\n",
              " 4.967333333333333,\n",
              " 4.953666666666667,\n",
              " 5.010666666666666,\n",
              " 4.954666666666666,\n",
              " 4.957666666666666,\n",
              " 4.934333333333333,\n",
              " 4.9623333333333335,\n",
              " 4.997,\n",
              " 4.933333333333334,\n",
              " 4.9703333333333335,\n",
              " 4.977,\n",
              " 4.914666666666666,\n",
              " 4.942666666666667,\n",
              " 4.982666666666667,\n",
              " 4.915333333333334,\n",
              " 4.922,\n",
              " 4.98,\n",
              " 4.991666666666666,\n",
              " 4.9383333333333335,\n",
              " 4.927,\n",
              " 5.008,\n",
              " 4.971666666666667,\n",
              " 4.935,\n",
              " 4.980666666666667,\n",
              " 4.903333333333333,\n",
              " 4.987,\n",
              " 4.975666666666666,\n",
              " 4.994666666666666,\n",
              " 4.982333333333333,\n",
              " 4.958333333333333,\n",
              " 4.941333333333334,\n",
              " 5.007333333333333,\n",
              " 4.9093333333333335,\n",
              " 4.9656666666666665,\n",
              " 4.981,\n",
              " 4.967666666666666,\n",
              " 4.966666666666667,\n",
              " 4.969333333333333,\n",
              " 4.955333333333333,\n",
              " 4.956,\n",
              " 4.961666666666667,\n",
              " 5.002666666666666,\n",
              " 4.976666666666667,\n",
              " 4.912,\n",
              " 4.979333333333333,\n",
              " 4.969,\n",
              " 4.974,\n",
              " 4.96,\n",
              " 4.967333333333333,\n",
              " 4.992333333333334,\n",
              " 4.9623333333333335,\n",
              " 4.91,\n",
              " 5.005333333333334,\n",
              " 4.9703333333333335,\n",
              " 5.018,\n",
              " 4.948666666666667,\n",
              " 4.928,\n",
              " 4.949,\n",
              " 5.026666666666666,\n",
              " 4.982666666666667,\n",
              " 4.984666666666667,\n",
              " 4.933,\n",
              " 4.963333333333333,\n",
              " 4.952,\n",
              " 4.942666666666667,\n",
              " 4.9736666666666665,\n",
              " 4.951333333333333,\n",
              " 4.926333333333333,\n",
              " 4.975,\n",
              " 4.984333333333334,\n",
              " 4.961333333333333,\n",
              " 4.989333333333334,\n",
              " 4.943666666666667,\n",
              " 4.979333333333333,\n",
              " 4.922666666666666,\n",
              " 5.020333333333333,\n",
              " 4.9446666666666665,\n",
              " 5.009,\n",
              " 4.930666666666666,\n",
              " 4.943333333333333,\n",
              " 4.955333333333333,\n",
              " 4.901,\n",
              " 4.964,\n",
              " 4.9446666666666665,\n",
              " 4.969,\n",
              " 4.913,\n",
              " 4.984,\n",
              " 4.941666666666666,\n",
              " 4.966666666666667,\n",
              " 4.963,\n",
              " 4.947666666666667,\n",
              " 4.950333333333333,\n",
              " 4.994666666666666,\n",
              " 4.987666666666667,\n",
              " 4.952333333333334,\n",
              " 4.961333333333333,\n",
              " 5.002666666666666,\n",
              " 4.920333333333334,\n",
              " 4.955666666666667,\n",
              " 4.897,\n",
              " 4.993,\n",
              " 4.945666666666667,\n",
              " 4.9046666666666665,\n",
              " 5.007333333333333,\n",
              " 5.006333333333333,\n",
              " 4.962666666666666,\n",
              " 4.930666666666666,\n",
              " 4.985333333333333,\n",
              " 4.949666666666666,\n",
              " 4.978666666666666,\n",
              " 4.9896666666666665,\n",
              " 4.933333333333334,\n",
              " 4.942333333333333,\n",
              " 4.976666666666667,\n",
              " 4.982666666666667,\n",
              " 4.957,\n",
              " 4.952333333333334,\n",
              " 4.974,\n",
              " 4.959666666666666,\n",
              " 4.917333333333334,\n",
              " 4.958,\n",
              " 4.958,\n",
              " 4.958333333333333,\n",
              " 4.925,\n",
              " 4.965333333333334,\n",
              " 5.003,\n",
              " 4.986666666666666,\n",
              " 4.974,\n",
              " 4.957,\n",
              " 4.982333333333333,\n",
              " 4.988,\n",
              " 4.979666666666667,\n",
              " 4.976,\n",
              " 4.927333333333333,\n",
              " 4.955666666666667,\n",
              " 5.009333333333333,\n",
              " 4.987333333333333,\n",
              " 4.976333333333334,\n",
              " 4.96,\n",
              " 5.011333333333333,\n",
              " 4.958666666666667,\n",
              " 4.975666666666666,\n",
              " 4.933666666666666,\n",
              " 4.962,\n",
              " 4.9816666666666665,\n",
              " 4.9286666666666665,\n",
              " 4.951333333333333,\n",
              " 4.983,\n",
              " 4.913666666666667,\n",
              " 4.955,\n",
              " 5.001,\n",
              " 4.978,\n",
              " 4.9863333333333335,\n",
              " 4.9463333333333335,\n",
              " 4.976,\n",
              " 4.946,\n",
              " 4.949333333333334,\n",
              " 4.934666666666667,\n",
              " 4.952,\n",
              " 4.949333333333334,\n",
              " 4.983666666666666,\n",
              " 4.940333333333333,\n",
              " 4.996666666666667,\n",
              " 4.981333333333334,\n",
              " 4.954666666666666,\n",
              " 4.94,\n",
              " 4.969666666666667,\n",
              " 5.000666666666667,\n",
              " 4.933,\n",
              " 4.955666666666667,\n",
              " 4.952,\n",
              " 4.971666666666667,\n",
              " 4.99,\n",
              " 4.919,\n",
              " 4.982,\n",
              " 4.995,\n",
              " 5.016,\n",
              " 4.918333333333333,\n",
              " 4.958666666666667,\n",
              " 5.021333333333334,\n",
              " 4.962666666666666,\n",
              " 4.963,\n",
              " 4.944,\n",
              " 5.000333333333334,\n",
              " 4.926666666666667,\n",
              " 5.0183333333333335,\n",
              " 4.976333333333334,\n",
              " 5.004333333333333,\n",
              " 4.9736666666666665,\n",
              " 4.929,\n",
              " 4.991666666666666,\n",
              " 4.942333333333333,\n",
              " 4.978,\n",
              " 4.95,\n",
              " 4.934333333333333,\n",
              " 5.015333333333333,\n",
              " 4.955333333333333,\n",
              " 4.969333333333333,\n",
              " 5.013,\n",
              " 4.939666666666667,\n",
              " 4.932,\n",
              " 4.971,\n",
              " 5.009,\n",
              " 4.936,\n",
              " 4.989,\n",
              " 4.947,\n",
              " 4.995,\n",
              " 4.964666666666667,\n",
              " 4.968666666666667,\n",
              " 4.974,\n",
              " 4.975666666666666,\n",
              " 4.968666666666667,\n",
              " 4.977666666666667,\n",
              " 4.997333333333334,\n",
              " 4.957,\n",
              " 4.943666666666667,\n",
              " 4.995333333333333,\n",
              " 4.993666666666667,\n",
              " 4.987,\n",
              " 4.971333333333333,\n",
              " 4.955,\n",
              " 4.976666666666667,\n",
              " 5.007333333333333,\n",
              " 4.948,\n",
              " 4.957,\n",
              " 4.949666666666666,\n",
              " 4.945,\n",
              " 5.001,\n",
              " 4.917,\n",
              " 4.958333333333333,\n",
              " 4.991,\n",
              " 4.9783333333333335,\n",
              " 4.988666666666667,\n",
              " 5.003,\n",
              " 4.9623333333333335,\n",
              " 4.961,\n",
              " 5.01,\n",
              " 4.968666666666667,\n",
              " 4.999,\n",
              " 4.983,\n",
              " 4.984,\n",
              " 4.943,\n",
              " 4.942666666666667,\n",
              " 4.942,\n",
              " 4.975666666666666,\n",
              " 4.982333333333333,\n",
              " 4.943,\n",
              " 5.034,\n",
              " 4.946666666666666,\n",
              " 4.985333333333333,\n",
              " 4.984333333333334,\n",
              " 4.936333333333334,\n",
              " 4.955,\n",
              " 4.953,\n",
              " 4.941333333333334,\n",
              " 4.944333333333334,\n",
              " 4.938,\n",
              " 4.953666666666667,\n",
              " 4.9543333333333335,\n",
              " 4.968666666666667,\n",
              " 4.971333333333333,\n",
              " 4.965333333333334,\n",
              " 4.949666666666666,\n",
              " 4.989,\n",
              " 4.960333333333334,\n",
              " 4.999333333333333,\n",
              " 4.954,\n",
              " 4.95,\n",
              " 4.939,\n",
              " 4.957333333333334,\n",
              " 4.998666666666667,\n",
              " 4.975333333333333,\n",
              " 4.915,\n",
              " 4.965,\n",
              " 4.94,\n",
              " 4.961333333333333,\n",
              " 4.987333333333333,\n",
              " 4.926666666666667,\n",
              " 4.967,\n",
              " 5.0,\n",
              " 4.988333333333333,\n",
              " 4.9816666666666665,\n",
              " 4.932,\n",
              " 4.99,\n",
              " 5.008,\n",
              " 4.955333333333333,\n",
              " 4.992666666666667,\n",
              " 4.932,\n",
              " 4.953666666666667,\n",
              " 4.979666666666667,\n",
              " 5.019333333333333,\n",
              " 4.907333333333334,\n",
              " 4.940666666666667,\n",
              " 4.920333333333334,\n",
              " 5.016666666666667,\n",
              " 4.920333333333334,\n",
              " 4.957333333333334,\n",
              " 4.943333333333333,\n",
              " 4.9736666666666665,\n",
              " 4.980666666666667,\n",
              " 4.933666666666666,\n",
              " 4.937333333333333,\n",
              " 4.968666666666667,\n",
              " 4.968666666666667,\n",
              " 4.944333333333334,\n",
              " 4.969333333333333,\n",
              " 4.963,\n",
              " 4.971333333333333,\n",
              " 4.94,\n",
              " 4.977666666666667,\n",
              " 4.980666666666667,\n",
              " 4.951666666666667,\n",
              " 4.9446666666666665,\n",
              " 4.972666666666667,\n",
              " 5.014666666666667,\n",
              " 5.016,\n",
              " 4.999666666666666,\n",
              " 4.992666666666667,\n",
              " 4.955,\n",
              " 4.9206666666666665,\n",
              " 5.011,\n",
              " 4.992666666666667,\n",
              " 4.9656666666666665,\n",
              " 5.005,\n",
              " 4.953333333333333,\n",
              " 4.99,\n",
              " 4.959333333333333,\n",
              " 4.956666666666667,\n",
              " 4.995,\n",
              " 4.968666666666667,\n",
              " 4.955,\n",
              " 4.959333333333333,\n",
              " 4.947666666666667,\n",
              " 4.962666666666666,\n",
              " 4.930666666666666,\n",
              " 4.968333333333334,\n",
              " 4.979,\n",
              " 4.982,\n",
              " 4.939666666666667,\n",
              " 4.936333333333334,\n",
              " 4.974,\n",
              " 4.971,\n",
              " 4.941333333333334,\n",
              " 4.978,\n",
              " 4.966333333333333,\n",
              " 4.938,\n",
              " 4.983666666666666,\n",
              " 4.987666666666667,\n",
              " 4.982333333333333,\n",
              " 4.971,\n",
              " 4.927,\n",
              " 4.921,\n",
              " 4.955333333333333,\n",
              " 4.978666666666666,\n",
              " 4.919,\n",
              " 4.967333333333333,\n",
              " 4.920333333333334,\n",
              " 4.972,\n",
              " 4.934666666666667,\n",
              " 4.981,\n",
              " 4.982666666666667,\n",
              " 4.960666666666667,\n",
              " 4.929333333333333,\n",
              " 4.904333333333334,\n",
              " 4.995333333333333,\n",
              " 5.024333333333334,\n",
              " 4.959666666666666,\n",
              " 4.975666666666666,\n",
              " 4.9783333333333335,\n",
              " 4.967,\n",
              " 4.895666666666667,\n",
              " 4.959666666666666,\n",
              " 4.945333333333333,\n",
              " 5.006,\n",
              " 4.985666666666667,\n",
              " 4.999333333333333,\n",
              " 4.914333333333333,\n",
              " 4.922666666666666,\n",
              " 4.984333333333334,\n",
              " 4.989333333333334,\n",
              " 5.012666666666667,\n",
              " 4.941333333333334,\n",
              " 4.993333333333333,\n",
              " 5.012666666666667,\n",
              " 5.005333333333334,\n",
              " 5.016333333333334,\n",
              " 4.996666666666667,\n",
              " 5.012333333333333,\n",
              " 4.974666666666667,\n",
              " 4.960333333333334,\n",
              " 4.941333333333334,\n",
              " 5.016,\n",
              " 5.0183333333333335,\n",
              " 4.948333333333333,\n",
              " 4.903666666666667,\n",
              " 4.929,\n",
              " 4.973333333333334,\n",
              " 4.98,\n",
              " 4.951,\n",
              " 4.992,\n",
              " 4.980666666666667,\n",
              " 4.997,\n",
              " 4.962666666666666,\n",
              " 4.98,\n",
              " 4.979,\n",
              " 4.970666666666666,\n",
              " 4.974666666666667,\n",
              " 4.947666666666667,\n",
              " 4.954,\n",
              " 4.963666666666667,\n",
              " 4.953333333333333,\n",
              " 4.918,\n",
              " 4.956,\n",
              " 5.035333333333333,\n",
              " 4.937333333333333,\n",
              " 4.971,\n",
              " 4.992666666666667,\n",
              " 4.953333333333333,\n",
              " 5.050666666666666,\n",
              " 4.973333333333334,\n",
              " 4.993666666666667,\n",
              " 4.999666666666666,\n",
              " 4.988333333333333,\n",
              " 5.012666666666667,\n",
              " 4.971333333333333,\n",
              " 4.977666666666667,\n",
              " 4.976333333333334,\n",
              " 4.935666666666667,\n",
              " 4.9223333333333334,\n",
              " 4.948333333333333,\n",
              " 4.960333333333334,\n",
              " 4.961333333333333,\n",
              " 4.981,\n",
              " 4.938,\n",
              " 4.976333333333334,\n",
              " 4.918666666666667,\n",
              " 4.910333333333333,\n",
              " 5.0,\n",
              " 4.949666666666666,\n",
              " 4.917666666666666,\n",
              " 4.996,\n",
              " 4.992,\n",
              " 4.982666666666667,\n",
              " 4.9656666666666665,\n",
              " 4.947333333333333,\n",
              " 4.990666666666667,\n",
              " 4.972,\n",
              " 4.997333333333334,\n",
              " 4.923,\n",
              " 4.950333333333333,\n",
              " 5.005333333333334,\n",
              " 5.004333333333333,\n",
              " 4.93,\n",
              " 4.948666666666667,\n",
              " 4.948333333333333,\n",
              " 4.959333333333333,\n",
              " 4.975,\n",
              " 4.945,\n",
              " 5.0023333333333335,\n",
              " 4.975666666666666,\n",
              " 4.951666666666667,\n",
              " 5.015,\n",
              " 4.988666666666667,\n",
              " 4.971333333333333,\n",
              " 5.017,\n",
              " 4.967666666666666,\n",
              " 4.961333333333333,\n",
              " 5.015,\n",
              " 4.97,\n",
              " 5.004,\n",
              " 4.936333333333334,\n",
              " 4.9783333333333335,\n",
              " 4.937666666666667,\n",
              " 4.962666666666666,\n",
              " 4.941,\n",
              " 4.937333333333333,\n",
              " 4.942333333333333,\n",
              " 4.956666666666667,\n",
              " 4.943,\n",
              " 4.95,\n",
              " 4.871333333333333,\n",
              " 4.938666666666666,\n",
              " 4.983,\n",
              " 4.956,\n",
              " 4.9896666666666665,\n",
              " 5.007333333333333,\n",
              " 4.956,\n",
              " 4.951333333333333,\n",
              " 4.949666666666666,\n",
              " 4.934,\n",
              " 4.957666666666666,\n",
              " 4.967666666666666,\n",
              " 5.011666666666667,\n",
              " 4.884666666666667,\n",
              " 4.98,\n",
              " 4.957333333333334,\n",
              " 4.956666666666667,\n",
              " 5.009,\n",
              " 4.984,\n",
              " 4.949666666666666,\n",
              " 4.942,\n",
              " 4.9863333333333335,\n",
              " 4.995333333333333,\n",
              " 4.958666666666667,\n",
              " 4.978666666666666,\n",
              " 4.956666666666667,\n",
              " 4.913666666666667,\n",
              " 4.936,\n",
              " 4.983666666666666,\n",
              " 4.951333333333333,\n",
              " 4.938,\n",
              " 5.045,\n",
              " 4.966333333333333,\n",
              " 4.946666666666666,\n",
              " 5.018,\n",
              " 4.914333333333333,\n",
              " 4.959,\n",
              " 4.968,\n",
              " 4.9206666666666665,\n",
              " 4.961666666666667,\n",
              " 4.978666666666666,\n",
              " 4.9013333333333335,\n",
              " 4.964,\n",
              " 4.971333333333333,\n",
              " 4.971333333333333,\n",
              " 4.932333333333333,\n",
              " 5.011666666666667,\n",
              " 4.969333333333333,\n",
              " 4.979666666666667,\n",
              " 4.977666666666667,\n",
              " 4.991,\n",
              " 5.042,\n",
              " 4.982333333333333,\n",
              " 4.936333333333334,\n",
              " 4.948,\n",
              " 4.958,\n",
              " 4.991666666666666,\n",
              " 4.941333333333334,\n",
              " 4.986666666666666,\n",
              " 4.976666666666667,\n",
              " 4.936,\n",
              " 4.917333333333334,\n",
              " 4.941333333333334,\n",
              " 4.974666666666667,\n",
              " 4.976666666666667,\n",
              " 4.939666666666667,\n",
              " 4.9736666666666665,\n",
              " 4.999666666666666,\n",
              " 4.956,\n",
              " 4.908666666666667,\n",
              " 4.969,\n",
              " 4.984333333333334,\n",
              " 5.022,\n",
              " 4.960666666666667,\n",
              " 4.9013333333333335,\n",
              " 4.994,\n",
              " 4.951333333333333,\n",
              " 4.971333333333333,\n",
              " 4.945666666666667,\n",
              " 4.957,\n",
              " 5.0023333333333335,\n",
              " 4.969666666666667,\n",
              " 4.923333333333333,\n",
              " 4.963333333333333,\n",
              " 4.923333333333333,\n",
              " 4.975666666666666,\n",
              " 4.963,\n",
              " 4.983,\n",
              " 4.981,\n",
              " 4.976666666666667,\n",
              " 5.007666666666666,\n",
              " 4.95,\n",
              " 4.916666666666667,\n",
              " 4.917333333333334,\n",
              " 4.946,\n",
              " 4.957666666666666,\n",
              " 4.961333333333333,\n",
              " 4.944,\n",
              " 4.919666666666667,\n",
              " 4.924666666666667,\n",
              " 4.978,\n",
              " 5.016333333333334,\n",
              " 4.974666666666667,\n",
              " 4.988,\n",
              " 4.967666666666666,\n",
              " 4.941,\n",
              " 4.963,\n",
              " 4.977333333333333,\n",
              " 4.986,\n",
              " 4.929666666666667,\n",
              " 4.963333333333333,\n",
              " 4.953333333333333,\n",
              " 4.969333333333333,\n",
              " 4.972,\n",
              " 4.9126666666666665,\n",
              " 4.995,\n",
              " 4.956,\n",
              " 5.023666666666666,\n",
              " 4.979666666666667,\n",
              " 4.980666666666667,\n",
              " 4.946666666666666,\n",
              " 4.9303333333333335,\n",
              " 4.9366666666666665,\n",
              " 4.916333333333333,\n",
              " 4.930666666666666,\n",
              " 4.957666666666666,\n",
              " 4.996,\n",
              " 4.899,\n",
              " 5.005,\n",
              " 4.992666666666667,\n",
              " 5.017333333333333,\n",
              " 4.964333333333333,\n",
              " 4.941333333333334,\n",
              " 4.947,\n",
              " 4.977666666666667,\n",
              " 4.965,\n",
              " 4.97,\n",
              " 4.986666666666666,\n",
              " 4.951,\n",
              " 4.977333333333333,\n",
              " 4.981333333333334,\n",
              " 4.991333333333333,\n",
              " 4.947666666666667,\n",
              " 4.987333333333333,\n",
              " 4.946666666666666,\n",
              " 4.992,\n",
              " 4.942666666666667,\n",
              " 4.978,\n",
              " 4.988333333333333,\n",
              " 5.001666666666667,\n",
              " 4.922666666666666,\n",
              " 5.008666666666667,\n",
              " 4.957333333333334,\n",
              " 4.918333333333333,\n",
              " 4.923666666666667,\n",
              " 4.926,\n",
              " 4.950666666666667,\n",
              " 4.955,\n",
              " 5.002,\n",
              " 5.000666666666667,\n",
              " 4.966333333333333,\n",
              " 4.953,\n",
              " 4.955,\n",
              " 4.982666666666667,\n",
              " 4.959333333333333,\n",
              " 4.938666666666666,\n",
              " 4.992,\n",
              " 4.988333333333333,\n",
              " 4.948333333333333,\n",
              " 4.954,\n",
              " 4.9703333333333335,\n",
              " 4.944333333333334,\n",
              " 4.893666666666666,\n",
              " 4.9446666666666665,\n",
              " 4.982333333333333,\n",
              " 4.903666666666667,\n",
              " 4.936333333333334,\n",
              " 5.015,\n",
              " 4.915666666666667,\n",
              " 5.019666666666667,\n",
              " 5.021,\n",
              " 4.978666666666666,\n",
              " 4.991,\n",
              " 4.986,\n",
              " 4.956333333333333,\n",
              " 4.943333333333333,\n",
              " 4.975333333333333,\n",
              " 4.997,\n",
              " 5.004666666666667,\n",
              " 4.913666666666667,\n",
              " 4.926666666666667,\n",
              " 4.953,\n",
              " 4.971,\n",
              " 4.981,\n",
              " 4.959333333333333,\n",
              " 4.958,\n",
              " 4.914,\n",
              " 4.9863333333333335,\n",
              " 4.934666666666667,\n",
              " 4.983333333333333,\n",
              " 4.9543333333333335,\n",
              " 4.944333333333334,\n",
              " 4.961333333333333,\n",
              " 4.959333333333333,\n",
              " 5.009333333333333,\n",
              " 4.942333333333333,\n",
              " 4.954666666666666,\n",
              " 4.881666666666667,\n",
              " 4.9943333333333335,\n",
              " 4.963666666666667,\n",
              " 4.973333333333334,\n",
              " 4.952333333333334,\n",
              " 4.950666666666667,\n",
              " 4.935666666666667,\n",
              " 4.986,\n",
              " 4.948666666666667,\n",
              " 5.015666666666666,\n",
              " 4.961333333333333,\n",
              " 4.950333333333333,\n",
              " 4.951,\n",
              " 4.977666666666667,\n",
              " 4.945,\n",
              " 4.972,\n",
              " 4.973,\n",
              " 4.995666666666667,\n",
              " 5.016666666666667,\n",
              " 4.973333333333334,\n",
              " 5.007666666666666,\n",
              " 4.9656666666666665,\n",
              " 4.939,\n",
              " 4.958,\n",
              " 4.971666666666667,\n",
              " 4.956666666666667,\n",
              " 4.940666666666667,\n",
              " 5.008,\n",
              " 4.944,\n",
              " 4.925666666666666,\n",
              " 4.97,\n",
              " 4.921,\n",
              " 4.954,\n",
              " 4.982333333333333,\n",
              " 5.005333333333334,\n",
              " 4.942333333333333,\n",
              " 4.963333333333333,\n",
              " 4.996333333333333,\n",
              " 4.955333333333333,\n",
              " 4.9863333333333335,\n",
              " 4.907,\n",
              " 4.944,\n",
              " 4.974,\n",
              " 4.946666666666666,\n",
              " 4.957333333333334,\n",
              " 4.979,\n",
              " 4.935,\n",
              " 4.973,\n",
              " 4.934666666666667,\n",
              " 5.063666666666666,\n",
              " 4.954,\n",
              " 4.975333333333333,\n",
              " 4.957333333333334,\n",
              " 4.978666666666666,\n",
              " 4.935666666666667,\n",
              " 4.947,\n",
              " 4.983666666666666,\n",
              " 4.964666666666667,\n",
              " 5.012666666666667,\n",
              " 4.988666666666667,\n",
              " 4.956,\n",
              " 4.951666666666667,\n",
              " 4.9656666666666665,\n",
              " 4.937666666666667,\n",
              " 4.903,\n",
              " 4.969666666666667,\n",
              " 5.008333333333334,\n",
              " 4.966333333333333,\n",
              " 4.958666666666667,\n",
              " 4.979,\n",
              " 4.927666666666667,\n",
              " 4.975,\n",
              " 4.975,\n",
              " 4.960333333333334,\n",
              " 4.983333333333333,\n",
              " 4.941333333333334,\n",
              " 4.988666666666667,\n",
              " 4.9543333333333335,\n",
              " 4.979666666666667,\n",
              " 4.93,\n",
              " 4.978,\n",
              " 4.936333333333334,\n",
              " 4.924,\n",
              " 4.9623333333333335,\n",
              " 4.968666666666667,\n",
              " 4.968,\n",
              " 4.907666666666667,\n",
              " 4.936,\n",
              " 4.996333333333333,\n",
              " 5.018,\n",
              " 4.964,\n",
              " 4.972666666666667,\n",
              " 4.971666666666667,\n",
              " 4.957666666666666,\n",
              " 4.959333333333333,\n",
              " 4.991666666666666,\n",
              " 4.968666666666667,\n",
              " 4.960333333333334,\n",
              " 4.895,\n",
              " 4.916333333333333,\n",
              " 4.969666666666667,\n",
              " 4.95,\n",
              " 4.966666666666667,\n",
              " 4.9976666666666665,\n",
              " 4.964333333333333,\n",
              " 5.035,\n",
              " 4.952,\n",
              " 4.942333333333333,\n",
              " 4.962,\n",
              " 4.947666666666667,\n",
              " 4.968666666666667,\n",
              " 4.944333333333334,\n",
              " 4.969333333333333,\n",
              " 4.958666666666667,\n",
              " 4.926333333333333,\n",
              " 4.932,\n",
              " 4.954,\n",
              " 4.966,\n",
              " 4.9623333333333335,\n",
              " 5.007333333333333,\n",
              " 4.965,\n",
              " 4.977,\n",
              " 4.945,\n",
              " 4.9543333333333335,\n",
              " 4.944,\n",
              " 4.938,\n",
              " 4.922,\n",
              " 5.006,\n",
              " 4.962666666666666,\n",
              " 4.983333333333333,\n",
              " 4.958,\n",
              " 4.979,\n",
              " 4.925,\n",
              " 4.959666666666666,\n",
              " 4.980333333333333,\n",
              " 4.926333333333333,\n",
              " 4.987,\n",
              " 4.969666666666667,\n",
              " 4.953666666666667,\n",
              " 5.014666666666667,\n",
              " ...]"
            ]
          },
          "metadata": {},
          "execution_count": 57
        }
      ]
    },
    {
      "cell_type": "code",
      "source": [
        "sns.distplot(mean_ofall_samples)"
      ],
      "metadata": {
        "colab": {
          "base_uri": "https://localhost:8080/",
          "height": 638
        },
        "id": "Zd01qbpAL0Rk",
        "outputId": "9dff3102-d6af-4b4e-d69e-c1fcb3f3e5a0"
      },
      "execution_count": 58,
      "outputs": [
        {
          "output_type": "stream",
          "name": "stderr",
          "text": [
            "<ipython-input-58-b53bba18f7f8>:1: UserWarning: \n",
            "\n",
            "`distplot` is a deprecated function and will be removed in seaborn v0.14.0.\n",
            "\n",
            "Please adapt your code to use either `displot` (a figure-level function with\n",
            "similar flexibility) or `histplot` (an axes-level function for histograms).\n",
            "\n",
            "For a guide to updating your code to use the new functions, please see\n",
            "https://gist.github.com/mwaskom/de44147ed2974457ad6372750bbe5751\n",
            "\n",
            "  sns.distplot(mean_ofall_samples)\n"
          ]
        },
        {
          "output_type": "execute_result",
          "data": {
            "text/plain": [
              "<Axes: ylabel='Density'>"
            ]
          },
          "metadata": {},
          "execution_count": 58
        },
        {
          "output_type": "display_data",
          "data": {
            "text/plain": [
              "<Figure size 640x480 with 1 Axes>"
            ],
            "image/png": "[encoded data removed]"
          },
          "metadata": {}
        }
      ]
    },
    {
      "cell_type": "code",
      "source": [
        "#Hence central limit theorem proved as sampling mean follows normal distribution"
      ],
      "metadata": {
        "id": "ilQRVZY9L6sb"
      },
      "execution_count": 59,
      "outputs": []
    },
    {
      "cell_type": "code",
      "source": [
        "# mean=median =mode in central limit theorem"
      ],
      "metadata": {
        "id": "uf1yOH0cMCLd"
      },
      "execution_count": 60,
      "outputs": []
    },
    {
      "cell_type": "code",
      "source": [
        "np.mean(mean_ofall_samples)"
      ],
      "metadata": {
        "colab": {
          "base_uri": "https://localhost:8080/"
        },
        "id": "I5RSdc_5O-Sm",
        "outputId": "1a436081-8e11-498f-cf4b-8f6736a687c8"
      },
      "execution_count": 61,
      "outputs": [
        {
          "output_type": "execute_result",
          "data": {
            "text/plain": [
              "4.964880588058806"
            ]
          },
          "metadata": {},
          "execution_count": 61
        }
      ]
    },
    {
      "cell_type": "code",
      "source": [
        "np.median(mean_ofall_samples)"
      ],
      "metadata": {
        "colab": {
          "base_uri": "https://localhost:8080/"
        },
        "id": "attlUtVyPEbn",
        "outputId": "d5126151-05c2-4fe4-90c1-18e5c28c6c48"
      },
      "execution_count": 62,
      "outputs": [
        {
          "output_type": "execute_result",
          "data": {
            "text/plain": [
              "4.965"
            ]
          },
          "metadata": {},
          "execution_count": 62
        }
      ]
    },
    {
      "cell_type": "code",
      "source": [
        "statistics.mode(mean_ofall_samples)"
      ],
      "metadata": {
        "colab": {
          "base_uri": "https://localhost:8080/"
        },
        "id": "JfKPfpn9PI86",
        "outputId": "1ca8cdda-b7b7-4ffb-d3ee-ac9f856cee10"
      },
      "execution_count": 63,
      "outputs": [
        {
          "output_type": "execute_result",
          "data": {
            "text/plain": [
              "4.971"
            ]
          },
          "metadata": {},
          "execution_count": 63
        }
      ]
    },
    {
      "cell_type": "code",
      "source": [
        "#Hypothesis Testing :Z-test,T-test,f-test,annova"
      ],
      "metadata": {
        "id": "741BPdzbPUvc"
      },
      "execution_count": 64,
      "outputs": []
    },
    {
      "cell_type": "code",
      "source": [
        "import scipy.stats as stats"
      ],
      "metadata": {
        "id": "jm-tkFeVQgdf"
      },
      "execution_count": 65,
      "outputs": []
    },
    {
      "cell_type": "code",
      "source": [
        "z_critical=stats.norm.ppf(q=0.95)\n",
        "z_critical"
      ],
      "metadata": {
        "colab": {
          "base_uri": "https://localhost:8080/"
        },
        "id": "CI1XSIXiQmYk",
        "outputId": "288ca7e8-337b-45d4-ca82-3dff3ea1f2bb"
      },
      "execution_count": 66,
      "outputs": [
        {
          "output_type": "execute_result",
          "data": {
            "text/plain": [
              "1.6448536269514722"
            ]
          },
          "metadata": {},
          "execution_count": 66
        }
      ]
    },
    {
      "cell_type": "code",
      "source": [
        "#Z-critical for given alpha 0.95 value is 1.644"
      ],
      "metadata": {
        "id": "TBr2r9XhQrBk"
      },
      "execution_count": 67,
      "outputs": []
    },
    {
      "cell_type": "code",
      "source": [
        "#t-critical for given alpha calculation\n",
        "stats.t.ppf(df=24,q=0.95)"
      ],
      "metadata": {
        "colab": {
          "base_uri": "https://localhost:8080/"
        },
        "id": "hHPfmmFeRfbi",
        "outputId": "2dc1b065-a71f-407c-cf7c-234bed02caf1"
      },
      "execution_count": 68,
      "outputs": [
        {
          "output_type": "execute_result",
          "data": {
            "text/plain": [
              "1.7108820799094275"
            ]
          },
          "metadata": {},
          "execution_count": 68
        }
      ]
    },
    {
      "cell_type": "code",
      "source": [
        "#marginoferror\n",
        "margin_of_error=z_critical*np.std(mean_ofall_samples)/np.sqrt(20)\n",
        "margin_of_error"
      ],
      "metadata": {
        "colab": {
          "base_uri": "https://localhost:8080/"
        },
        "id": "QT73s5uwR-ew",
        "outputId": "67d6a426-5f1a-431a-ae72-f2bb145a8ccb"
      },
      "execution_count": 69,
      "outputs": [
        {
          "output_type": "execute_result",
          "data": {
            "text/plain": [
              "0.010712936306354517"
            ]
          },
          "metadata": {},
          "execution_count": 69
        }
      ]
    },
    {
      "cell_type": "code",
      "source": [
        "#Calculating confidence interval\n",
        "np.mean(mean_ofall_samples)-margin_of_error,np.mean(mean_ofall_samples)+margin_of_error"
      ],
      "metadata": {
        "colab": {
          "base_uri": "https://localhost:8080/"
        },
        "id": "PeDhBuGAWRZO",
        "outputId": "1934c4a9-8695-4c05-8031-0b97d00623f4"
      },
      "execution_count": 70,
      "outputs": [
        {
          "output_type": "execute_result",
          "data": {
            "text/plain": [
              "(4.954167651752451, 4.975593524365161)"
            ]
          },
          "metadata": {},
          "execution_count": 70
        }
      ]
    },
    {
      "cell_type": "code",
      "source": [
        "#Z-test----> 1. Zcritical 2.Pvalue"
      ],
      "metadata": {
        "id": "9ksV_ZffXQGM"
      },
      "execution_count": 71,
      "outputs": []
    },
    {
      "cell_type": "code",
      "source": [
        "#Z-critical method\n",
        "import statistics\n",
        "zcritical=stats.norm.ppf(q=0.95)\n",
        "zcritical"
      ],
      "metadata": {
        "colab": {
          "base_uri": "https://localhost:8080/"
        },
        "id": "o9YWfXSEXY27",
        "outputId": "58629e46-ab6c-4f42-b381-e9bf11dfac4a"
      },
      "execution_count": 72,
      "outputs": [
        {
          "output_type": "execute_result",
          "data": {
            "text/plain": [
              "1.6448536269514722"
            ]
          },
          "metadata": {},
          "execution_count": 72
        }
      ]
    },
    {
      "cell_type": "code",
      "source": [
        "#P=value method in Ztest\n",
        "#if p-value<=0.05 : reject the null hypothesis\n",
        "#if p-value>0.05 : failed to reject the alterante hypothesis"
      ],
      "metadata": {
        "id": "8s2y2rV10Oo9"
      },
      "execution_count": 73,
      "outputs": []
    },
    {
      "cell_type": "code",
      "source": [
        "population=np.random.randn(1000)\n",
        "population"
      ],
      "metadata": {
        "colab": {
          "base_uri": "https://localhost:8080/"
        },
        "id": "9j3tSnTo0eFl",
        "outputId": "fa62b84c-8dca-405e-e360-fd76898913d3"
      },
      "execution_count": 74,
      "outputs": [
        {
          "output_type": "execute_result",
          "data": {
            "text/plain": [
              "array([-7.12788166e-01, -7.19867689e-01, -4.73540901e-02,  1.90409729e+00,\n",
              "       -3.10670657e-01, -1.55803354e+00, -1.64658823e+00,  4.70933865e-01,\n",
              "        2.45956565e-01,  1.02607221e+00, -5.37889760e-01,  9.89846636e-01,\n",
              "        1.53601611e+00, -6.37763112e-01,  2.82292774e-01,  1.20475212e-01,\n",
              "        1.44785410e+00,  4.20138814e-01, -3.21550857e-03, -1.01885571e+00,\n",
              "       -2.56518018e-02,  2.92294562e-01, -2.75523052e-01, -1.78570951e+00,\n",
              "        2.09508793e-01,  3.39272026e-01,  5.56708983e-02,  6.61474556e-01,\n",
              "        2.15915161e-01, -1.33662935e-01,  2.47853372e-01, -9.20655020e-01,\n",
              "       -1.78650682e-01,  7.05676118e-01,  1.00024751e+00,  2.34296984e+00,\n",
              "        3.63699442e+00, -7.96584442e-01,  1.05177416e+00, -1.24394914e+00,\n",
              "       -2.88437102e-01, -2.21624362e+00,  1.11304422e+00, -1.96937761e-01,\n",
              "        2.23743348e+00,  3.89490662e-01, -8.00799382e-01,  1.24767731e+00,\n",
              "        1.64557405e+00,  1.11751985e+00, -7.55188434e-01, -6.03092871e-01,\n",
              "       -1.47770433e+00,  3.51575510e-01, -6.06483443e-01, -7.94764909e-02,\n",
              "        2.09771421e-02,  1.08540297e-01,  1.60732649e+00, -2.46209779e-01,\n",
              "       -6.65546458e-01, -5.22317518e-01, -5.25675242e-01, -5.53251786e-02,\n",
              "        5.73997234e-01, -9.55594140e-02, -2.95317075e-01, -2.76386082e+00,\n",
              "        1.59055525e+00, -2.22579892e+00, -1.16827108e+00,  1.71150959e-01,\n",
              "       -5.65204780e-01, -2.20282162e-01, -8.37971566e-01, -7.54790564e-01,\n",
              "        2.43301350e-01, -3.19335997e-01, -4.76609104e-01, -1.34568234e+00,\n",
              "       -1.18845663e+00,  2.86497716e-01,  5.75367645e-01,  1.26359393e+00,\n",
              "       -2.56019001e-01, -3.58259289e-01, -3.55617706e-01, -6.87745283e-01,\n",
              "       -3.30981992e-01, -6.79128565e-02,  1.05052143e-01, -4.31559081e-01,\n",
              "        1.79781718e-01, -6.80865385e-01, -7.35660559e-02,  4.48188144e-01,\n",
              "       -1.56143179e+00,  1.22633954e+00,  1.46319251e+00, -3.17382217e-01,\n",
              "        6.93853791e-01, -9.01112218e-01, -2.78959684e-01,  1.69393580e+00,\n",
              "       -2.89052349e-01, -1.02661013e+00, -1.02246240e+00,  6.48048272e-01,\n",
              "       -1.19735174e+00,  1.86824122e+00, -4.74588083e-01, -1.28384345e+00,\n",
              "       -4.60048472e-01,  2.18767363e-01, -3.53903509e-01,  2.92436081e-01,\n",
              "       -9.79204908e-02, -5.88978320e-01,  1.16236485e-01, -1.45682836e-01,\n",
              "       -5.46790828e-01,  1.84109977e-01,  8.87564060e-01,  1.16563597e+00,\n",
              "        2.92204540e-01, -7.13943003e-02,  2.24234113e+00,  1.30173422e+00,\n",
              "        9.08667332e-01, -2.47645128e-01, -7.55455751e-01, -4.13218824e-01,\n",
              "       -1.99942819e+00,  1.04201638e+00, -3.38648429e-01, -8.14806651e-01,\n",
              "        4.02310417e-01, -1.06965703e+00, -1.33735291e+00,  2.71635456e-01,\n",
              "       -2.34271943e-01,  9.22671134e-01,  1.24480881e+00, -2.49515851e+00,\n",
              "       -4.51043225e-01,  2.27061648e-01, -7.08605568e-01, -6.43979692e-01,\n",
              "       -7.42386088e-01,  1.28614112e-02,  9.52948395e-03, -5.47367014e-01,\n",
              "       -8.29624661e-01,  1.03552042e+00,  1.82991171e+00,  5.49107543e-01,\n",
              "       -4.93868478e-02,  2.94331265e-02,  1.45670420e+00,  6.59951541e-01,\n",
              "        5.66387751e-01, -3.93607263e-02, -4.13953749e-01,  9.07577945e-02,\n",
              "        9.57944289e-01, -2.84601679e-01, -2.43847867e+00,  1.93421358e+00,\n",
              "        1.24012868e+00,  1.48245927e-01,  5.35892733e-01,  7.79351715e-01,\n",
              "        3.56797232e-01,  1.05609374e+00, -2.18149180e-01,  9.12784539e-01,\n",
              "       -1.23217653e+00,  9.10650366e-01, -2.75217453e-01,  3.75284853e-01,\n",
              "        7.41959484e-01, -2.51085050e+00,  1.09546914e+00,  4.14116848e-01,\n",
              "        6.32415599e-01,  3.16257496e-01,  9.88884419e-01, -6.40625270e-01,\n",
              "        1.83868277e+00,  9.03670455e-01, -2.94709012e-01, -1.39292747e+00,\n",
              "        1.04327949e+00, -1.21742952e+00, -1.13334026e+00,  4.10082674e-01,\n",
              "        9.10996228e-01,  1.08102639e+00, -6.48274050e-02,  1.76997006e+00,\n",
              "       -8.24793042e-03, -3.36708897e-01,  1.97426444e+00, -6.72946517e-01,\n",
              "        1.62879916e+00,  2.18333074e+00, -4.76030417e-02,  2.05994712e+00,\n",
              "        2.44818525e+00,  8.26427041e-01, -1.42522722e-01, -7.91010108e-01,\n",
              "        1.49255013e+00, -4.31157650e-01, -1.37258100e+00, -7.58373932e-01,\n",
              "        1.22977884e-01,  1.57277837e-01, -1.65977057e+00, -1.17680120e+00,\n",
              "        3.35068421e-01,  1.84945356e-01, -8.37490755e-01, -9.33656150e-01,\n",
              "       -1.75561603e+00, -1.57841719e+00, -6.30292368e-01, -1.46363795e+00,\n",
              "        1.87145929e+00, -1.88228334e+00,  1.34466609e+00,  2.01089553e+00,\n",
              "       -1.78690114e+00,  1.08983255e+00, -9.18048920e-01, -1.57145377e+00,\n",
              "       -2.97189499e-01, -2.93902101e-01, -3.25792481e-01, -1.99997736e-01,\n",
              "        1.34547834e+00, -8.99963060e-01,  9.52944323e-01, -2.84383253e-01,\n",
              "        5.08857029e-01,  1.62011644e-01, -1.18091962e+00, -3.15189836e+00,\n",
              "       -1.45605292e+00,  3.97459282e-01, -1.17721043e+00, -1.59841101e+00,\n",
              "       -3.92733002e-01, -4.71953322e-01, -1.10466442e-01,  4.34829130e-01,\n",
              "        1.04156701e+00, -2.23691845e+00, -1.80122720e+00,  3.82172435e-01,\n",
              "       -1.70043433e+00, -2.27291660e-01, -1.00767147e+00,  4.35943335e-01,\n",
              "       -7.21780154e-01, -5.17075365e-01,  2.43517081e-01,  4.69240772e-01,\n",
              "        1.94231261e-03, -6.85813272e-01,  9.87662422e-01,  4.32365370e-01,\n",
              "        9.21640442e-01, -2.38229025e-02, -1.10680806e-01,  6.25091775e-01,\n",
              "       -8.86889860e-01, -8.54734967e-01,  1.75393657e+00, -1.09237304e+00,\n",
              "        1.41661053e+00, -7.31438578e-01, -8.52912930e-01,  1.32782695e+00,\n",
              "       -3.54467588e-01,  1.44701857e+00, -8.22675376e-01,  8.80307382e-01,\n",
              "       -1.23352525e+00,  5.37332129e-02,  1.75417003e+00,  5.83225493e-01,\n",
              "       -8.76718230e-01,  5.95759634e-01, -7.44010335e-01,  1.39215056e+00,\n",
              "       -2.45835119e+00, -2.43270900e+00,  1.77105892e+00,  1.81948120e+00,\n",
              "        1.71825483e+00, -9.29469306e-01,  3.01224179e-01, -1.36842844e+00,\n",
              "       -1.09562620e+00, -6.54967997e-01, -1.17449314e+00,  1.27445130e+00,\n",
              "       -1.54662314e+00, -2.41490666e+00, -9.41081506e-01, -3.56930046e-01,\n",
              "       -7.47922433e-01, -2.97162704e-01, -1.81327855e+00,  6.08368742e-03,\n",
              "       -3.18243763e-01, -1.99992346e+00,  1.33227101e+00, -2.32308448e+00,\n",
              "        6.57133896e-01, -6.74815189e-01, -2.46091721e+00,  1.45219415e-01,\n",
              "        2.63981017e-01,  1.06168289e+00,  1.09765432e+00,  5.20930492e-02,\n",
              "        1.03810707e+00, -1.24941834e+00,  4.01769553e-01,  1.60206638e-01,\n",
              "       -2.20142634e-01,  2.72027888e-01,  8.83577842e-01, -5.59753183e-01,\n",
              "       -8.82267025e-01,  3.59315433e-01, -4.38821321e-01,  9.16763242e-01,\n",
              "       -8.96960735e-01, -7.41037625e-01, -5.60276555e-01, -7.72635872e-01,\n",
              "        2.23481925e+00, -1.80708783e-01, -3.91239817e-01, -2.52832079e-01,\n",
              "        1.11654124e+00,  5.63453547e-02,  3.06166038e-01,  1.17547834e+00,\n",
              "       -2.68480083e-01, -1.56246830e+00,  1.16444687e-01,  4.77484772e-02,\n",
              "        3.04685988e-01, -1.39640582e+00,  1.54380677e+00,  6.87701314e-01,\n",
              "        1.14205426e+00,  3.71208382e-02,  1.85760105e+00,  6.16805247e-01,\n",
              "       -9.84712221e-01, -7.00648563e-01, -9.76010495e-01, -1.65086062e+00,\n",
              "        5.27970594e-01,  1.92979479e-01, -1.47731586e+00, -9.92094092e-01,\n",
              "        2.57420394e+00,  2.25827432e-01,  4.80262185e-01, -1.37863924e-01,\n",
              "        8.18142105e-03, -2.96284798e-01, -2.02563818e+00, -9.28378700e-02,\n",
              "        5.88561860e-01, -1.12641925e+00,  2.68293128e-02,  7.81557493e-01,\n",
              "       -6.92659906e-01, -1.06566494e+00,  2.65457622e-01,  4.57320271e-01,\n",
              "       -3.71036457e-01,  1.22178767e+00, -1.81077982e+00,  3.29003017e-01,\n",
              "        3.09876526e-01,  3.29404560e-01, -1.46312949e+00,  8.64557911e-01,\n",
              "       -3.31090795e-03, -7.29829367e-01,  4.26521726e-01, -5.48179182e-01,\n",
              "       -1.94445477e-02,  1.41560479e+00,  5.15045270e-01,  1.20090320e+00,\n",
              "       -3.87732791e-01,  6.45968774e-01, -4.99459520e-01,  1.19406533e+00,\n",
              "       -7.37012048e-01, -1.02952093e+00,  2.52776937e-01,  6.63990790e-02,\n",
              "       -6.53477984e-01,  7.41720360e-01, -4.18924557e-01, -1.49586794e+00,\n",
              "        4.53197512e-01,  1.69934295e+00,  7.10773273e-01, -9.88720983e-01,\n",
              "       -1.00407858e+00,  9.30740431e-01, -1.19196420e+00,  2.69350559e-01,\n",
              "        8.00587397e-01, -8.42485591e-01,  2.06268564e-01,  7.38945260e-01,\n",
              "       -2.08668638e-01,  1.87634736e+00,  4.53052012e-01, -1.22223034e+00,\n",
              "        3.45660816e-01,  2.19647651e+00,  1.78338372e+00,  1.64732008e-01,\n",
              "        1.06445904e+00, -2.10194636e-01,  8.98699517e-01, -4.23028771e-01,\n",
              "        1.32113204e+00,  9.04914125e-01,  9.08657129e-01,  8.58331721e-01,\n",
              "       -1.23621049e+00,  7.74124697e-01,  3.16870625e-01,  1.72098139e-01,\n",
              "       -1.38062943e+00,  3.74757999e-01,  9.79936789e-01,  1.82900895e+00,\n",
              "        7.31969668e-01, -1.04155932e+00,  9.68307000e-01, -1.52402313e+00,\n",
              "        3.65484460e-01,  4.87205735e-01, -6.48671304e-01, -4.83785482e-01,\n",
              "       -2.03031823e+00,  1.56103557e+00,  1.56205251e+00,  1.13228853e+00,\n",
              "        2.19445352e+00, -1.38134744e-01, -6.07647546e-01,  2.87172133e+00,\n",
              "       -7.29918228e-01,  1.64681248e+00,  2.51794765e-01, -2.93107681e+00,\n",
              "       -2.09258005e-01,  1.34633762e+00, -8.28394289e-01,  1.64285780e+00,\n",
              "       -1.42789540e+00,  4.40230181e-01, -3.43700320e-01,  4.55672888e-01,\n",
              "        5.43644795e-01, -1.01080688e+00,  9.04933855e-01, -3.01838691e-01,\n",
              "       -5.67568251e-01,  1.18989515e+00,  1.60846325e+00, -6.03911950e-01,\n",
              "        1.23327329e+00, -1.31837756e-01, -4.48555064e-01, -4.13084475e-01,\n",
              "        8.41799969e-02, -1.04573343e+00,  8.93936300e-01, -2.03474302e+00,\n",
              "        2.45782978e-01, -1.07832171e+00,  6.47562812e-01,  1.33694460e-01,\n",
              "        9.98643553e-01,  1.26556039e+00,  1.61221112e+00,  1.06573505e+00,\n",
              "        2.02859239e+00, -9.91322838e-01, -2.82929502e-01, -1.00079090e-01,\n",
              "        1.37099908e-01,  8.30777460e-01,  5.50992892e-01, -1.16357202e+00,\n",
              "        3.46148306e-02,  8.49034204e-01,  4.36293730e-01, -2.24576326e+00,\n",
              "        1.56637501e+00,  5.97726025e-01,  1.46830621e+00,  6.59906690e-02,\n",
              "        2.79848139e-01, -4.75042971e-01, -8.09375933e-01,  2.55610118e-01,\n",
              "       -1.02357166e+00,  1.86945646e+00,  2.45194610e-01, -1.40430735e+00,\n",
              "       -8.29755720e-01,  6.85725159e-01, -2.27821689e+00, -7.07735500e-02,\n",
              "        7.44848503e-01,  2.24296729e-01, -1.22431581e+00, -8.68834044e-02,\n",
              "        2.47457824e-01, -2.57793910e-01, -1.83259084e-01,  7.97755275e-01,\n",
              "        4.27266176e-01,  2.23924323e+00,  1.00809604e+00, -8.68385157e-01,\n",
              "        5.24263522e-01, -7.03100490e-01, -1.52572374e+00,  7.79843911e-01,\n",
              "       -1.84307772e-01, -1.33211662e+00,  1.29457532e+00, -2.61603662e-01,\n",
              "        1.49824306e+00,  9.05837671e-01, -7.33401200e-01,  1.47465894e+00,\n",
              "       -4.93247596e-01,  2.80120563e-01,  1.60750602e+00, -3.65108705e-01,\n",
              "        6.94524201e-01,  2.59604304e-01, -1.95526648e-01, -3.27082146e-01,\n",
              "        4.80857785e-01,  1.37090746e+00,  3.98994831e-02, -6.96150847e-01,\n",
              "        1.55863876e+00,  3.40968580e-01,  5.20127722e-01,  2.74106310e-01,\n",
              "        1.54644381e+00, -1.64655125e+00,  8.19044184e-01, -1.16658478e+00,\n",
              "       -6.42793905e-02, -8.26433965e-01,  9.63479645e-01,  1.88213438e+00,\n",
              "       -2.27003922e-01, -6.63921305e-01,  1.82890779e+00, -1.21801309e+00,\n",
              "       -4.25303576e-01, -7.39038055e-01, -7.76292528e-01, -2.19899937e-02,\n",
              "       -9.26714965e-01,  9.32209892e-01, -1.01322378e-01,  7.08025543e-01,\n",
              "       -7.29307071e-01,  4.58800095e-01, -5.92818620e-01,  1.76381178e-01,\n",
              "        3.38437185e-01, -1.12254829e+00,  9.83584353e-01,  1.50207517e+00,\n",
              "       -7.74090795e-01,  1.75184353e+00, -1.59976131e+00, -5.32457861e-01,\n",
              "       -5.54072023e-01, -2.15286962e+00, -9.49039821e-03,  1.03987527e+00,\n",
              "       -1.24711705e+00, -1.09723647e+00, -1.46621658e+00,  1.64342610e-01,\n",
              "        1.60647433e+00,  1.23484492e+00, -1.56469599e+00, -7.20262789e-01,\n",
              "        1.35728287e+00,  6.32088809e-01,  5.35686214e-01, -1.27272672e-01,\n",
              "       -5.06958411e-01,  8.48996914e-01, -1.11328571e+00,  3.02469154e-01,\n",
              "       -6.42333356e-01,  9.65741024e-02,  1.03646281e-01,  4.87345161e-01,\n",
              "        4.87050285e-01, -8.90809234e-01,  3.54971393e-01,  1.24027095e-01,\n",
              "       -8.99434657e-01, -6.86155027e-01, -1.91997460e+00,  8.14656263e-02,\n",
              "        4.38196513e-01, -5.45668974e-01,  8.24961834e-03,  1.32575135e+00,\n",
              "        2.78096476e-01, -8.01625643e-01, -5.87674356e-01, -6.92907858e-01,\n",
              "        7.66656501e-01,  3.23611936e-02,  8.15288321e-01,  9.44529970e-01,\n",
              "       -7.17552297e-01,  2.20836013e-01, -1.79615461e-01,  1.08441944e+00,\n",
              "        1.20764974e+00,  5.19767878e-01, -1.35766452e+00,  6.38096846e-03,\n",
              "        8.34359003e-01, -1.90219844e+00, -5.13598649e-01, -1.20237377e+00,\n",
              "       -7.64644701e-01, -2.19317440e+00,  4.32279303e-01, -4.63876363e-01,\n",
              "       -9.34471579e-01, -3.24513260e-01, -4.48556858e-01, -1.50395505e+00,\n",
              "       -3.74424932e-01,  1.06938087e+00,  6.56186078e-02,  1.49841123e-01,\n",
              "       -8.33511992e-02,  3.15115862e-01, -1.23202667e+00, -1.18627191e+00,\n",
              "       -1.02976621e+00, -2.90778109e-01, -1.03843901e+00, -3.18330438e-01,\n",
              "       -3.05483606e-01, -3.12434192e-01, -1.78906931e+00,  6.76971284e-01,\n",
              "        1.12580959e+00,  5.26765658e-01, -5.62936209e-02, -1.55860699e+00,\n",
              "       -1.43218327e+00, -1.00827004e+00,  4.83299903e-01,  1.35211061e-01,\n",
              "        1.98170167e-01, -6.04315574e-01,  1.67789163e-01,  1.41713744e+00,\n",
              "        4.65589125e-02, -5.58846185e-02, -2.18029064e+00,  1.60567856e+00,\n",
              "       -9.14297976e-01,  6.50827125e-01, -3.59309097e-01,  8.20627085e-01,\n",
              "       -1.49853193e-01,  1.66954394e+00,  1.17448616e+00,  1.78049992e+00,\n",
              "       -1.43891440e-01,  3.09576372e-01, -6.54221876e-01, -4.24535415e-01,\n",
              "        1.47492086e+00,  9.23641571e-01, -5.25745029e-01,  2.23579395e+00,\n",
              "        2.69798971e-01,  2.16963533e-01, -3.69280875e-01, -6.64174297e-01,\n",
              "        2.70763725e-01,  3.62978734e-01,  1.23149077e+00,  5.51190123e-01,\n",
              "       -7.61237950e-01, -4.94233907e-01,  1.49630900e-01, -9.78752956e-01,\n",
              "       -1.18125804e+00,  4.97530349e-01,  1.45058623e+00,  3.43046868e-01,\n",
              "        4.63017461e-02,  1.14644764e+00, -7.89275268e-01,  1.70989127e+00,\n",
              "       -1.01466993e+00, -5.08045317e-02, -1.45235200e+00,  1.85232987e+00,\n",
              "       -1.57819161e+00, -7.61535675e-02, -5.30418758e-01,  1.84414048e+00,\n",
              "        1.54562470e+00,  1.28355480e-01, -1.61848024e-01,  4.96218626e-01,\n",
              "        1.28911045e+00, -2.09693877e-01,  4.44690957e-01,  2.30203411e+00,\n",
              "        3.03697917e-01,  1.38460445e+00, -1.18942531e-02, -3.22152287e-01,\n",
              "        7.31073847e-01,  1.39184208e+00,  7.45227157e-01,  1.70388246e-01,\n",
              "       -1.87768927e-01, -1.64260327e+00,  1.24024792e+00,  9.16764955e-01,\n",
              "       -4.14173492e-02,  1.00136474e+00, -8.24282670e-01, -9.02154511e-01,\n",
              "        5.36100742e-02,  1.28698153e+00, -3.79776133e-01,  1.25520397e-01,\n",
              "       -5.22020836e-01,  1.76711820e+00,  6.16028855e-01, -1.29002652e+00,\n",
              "       -6.48796555e-02, -4.26562843e-01, -2.07161861e-01, -9.90484729e-01,\n",
              "       -2.88653671e-01,  9.87582078e-02, -2.99240804e-01,  1.34646904e+00,\n",
              "       -5.76763906e-01, -7.37196628e-01, -1.30702680e+00,  5.82865053e-01,\n",
              "       -2.84255537e+00,  1.14065247e+00, -8.08220787e-01,  5.95318389e-01,\n",
              "       -7.99765983e-01,  6.72508818e-01,  1.05131098e+00, -6.36270248e-01,\n",
              "        3.32583109e-01, -7.66264081e-01,  2.73827884e+00,  3.18013375e-01,\n",
              "        1.44466175e+00, -1.02727979e+00,  1.90886395e+00,  1.35366170e+00,\n",
              "       -6.80793383e-01, -4.86230668e-04,  1.13250166e+00, -3.62219735e-01,\n",
              "       -1.16004247e+00,  1.95026411e-01,  1.00159543e+00,  1.03518063e+00,\n",
              "       -1.80918330e+00, -1.00078424e+00, -1.76919359e+00,  1.10658922e+00,\n",
              "       -1.41027231e+00,  5.54489192e-01, -7.30662296e-01, -1.97867510e+00,\n",
              "        8.64398382e-01, -5.61784997e-01,  9.08895859e-02, -1.56627256e+00,\n",
              "        1.15693783e+00,  1.10894677e+00,  2.15795163e+00,  1.04838964e+00,\n",
              "       -2.12626934e-01,  1.00333831e+00,  4.55656457e-01,  8.15044972e-01,\n",
              "        1.33653188e+00,  7.33895008e-01, -1.42114865e-02,  9.40559300e-01,\n",
              "       -7.42625265e-01,  1.17204195e+00,  1.48902577e-01,  1.77536465e-01,\n",
              "        2.73306180e+00,  1.32523556e+00,  1.11841298e+00, -1.45188120e+00,\n",
              "       -4.00554073e-01,  1.08270295e+00, -7.45367014e-01,  1.02841918e+00,\n",
              "       -3.89573396e-01, -7.66244621e-01,  1.11031003e+00, -4.10830307e-01,\n",
              "        6.69171616e-01, -2.83793040e-01,  7.92365915e-01,  1.50310528e+00,\n",
              "        1.72665280e-01,  4.57333603e-01, -4.96513801e-02,  1.65679836e+00,\n",
              "       -5.08332150e-01,  4.78856173e-01,  8.55413728e-01, -1.02437892e+00,\n",
              "        6.06062380e-01, -1.84630350e-01,  1.28676371e+00,  4.53211008e-01,\n",
              "        7.77377775e-01,  2.61388253e-01, -4.98197636e-01, -1.49950174e+00,\n",
              "        9.34005872e-01,  2.18252615e-01,  1.00708893e-02,  4.50764988e-01,\n",
              "        1.47126704e+00,  1.45619979e+00,  7.42959379e-01, -1.72240705e+00,\n",
              "        8.45855677e-01,  2.50817267e-01, -1.60164277e+00,  3.65186900e-01,\n",
              "       -4.44643704e-01,  1.78157303e-02, -3.74494301e-01, -5.80977439e-01,\n",
              "        1.11670564e+00, -8.07759760e-01,  9.12331322e-01,  2.23631126e+00,\n",
              "       -4.93400278e-01,  1.25838700e+00, -3.69598669e-02,  6.03284117e-01,\n",
              "       -1.05592087e-01, -4.68555632e-01, -3.22610727e-01,  2.79545700e+00,\n",
              "        1.19997414e+00, -3.29110209e-01, -4.14828148e-01, -1.54800470e-01,\n",
              "       -8.31659917e-01, -1.38039669e-01, -1.20903899e-01, -1.78912555e+00,\n",
              "        2.80107961e-02,  2.53150843e-01, -5.38331757e-01, -9.45860308e-01,\n",
              "        6.64777717e-01,  1.22983567e+00, -4.31112427e-01,  2.68920863e-01,\n",
              "        4.34755313e-01,  1.84570771e-01, -6.78154043e-02, -2.11434851e+00,\n",
              "        4.06677801e-02, -4.33765959e-01,  9.24874624e-01, -9.70636216e-01,\n",
              "        1.29669786e+00, -6.53207265e-01, -2.65120221e-01, -1.55944845e+00,\n",
              "       -4.77211035e-01, -9.91113852e-01,  1.07289518e+00,  6.03688180e-01,\n",
              "        1.31923260e+00,  2.87234871e-01, -2.53468947e+00, -1.29704950e+00,\n",
              "       -1.62024774e+00,  3.24567266e-01, -9.58421244e-01,  1.10631100e+00,\n",
              "       -6.56075152e-01,  1.71124082e+00, -2.75274114e-01, -1.01566062e+00,\n",
              "        3.74504710e-01,  1.63763360e+00,  1.82765028e+00, -1.30114914e+00,\n",
              "        2.60950303e-01,  2.95019758e-01, -2.22433898e-01, -9.03404440e-04,\n",
              "        2.44729543e+00,  6.12614412e-01, -6.94147852e-01, -3.10495726e-02,\n",
              "       -1.71582323e+00,  6.22623810e-02, -1.29619490e+00,  9.34641850e-01,\n",
              "        4.85270145e-01, -7.89116289e-01,  1.49331233e-01,  1.30841177e+00,\n",
              "        3.11479303e-01, -1.39862705e-01,  1.37816580e-01,  1.62095977e+00,\n",
              "       -7.72718690e-01, -5.39698842e-01, -3.08601369e-01, -2.90119952e-01,\n",
              "       -1.22688162e-01,  2.27432546e-02, -1.68225037e-01, -8.16470647e-01,\n",
              "        3.58992041e-01, -5.80117732e-01, -1.27579097e+00,  6.82262771e-01,\n",
              "        1.57687039e+00,  1.54969283e+00,  2.15735838e-02,  1.65283503e-01,\n",
              "        2.55824568e-02, -1.13280336e-01, -1.35577049e+00,  8.67348409e-01,\n",
              "        5.14151970e-01,  2.96191914e-01,  3.00944584e-01,  4.47276436e-01,\n",
              "        8.92369400e-01, -1.28690764e+00,  4.86913610e-01,  1.15551875e-01,\n",
              "        3.79390082e-01,  3.09254595e-01, -4.09562446e-01,  1.80307753e+00])"
            ]
          },
          "metadata": {},
          "execution_count": 74
        }
      ]
    },
    {
      "cell_type": "code",
      "source": [
        "np.mean(population), np.std(population)"
      ],
      "metadata": {
        "colab": {
          "base_uri": "https://localhost:8080/"
        },
        "id": "ZJXJGCYV0qMM",
        "outputId": "b9ed4c2f-34c0-44d1-f89a-d2c1b4363df9"
      },
      "execution_count": 75,
      "outputs": [
        {
          "output_type": "execute_result",
          "data": {
            "text/plain": [
              "(0.04306494971632906, 1.0260987036304685)"
            ]
          },
          "metadata": {},
          "execution_count": 75
        }
      ]
    },
    {
      "cell_type": "code",
      "source": [
        "from statsmodels.stats.weightstats import ztest"
      ],
      "metadata": {
        "id": "DqssfHaI0wCY"
      },
      "execution_count": 76,
      "outputs": []
    },
    {
      "cell_type": "code",
      "source": [
        "null_hypothesis=0.05\n",
        "zscore,pvalue=ztest(population,value=null_hypothesis,alternative='larger')"
      ],
      "metadata": {
        "id": "fQ1tFKfz1TrV"
      },
      "execution_count": 77,
      "outputs": []
    },
    {
      "cell_type": "code",
      "source": [
        "zscore"
      ],
      "metadata": {
        "colab": {
          "base_uri": "https://localhost:8080/"
        },
        "id": "kzqCyWqo1p4L",
        "outputId": "2ede4616-476b-4e7a-ee9c-b67ffea2343f"
      },
      "execution_count": 78,
      "outputs": [
        {
          "output_type": "execute_result",
          "data": {
            "text/plain": [
              "-0.21362064377101123"
            ]
          },
          "metadata": {},
          "execution_count": 78
        }
      ]
    },
    {
      "cell_type": "code",
      "source": [
        "pvalue"
      ],
      "metadata": {
        "colab": {
          "base_uri": "https://localhost:8080/"
        },
        "id": "mqKQrI2W1sIx",
        "outputId": "ba3d5cc9-cfea-4600-e1ea-2d2c5672a4b1"
      },
      "execution_count": 79,
      "outputs": [
        {
          "output_type": "execute_result",
          "data": {
            "text/plain": [
              "0.5845785502075143"
            ]
          },
          "metadata": {},
          "execution_count": 79
        }
      ]
    },
    {
      "cell_type": "code",
      "source": [
        "if pvalue<=0.05:\n",
        "  print(\"Reject the null hypothesis\")\n",
        "else:\n",
        "  print(\"failed to reject the null hypothesis\")"
      ],
      "metadata": {
        "colab": {
          "base_uri": "https://localhost:8080/"
        },
        "id": "K_V7WVeL2MUM",
        "outputId": "592626bc-7c88-484b-b148-2cf6c97aac22"
      },
      "execution_count": 80,
      "outputs": [
        {
          "output_type": "stream",
          "name": "stdout",
          "text": [
            "failed to reject the null hypothesis\n"
          ]
        }
      ]
    },
    {
      "cell_type": "markdown",
      "source": [
        "#Z-test question\n"
      ],
      "metadata": {
        "id": "xec8E51G9Uaj"
      }
    },
    {
      "cell_type": "code",
      "source": [
        "# Z-test question implementation\n",
        "#A school calculated iq scores of 50 students and the average turned out to be 100. mean iq of population is 90,standard devoation=16.\n",
        "#level of significance=5%\n",
        "#Null hypothesis=mean_iq=90\n",
        "#alternate hypothesis=mean_iq>90"
      ],
      "metadata": {
        "id": "F0mW-z_Q2eny"
      },
      "execution_count": 81,
      "outputs": []
    },
    {
      "cell_type": "markdown",
      "source": [
        "#Using zcritical approach\n"
      ],
      "metadata": {
        "id": "QfrBPfLO8NYE"
      }
    },
    {
      "cell_type": "code",
      "source": [
        "import scipy.stats as stats\n",
        "sample_mean=100\n",
        "population_mean=90\n",
        "population_std=16\n",
        "sample_size=50\n",
        "alpha=0.05"
      ],
      "metadata": {
        "id": "lHirNLfx8L9Z"
      },
      "execution_count": 82,
      "outputs": []
    },
    {
      "cell_type": "code",
      "source": [
        "zscore=(sample_mean-population_mean)/(population_std/np.sqrt(sample_size))\n",
        "zscore"
      ],
      "metadata": {
        "colab": {
          "base_uri": "https://localhost:8080/"
        },
        "id": "uoRB-LNx8qUp",
        "outputId": "30fff3ac-e241-4830-b61a-1242d9647043"
      },
      "execution_count": 83,
      "outputs": [
        {
          "output_type": "execute_result",
          "data": {
            "text/plain": [
              "4.419417382415922"
            ]
          },
          "metadata": {},
          "execution_count": 83
        }
      ]
    },
    {
      "cell_type": "code",
      "source": [
        "z_critical=stats.norm.ppf(1-alpha)\n",
        "z_critical"
      ],
      "metadata": {
        "colab": {
          "base_uri": "https://localhost:8080/"
        },
        "id": "1SbWuMfD88-0",
        "outputId": "d2292f3f-853e-4334-cc73-5779bd39d019"
      },
      "execution_count": 84,
      "outputs": [
        {
          "output_type": "execute_result",
          "data": {
            "text/plain": [
              "1.6448536269514722"
            ]
          },
          "metadata": {},
          "execution_count": 84
        }
      ]
    },
    {
      "cell_type": "code",
      "source": [
        "if zscore>zcritical:\n",
        "  print(\"Reject the hypothesis\")\n",
        "else:\n",
        "  print(\"Failed to reject the hypothesis\")"
      ],
      "metadata": {
        "colab": {
          "base_uri": "https://localhost:8080/"
        },
        "id": "1LQbjXCZ9G3w",
        "outputId": "8e53d382-2d29-46f7-a47c-290738512769"
      },
      "execution_count": 85,
      "outputs": [
        {
          "output_type": "stream",
          "name": "stdout",
          "text": [
            "Reject the hypothesis\n"
          ]
        }
      ]
    },
    {
      "cell_type": "markdown",
      "source": [
        "#p-value approach using scipy"
      ],
      "metadata": {
        "id": "b7dcdV1K94Yr"
      }
    },
    {
      "cell_type": "code",
      "source": [
        "p_value=1-stats.norm.cdf(zscore)\n",
        "p_value"
      ],
      "metadata": {
        "colab": {
          "base_uri": "https://localhost:8080/"
        },
        "id": "7kaHPea-98Gi",
        "outputId": "0d0dc64e-d2be-42c5-cd9d-2994b8cf9cfa"
      },
      "execution_count": 86,
      "outputs": [
        {
          "output_type": "execute_result",
          "data": {
            "text/plain": [
              "4.948367312573865e-06"
            ]
          },
          "metadata": {},
          "execution_count": 86
        }
      ]
    },
    {
      "cell_type": "code",
      "source": [
        "\n",
        "if p_value<=alpha:\n",
        "  print(\"Reject the hypothesis\")\n",
        "else:\n",
        "  print(\"failed to reject the null hypothesis\")"
      ],
      "metadata": {
        "colab": {
          "base_uri": "https://localhost:8080/"
        },
        "id": "2flavnnK-Jhb",
        "outputId": "8e451e56-d332-46ed-8cf4-8c28463f07ff"
      },
      "execution_count": 87,
      "outputs": [
        {
          "output_type": "stream",
          "name": "stdout",
          "text": [
            "Reject the hypothesis\n"
          ]
        }
      ]
    },
    {
      "cell_type": "markdown",
      "source": [
        "# How to know if teh data is normally distributed or not?"
      ],
      "metadata": {
        "id": "fUkXiUZrQ40l"
      }
    },
    {
      "cell_type": "code",
      "source": [
        "#Make distplot,Q-Q plot\n",
        "#statistical test to check data is normally distributed or not  shapirotest?"
      ],
      "metadata": {
        "id": "YtlvlSPCQ-Ki"
      },
      "execution_count": 88,
      "outputs": []
    },
    {
      "cell_type": "code",
      "source": [
        "data=np.random.randn(10000)"
      ],
      "metadata": {
        "id": "qfB4Y8W4S_gk"
      },
      "execution_count": 89,
      "outputs": []
    },
    {
      "cell_type": "code",
      "source": [
        "from scipy import stats\n",
        "stats.shapiro(data)"
      ],
      "metadata": {
        "colab": {
          "base_uri": "https://localhost:8080/"
        },
        "id": "h5VTt7dMTO0D",
        "outputId": "5e3bb9e6-5960-4f02-ed9b-44d4db598f5a"
      },
      "execution_count": 90,
      "outputs": [
        {
          "output_type": "stream",
          "name": "stderr",
          "text": [
            "/usr/local/lib/python3.10/dist-packages/scipy/stats/_morestats.py:1882: UserWarning: p-value may not be accurate for N > 5000.\n",
            "  warnings.warn(\"p-value may not be accurate for N > 5000.\")\n"
          ]
        },
        {
          "output_type": "execute_result",
          "data": {
            "text/plain": [
              "ShapiroResult(statistic=0.9996467232704163, pvalue=0.06526634097099304)"
            ]
          },
          "metadata": {},
          "execution_count": 90
        }
      ]
    },
    {
      "cell_type": "code",
      "source": [
        "#Pvalue >0.05 failed to reject it"
      ],
      "metadata": {
        "id": "5AeKRELuTmNL"
      },
      "execution_count": 91,
      "outputs": []
    },
    {
      "cell_type": "code",
      "source": [
        "sns.distplot(df['tip'])"
      ],
      "metadata": {
        "colab": {
          "base_uri": "https://localhost:8080/",
          "height": 657
        },
        "id": "Kxz3quinTu9e",
        "outputId": "8e44189f-775e-4127-b22b-e81e0e7e9627"
      },
      "execution_count": 92,
      "outputs": [
        {
          "output_type": "stream",
          "name": "stderr",
          "text": [
            "<ipython-input-92-3f4491b3d128>:1: UserWarning: \n",
            "\n",
            "`distplot` is a deprecated function and will be removed in seaborn v0.14.0.\n",
            "\n",
            "Please adapt your code to use either `displot` (a figure-level function with\n",
            "similar flexibility) or `histplot` (an axes-level function for histograms).\n",
            "\n",
            "For a guide to updating your code to use the new functions, please see\n",
            "https://gist.github.com/mwaskom/de44147ed2974457ad6372750bbe5751\n",
            "\n",
            "  sns.distplot(df['tip'])\n"
          ]
        },
        {
          "output_type": "execute_result",
          "data": {
            "text/plain": [
              "<Axes: xlabel='tip', ylabel='Density'>"
            ]
          },
          "metadata": {},
          "execution_count": 92
        },
        {
          "output_type": "display_data",
          "data": {
            "text/plain": [
              "<Figure size 640x480 with 1 Axes>"
            ],
            "image/png": "[encoded data removed]"
          },
          "metadata": {}
        }
      ]
    },
    {
      "cell_type": "code",
      "source": [
        "# In order to confirm tips is not normally distributed we can perform shapiro test to conform more on it rather than confirming only by visualization"
      ],
      "metadata": {
        "id": "qmZbq7laUQgX"
      },
      "execution_count": 93,
      "outputs": []
    },
    {
      "cell_type": "code",
      "source": [
        "stats.shapiro(df['tip'])"
      ],
      "metadata": {
        "colab": {
          "base_uri": "https://localhost:8080/"
        },
        "id": "70GXeRdiUffV",
        "outputId": "dafd0877-33cd-4bfc-a996-d41cb7a31944"
      },
      "execution_count": 94,
      "outputs": [
        {
          "output_type": "execute_result",
          "data": {
            "text/plain": [
              "ShapiroResult(statistic=0.8978114128112793, pvalue=8.200817629144819e-12)"
            ]
          },
          "metadata": {},
          "execution_count": 94
        }
      ]
    },
    {
      "cell_type": "code",
      "source": [
        "#pvalue<0.05 : reject the null hypothesis and  it is confirmed that  sample is not normally distributed"
      ],
      "metadata": {
        "id": "D5Z8pkMFUmDC"
      },
      "execution_count": 95,
      "outputs": []
    },
    {
      "cell_type": "markdown",
      "source": [
        "#t-test"
      ],
      "metadata": {
        "id": "n95xXeKD-3tw"
      }
    },
    {
      "cell_type": "code",
      "source": [
        "#sample size<30 and sigma of population is not given\n",
        "#One-sample t-test:(wrt one sample t-test)\n",
        "#Two-sample t-test:(wrt two sample t-test)\n",
        "#Paired t-test"
      ],
      "metadata": {
        "id": "feXpJDyz-5mp"
      },
      "execution_count": 96,
      "outputs": []
    },
    {
      "cell_type": "markdown",
      "source": [
        "# One sample t-test"
      ],
      "metadata": {
        "id": "wvq8ExKuCp2Z"
      }
    },
    {
      "cell_type": "code",
      "source": [
        "population=np.random.randint(10,50,50)\n",
        "population"
      ],
      "metadata": {
        "colab": {
          "base_uri": "https://localhost:8080/"
        },
        "id": "ZZEOzmnb-_nU",
        "outputId": "99e024b7-7462-4556-d95e-2199d02fb77f"
      },
      "execution_count": 97,
      "outputs": [
        {
          "output_type": "execute_result",
          "data": {
            "text/plain": [
              "array([40, 16, 44, 43, 20, 11, 35, 28, 44, 38, 34, 29, 29, 11, 33, 10, 10,\n",
              "       17, 42, 11, 19, 28, 33, 42, 42, 19, 41, 31, 33, 20, 46, 20, 42, 21,\n",
              "       36, 33, 29, 20, 27, 16, 33, 49, 17, 18, 35, 11, 38, 22, 25, 46])"
            ]
          },
          "metadata": {},
          "execution_count": 97
        }
      ]
    },
    {
      "cell_type": "code",
      "source": [
        "sample=np.random.choice(population,20)\n",
        "sample"
      ],
      "metadata": {
        "colab": {
          "base_uri": "https://localhost:8080/"
        },
        "id": "J0MLqGkOEBaa",
        "outputId": "f00877d1-e676-410b-9e5e-a57f4203f01c"
      },
      "execution_count": 98,
      "outputs": [
        {
          "output_type": "execute_result",
          "data": {
            "text/plain": [
              "array([41, 28, 16, 19, 42, 42, 42, 40, 10, 29, 28, 29, 42, 11, 21, 42, 28,\n",
              "       43, 25, 42])"
            ]
          },
          "metadata": {},
          "execution_count": 98
        }
      ]
    },
    {
      "cell_type": "code",
      "source": [
        "null_hypothesis=25\n",
        "import scipy\n",
        "scipy.stats.ttest_1samp(sample,null_hypothesis)"
      ],
      "metadata": {
        "colab": {
          "base_uri": "https://localhost:8080/"
        },
        "id": "PCZzQApZEIaI",
        "outputId": "d0a08cbd-d19a-41ff-9148-1b2147bc4a11"
      },
      "execution_count": 99,
      "outputs": [
        {
          "output_type": "execute_result",
          "data": {
            "text/plain": [
              "TtestResult(statistic=2.3717082451262845, pvalue=0.028426334427430144, df=19)"
            ]
          },
          "metadata": {},
          "execution_count": 99
        }
      ]
    },
    {
      "cell_type": "code",
      "source": [
        "#if pvalue<=0.05 \"reject the null hypothesis \" else \"failed to reject thr null hypothesis\""
      ],
      "metadata": {
        "id": "plQo3_hqEfSS"
      },
      "execution_count": 100,
      "outputs": []
    },
    {
      "cell_type": "markdown",
      "source": [
        "# Two Sample ttest"
      ],
      "metadata": {
        "id": "DZaLkEIIE0Uc"
      }
    },
    {
      "cell_type": "code",
      "source": [
        "virat_score=np.random.choice(population,20)\n",
        "virat_score"
      ],
      "metadata": {
        "colab": {
          "base_uri": "https://localhost:8080/"
        },
        "id": "IKyrQ1DaE3Wv",
        "outputId": "0b16c6d2-d234-4420-a5e5-ef97b628c15f"
      },
      "execution_count": 101,
      "outputs": [
        {
          "output_type": "execute_result",
          "data": {
            "text/plain": [
              "array([42, 33, 16, 17, 33, 42, 11, 33, 38, 29, 28, 28, 43, 44, 28, 33, 10,\n",
              "       33, 18, 44])"
            ]
          },
          "metadata": {},
          "execution_count": 101
        }
      ]
    },
    {
      "cell_type": "code",
      "source": [
        "rohit_sharma_score=np.random.choice(population,20)\n",
        "rohit_sharma_score"
      ],
      "metadata": {
        "colab": {
          "base_uri": "https://localhost:8080/"
        },
        "id": "upMBowowErTA",
        "outputId": "b8dd1c4f-67f9-4cbc-e369-06849d00b169"
      },
      "execution_count": 102,
      "outputs": [
        {
          "output_type": "execute_result",
          "data": {
            "text/plain": [
              "array([42, 11, 21, 16, 35, 20, 19, 33, 29, 34, 20, 10, 35, 20, 38, 42, 28,\n",
              "       43, 11, 25])"
            ]
          },
          "metadata": {},
          "execution_count": 102
        }
      ]
    },
    {
      "cell_type": "code",
      "source": [
        "np.mean(rohit_sharma_score), np.mean(virat_score)"
      ],
      "metadata": {
        "colab": {
          "base_uri": "https://localhost:8080/"
        },
        "id": "cc2b3yOdMgdE",
        "outputId": "3a5e508e-f009-4e73-b5e3-8c060906019c"
      },
      "execution_count": 103,
      "outputs": [
        {
          "output_type": "execute_result",
          "data": {
            "text/plain": [
              "(26.6, 30.15)"
            ]
          },
          "metadata": {},
          "execution_count": 103
        }
      ]
    },
    {
      "cell_type": "code",
      "source": [
        "scipy.stats.ttest_ind(rohit_sharma_score,virat_score)"
      ],
      "metadata": {
        "colab": {
          "base_uri": "https://localhost:8080/"
        },
        "id": "NHU82h4xNMLq",
        "outputId": "e038e6ae-3877-4e42-81b8-ce19b33f4314"
      },
      "execution_count": 104,
      "outputs": [
        {
          "output_type": "execute_result",
          "data": {
            "text/plain": [
              "TtestResult(statistic=-1.0367623991767483, pvalue=0.3063992648300499, df=38.0)"
            ]
          },
          "metadata": {},
          "execution_count": 104
        }
      ]
    },
    {
      "cell_type": "code",
      "source": [
        "#pvalue=0.9028511855233206>0.05 failed to reject the hypothesis"
      ],
      "metadata": {
        "id": "BUCSIbP9NaXo"
      },
      "execution_count": 105,
      "outputs": []
    },
    {
      "cell_type": "markdown",
      "source": [
        "#paired ttest:two samples from same  population at different level"
      ],
      "metadata": {
        "id": "jYmIs4CWN0GL"
      }
    },
    {
      "cell_type": "code",
      "source": [
        "rohit_score_first_inning=[10,12,14,16,18,20,22,24,26,28,30]\n",
        "rohit_score_second_inning=[12,16,14,20,18,24,21,28,27,10,32]"
      ],
      "metadata": {
        "id": "i597c3BxOEaj"
      },
      "execution_count": 106,
      "outputs": []
    },
    {
      "cell_type": "code",
      "source": [
        "np.mean(rohit_score_first_inning) , np.mean(rohit_score_second_inning)"
      ],
      "metadata": {
        "colab": {
          "base_uri": "https://localhost:8080/"
        },
        "id": "AitfsPU4N3fQ",
        "outputId": "d8d5e260-f259-478b-8c77-a5692d96cda6"
      },
      "execution_count": 107,
      "outputs": [
        {
          "output_type": "execute_result",
          "data": {
            "text/plain": [
              "(20.0, 20.181818181818183)"
            ]
          },
          "metadata": {},
          "execution_count": 107
        }
      ]
    },
    {
      "cell_type": "code",
      "source": [
        "scipy.stats.ttest_rel(rohit_score_first_inning,rohit_score_second_inning)"
      ],
      "metadata": {
        "colab": {
          "base_uri": "https://localhost:8080/"
        },
        "id": "mz0xZEy1PZjV",
        "outputId": "f026b1c5-924b-403f-b247-3a958daedf1b"
      },
      "execution_count": 108,
      "outputs": [
        {
          "output_type": "execute_result",
          "data": {
            "text/plain": [
              "TtestResult(statistic=-0.09562921842487447, pvalue=0.9257042876328008, df=10)"
            ]
          },
          "metadata": {},
          "execution_count": 108
        }
      ]
    },
    {
      "cell_type": "code",
      "source": [
        "#pvalue=0.9028511855233206>0.05 failed to reject the hypothesis"
      ],
      "metadata": {
        "id": "UuqlYL9dPjN0"
      },
      "execution_count": 109,
      "outputs": []
    },
    {
      "cell_type": "code",
      "source": [],
      "metadata": {
        "id": "MVYP79TaSadH"
      },
      "execution_count": 109,
      "outputs": []
    }
  ]
}